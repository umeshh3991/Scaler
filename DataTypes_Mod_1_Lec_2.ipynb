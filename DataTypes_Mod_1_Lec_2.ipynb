{
  "nbformat": 4,
  "nbformat_minor": 0,
  "metadata": {
    "colab": {
      "provenance": [],
      "authorship_tag": "ABX9TyORwHS7vEOmyjfugiSy8/6R",
      "include_colab_link": true
    },
    "kernelspec": {
      "name": "python3",
      "display_name": "Python 3"
    },
    "language_info": {
      "name": "python"
    }
  },
  "cells": [
    {
      "cell_type": "markdown",
      "metadata": {
        "id": "view-in-github",
        "colab_type": "text"
      },
      "source": [
        "<a href=\"https://colab.research.google.com/github/umeshh3991/Scaler/blob/main/DataTypes_Mod_1_Lec_2.ipynb\" target=\"_parent\"><img src=\"https://colab.research.google.com/assets/colab-badge.svg\" alt=\"Open In Colab\"/></a>"
      ]
    },
    {
      "cell_type": "markdown",
      "source": [
        "# Datatypes"
      ],
      "metadata": {
        "id": "k6zydsF8IaZM"
      }
    },
    {
      "cell_type": "code",
      "source": [
        "a = 6\n",
        "type(a)"
      ],
      "metadata": {
        "id": "WFKSkKYwIZLl",
        "outputId": "a4210f5d-682b-476b-b8de-4ab8e6f8e8eb",
        "colab": {
          "base_uri": "https://localhost:8080/"
        }
      },
      "execution_count": 10,
      "outputs": [
        {
          "output_type": "execute_result",
          "data": {
            "text/plain": [
              "int"
            ]
          },
          "metadata": {},
          "execution_count": 10
        }
      ]
    },
    {
      "cell_type": "code",
      "source": [
        "a = 12.5\n",
        "type(a)"
      ],
      "metadata": {
        "id": "0tmMHvFxFzF0",
        "outputId": "01ea356d-1efb-452d-9dc4-959bdc0ff862",
        "colab": {
          "base_uri": "https://localhost:8080/"
        }
      },
      "execution_count": 3,
      "outputs": [
        {
          "output_type": "execute_result",
          "data": {
            "text/plain": [
              "float"
            ]
          },
          "metadata": {},
          "execution_count": 3
        }
      ]
    },
    {
      "cell_type": "code",
      "source": [
        "a = \"Umesh\"\n",
        "type(a)"
      ],
      "metadata": {
        "id": "wQKifHHgF6TV",
        "outputId": "f1672daf-b076-46b3-d48a-f700c7a6d201",
        "colab": {
          "base_uri": "https://localhost:8080/"
        }
      },
      "execution_count": 4,
      "outputs": [
        {
          "output_type": "execute_result",
          "data": {
            "text/plain": [
              "str"
            ]
          },
          "metadata": {},
          "execution_count": 4
        }
      ]
    },
    {
      "cell_type": "markdown",
      "source": [
        "Q. Find the average of 3 numbers"
      ],
      "metadata": {
        "id": "l1iviMWIG2AQ"
      }
    },
    {
      "cell_type": "code",
      "source": [
        "# Read 3 numbers\n",
        "a = 6\n",
        "b = 45\n",
        "c = 12\n",
        "\n",
        "# Process\n",
        "Avg = (a+b+c)/3\n",
        "\n",
        "#Print output\n",
        "print(int(Avg))\n",
        "\n"
      ],
      "metadata": {
        "id": "ZTLYmjg3Gssb",
        "outputId": "dffdf0da-4b17-4647-d986-df4ff2e32cb3",
        "colab": {
          "base_uri": "https://localhost:8080/"
        }
      },
      "execution_count": 11,
      "outputs": [
        {
          "output_type": "stream",
          "name": "stdout",
          "text": [
            "21\n"
          ]
        }
      ]
    },
    {
      "cell_type": "markdown",
      "source": [
        "# RAM Address"
      ],
      "metadata": {
        "id": "kBj_BhFeJpA4"
      }
    },
    {
      "cell_type": "code",
      "source": [
        "a = 56\n",
        "print(id(a))\n",
        "\n",
        "b = a\n",
        "print(id(b))\n",
        "\n",
        "c = 56\n",
        "print(id(c))"
      ],
      "metadata": {
        "id": "QAnF0xwJJoJI",
        "outputId": "7fab6937-48a9-4426-99b0-fd6e2020dd81",
        "colab": {
          "base_uri": "https://localhost:8080/"
        }
      },
      "execution_count": 14,
      "outputs": [
        {
          "output_type": "stream",
          "name": "stdout",
          "text": [
            "138260253870032\n",
            "138260253870032\n",
            "138260253870032\n"
          ]
        }
      ]
    },
    {
      "cell_type": "code",
      "source": [
        "# If number does not comes under range -5 to 256 then, RAM address will be different\n",
        "\n",
        "a = 257\n",
        "print(id(a))\n",
        "\n",
        "b = a\n",
        "print(id(b))\n",
        "\n",
        "c = 257\n",
        "print(id(c))"
      ],
      "metadata": {
        "id": "wKFu0KtNMgkp",
        "outputId": "23ac2f3c-aa8a-47b8-85e1-2f955503aec1",
        "colab": {
          "base_uri": "https://localhost:8080/"
        }
      },
      "execution_count": 15,
      "outputs": [
        {
          "output_type": "stream",
          "name": "stdout",
          "text": [
            "138258970602480\n",
            "138258970602480\n",
            "138258970601488\n"
          ]
        }
      ]
    }
  ]
}