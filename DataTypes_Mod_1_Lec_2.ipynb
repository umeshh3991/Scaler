{
  "nbformat": 4,
  "nbformat_minor": 0,
  "metadata": {
    "colab": {
      "provenance": [],
      "authorship_tag": "ABX9TyMLQlY6V9l9cpJbGUjU6won",
      "include_colab_link": true
    },
    "kernelspec": {
      "name": "python3",
      "display_name": "Python 3"
    },
    "language_info": {
      "name": "python"
    }
  },
  "cells": [
    {
      "cell_type": "markdown",
      "metadata": {
        "id": "view-in-github",
        "colab_type": "text"
      },
      "source": [
        "<a href=\"https://colab.research.google.com/github/umeshh3991/Scaler/blob/main/DataTypes_Mod_1_Lec_2.ipynb\" target=\"_parent\"><img src=\"https://colab.research.google.com/assets/colab-badge.svg\" alt=\"Open In Colab\"/></a>"
      ]
    },
    {
      "cell_type": "markdown",
      "source": [
        "# Datatypes"
      ],
      "metadata": {
        "id": "k6zydsF8IaZM"
      }
    },
    {
      "cell_type": "code",
      "source": [
        "a = 6\n",
        "type(a)"
      ],
      "metadata": {
        "id": "WFKSkKYwIZLl",
        "outputId": "a4210f5d-682b-476b-b8de-4ab8e6f8e8eb",
        "colab": {
          "base_uri": "https://localhost:8080/"
        }
      },
      "execution_count": null,
      "outputs": [
        {
          "output_type": "execute_result",
          "data": {
            "text/plain": [
              "int"
            ]
          },
          "metadata": {},
          "execution_count": 10
        }
      ]
    },
    {
      "cell_type": "code",
      "source": [
        "a = 12.5\n",
        "type(a)"
      ],
      "metadata": {
        "id": "0tmMHvFxFzF0",
        "outputId": "01ea356d-1efb-452d-9dc4-959bdc0ff862",
        "colab": {
          "base_uri": "https://localhost:8080/"
        }
      },
      "execution_count": null,
      "outputs": [
        {
          "output_type": "execute_result",
          "data": {
            "text/plain": [
              "float"
            ]
          },
          "metadata": {},
          "execution_count": 3
        }
      ]
    },
    {
      "cell_type": "code",
      "source": [
        "a = \"Umesh\"\n",
        "type(a)"
      ],
      "metadata": {
        "id": "wQKifHHgF6TV",
        "outputId": "f1672daf-b076-46b3-d48a-f700c7a6d201",
        "colab": {
          "base_uri": "https://localhost:8080/"
        }
      },
      "execution_count": null,
      "outputs": [
        {
          "output_type": "execute_result",
          "data": {
            "text/plain": [
              "str"
            ]
          },
          "metadata": {},
          "execution_count": 4
        }
      ]
    },
    {
      "cell_type": "markdown",
      "source": [
        "Q. Find the average of 3 numbers"
      ],
      "metadata": {
        "id": "l1iviMWIG2AQ"
      }
    },
    {
      "cell_type": "code",
      "source": [
        "# Read 3 numbers\n",
        "a = 6\n",
        "b = 45\n",
        "c = 12\n",
        "\n",
        "# Process\n",
        "Avg = (a+b+c)/3\n",
        "\n",
        "#Print output\n",
        "print(int(Avg))\n",
        "\n"
      ],
      "metadata": {
        "id": "ZTLYmjg3Gssb",
        "outputId": "dffdf0da-4b17-4647-d986-df4ff2e32cb3",
        "colab": {
          "base_uri": "https://localhost:8080/"
        }
      },
      "execution_count": null,
      "outputs": [
        {
          "output_type": "stream",
          "name": "stdout",
          "text": [
            "21\n"
          ]
        }
      ]
    },
    {
      "cell_type": "markdown",
      "source": [
        "# RAM Address"
      ],
      "metadata": {
        "id": "kBj_BhFeJpA4"
      }
    },
    {
      "cell_type": "code",
      "source": [
        "a = 56\n",
        "print(id(a))\n",
        "\n",
        "b = a\n",
        "print(id(b))\n",
        "\n",
        "c = 56\n",
        "print(id(c))"
      ],
      "metadata": {
        "id": "QAnF0xwJJoJI",
        "outputId": "7fab6937-48a9-4426-99b0-fd6e2020dd81",
        "colab": {
          "base_uri": "https://localhost:8080/"
        }
      },
      "execution_count": null,
      "outputs": [
        {
          "output_type": "stream",
          "name": "stdout",
          "text": [
            "138260253870032\n",
            "138260253870032\n",
            "138260253870032\n"
          ]
        }
      ]
    },
    {
      "cell_type": "code",
      "source": [
        "# If number does not comes under range -5 to 256 then, RAM address will be different\n",
        "\n",
        "a = 257\n",
        "print(id(a))\n",
        "\n",
        "b = a\n",
        "print(id(b))\n",
        "\n",
        "c = 257\n",
        "print(id(c))"
      ],
      "metadata": {
        "id": "wKFu0KtNMgkp",
        "outputId": "23ac2f3c-aa8a-47b8-85e1-2f955503aec1",
        "colab": {
          "base_uri": "https://localhost:8080/"
        }
      },
      "execution_count": null,
      "outputs": [
        {
          "output_type": "stream",
          "name": "stdout",
          "text": [
            "138258970602480\n",
            "138258970602480\n",
            "138258970601488\n"
          ]
        }
      ]
    },
    {
      "cell_type": "markdown",
      "source": [
        "Assignments and H/W"
      ],
      "metadata": {
        "id": "W9R6pzgHiOAZ"
      }
    },
    {
      "cell_type": "markdown",
      "source": [
        "Q. WAP to print ODD numbers"
      ],
      "metadata": {
        "id": "0LipUeWfiRNg"
      }
    },
    {
      "cell_type": "code",
      "source": [
        "odd1 = int(input(\"Enter the range : \"))\n",
        "\n",
        "for i in range (odd1+1):\n",
        "  if (i % 2 != 0):\n",
        "    print(i, end = \" \")"
      ],
      "metadata": {
        "id": "az-KFEW7iVPX",
        "outputId": "fec0c7fd-747f-451b-9b51-e7f9bb789bcf",
        "colab": {
          "base_uri": "https://localhost:8080/"
        }
      },
      "execution_count": 1,
      "outputs": [
        {
          "output_type": "stream",
          "name": "stdout",
          "text": [
            "Enter the range : 9\n",
            "1 3 5 7 9 "
          ]
        }
      ]
    },
    {
      "cell_type": "markdown",
      "source": [
        "Q. WAP to take to inputs and print their sum,diff,mul and div"
      ],
      "metadata": {
        "id": "Skcobg7wjA5L"
      }
    },
    {
      "cell_type": "code",
      "source": [
        "n1 = int(input(\"Enter 1st number : \"))\n",
        "n2 = int(input(\"Enter 2nd number : \"))\n",
        "\n",
        "print(\"Addition is       : \", (n1+n2))\n",
        "print(\"Subtraction is    : \", (n1-n2))\n",
        "print(\"Multiplication is : \", (n1*n2))\n",
        "print(\"Division is       : \", int(n1/n2))"
      ],
      "metadata": {
        "id": "G-8M8aXHjG3t",
        "outputId": "b5dc12a4-5ced-4b2e-8304-95eb1f714e4d",
        "colab": {
          "base_uri": "https://localhost:8080/"
        }
      },
      "execution_count": 7,
      "outputs": [
        {
          "output_type": "stream",
          "name": "stdout",
          "text": [
            "Enter 1st number : 6\n",
            "Enter 2nd number : 3\n",
            "Addition is       :  9\n",
            "Subtraction is    :  3\n",
            "Multiplication is :  18\n",
            "Division is       :  2\n"
          ]
        }
      ]
    },
    {
      "cell_type": "markdown",
      "source": [
        "Q. Print the following\n",
        "- 2 Two 4 Four 6 Six"
      ],
      "metadata": {
        "id": "g5QMqEBckOSs"
      }
    },
    {
      "cell_type": "code",
      "source": [
        "num = str(input(\"Enter the number : \"))\n",
        "\n",
        "for i in num:\n",
        "  if (i == \"0\"):\n",
        "    print(i, \"zero\", end = \" \")\n",
        "  if (i == \"1\"):\n",
        "    print(i, \"one\", end = \" \")\n",
        "  if (i == \"2\"):\n",
        "    print(i, \"two\", end = \" \")\n",
        "  if (i == \"3\"):\n",
        "    print(i, \"three\", end = \" \")\n",
        "  if (i == \"4\"):\n",
        "    print(i, \"four\", end = \" \")\n",
        "  if (i == \"5\"):\n",
        "    print(i, \"five\", end = \" \")\n",
        "  if (i == \"6\"):\n",
        "    print(i, \"six\", end = \" \")\n",
        "  if (i == \"7\"):\n",
        "    print(i, \"seven\", end = \" \")\n",
        "  if (i == \"8\"):\n",
        "    print(i, \"eight\", end = \" \")\n",
        "  if (i == \"9\"):\n",
        "    print(i, \"nine\", end = \" \")\n"
      ],
      "metadata": {
        "id": "MJmGAfNHkTkg",
        "outputId": "5c3efa60-16bf-4e59-9b63-3fe67d9dc641",
        "colab": {
          "base_uri": "https://localhost:8080/"
        }
      },
      "execution_count": 20,
      "outputs": [
        {
          "output_type": "stream",
          "name": "stdout",
          "text": [
            "Enter the number : 987\n",
            "9 nine 8 eight 7 seven "
          ]
        }
      ]
    }
  ]
}