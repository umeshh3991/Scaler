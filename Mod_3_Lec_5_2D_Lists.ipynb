{
  "nbformat": 4,
  "nbformat_minor": 0,
  "metadata": {
    "colab": {
      "provenance": [],
      "authorship_tag": "ABX9TyNAdy8fqoLLApt5ZKbvJkv5",
      "include_colab_link": true
    },
    "kernelspec": {
      "name": "python3",
      "display_name": "Python 3"
    },
    "language_info": {
      "name": "python"
    }
  },
  "cells": [
    {
      "cell_type": "markdown",
      "metadata": {
        "id": "view-in-github",
        "colab_type": "text"
      },
      "source": [
        "<a href=\"https://colab.research.google.com/github/umeshh3991/Scaler/blob/Module-2/Mod_3_Lec_5_2D_Lists.ipynb\" target=\"_parent\"><img src=\"https://colab.research.google.com/assets/colab-badge.svg\" alt=\"Open In Colab\"/></a>"
      ]
    },
    {
      "cell_type": "markdown",
      "source": [
        "## 2-D List"
      ],
      "metadata": {
        "id": "Kjri-NA5xh01"
      }
    },
    {
      "cell_type": "code",
      "source": [
        "a = [\n",
        "    [1, 2, 3],\n",
        "    [4, 5, 6],\n",
        "    [7, 8, 9],\n",
        "    ]"
      ],
      "metadata": {
        "id": "SV34-Y-_xlhj"
      },
      "execution_count": null,
      "outputs": []
    },
    {
      "cell_type": "code",
      "source": [
        "a"
      ],
      "metadata": {
        "colab": {
          "base_uri": "https://localhost:8080/"
        },
        "id": "5hIqgaLJxkQg",
        "outputId": "d51a29fb-60f0-436e-ef52-95fbcb3a457b"
      },
      "execution_count": null,
      "outputs": [
        {
          "output_type": "execute_result",
          "data": {
            "text/plain": [
              "[[1, 2, 3], [4, 5, 6], [7, 8, 9]]"
            ]
          },
          "metadata": {},
          "execution_count": 2
        }
      ]
    },
    {
      "cell_type": "code",
      "source": [
        "a[2][1]"
      ],
      "metadata": {
        "colab": {
          "base_uri": "https://localhost:8080/"
        },
        "id": "epasSqP4x4Nz",
        "outputId": "c1620a83-ca9e-4cfe-c549-05541012a920"
      },
      "execution_count": null,
      "outputs": [
        {
          "output_type": "execute_result",
          "data": {
            "text/plain": [
              "8"
            ]
          },
          "metadata": {},
          "execution_count": 3
        }
      ]
    },
    {
      "cell_type": "markdown",
      "source": [
        "Q. Take a 3x3 matrix as an input from the user. Given the matrix\n",
        "   - Calculate the sum of all the elements in the matrix.\n",
        "   - Calculate the sum of each row.\n",
        "   - Calculate the sum of each column."
      ],
      "metadata": {
        "id": "eLYRrLJu3Nwa"
      }
    },
    {
      "cell_type": "code",
      "source": [
        "## Creating a 3x3 matrix by taking input from user\n",
        "\n",
        "arr = []\n",
        "\n",
        "for i in range(3):\n",
        "  row = []\n",
        "  for j in range(3):\n",
        "    row.append(int(input()))\n",
        "  arr.append(row)\n",
        "\n",
        "print(arr)"
      ],
      "metadata": {
        "colab": {
          "base_uri": "https://localhost:8080/"
        },
        "id": "TBZ_DVhH_isi",
        "outputId": "649bd493-74ab-4eb1-e180-a597fb7a50bb"
      },
      "execution_count": 3,
      "outputs": [
        {
          "output_type": "stream",
          "name": "stdout",
          "text": [
            "1\n",
            "2\n",
            "3\n",
            "4\n",
            "5\n",
            "6\n",
            "7\n",
            "8\n",
            "9\n",
            "[[1, 2, 3], [4, 5, 6], [7, 8, 9]]\n"
          ]
        }
      ]
    },
    {
      "cell_type": "markdown",
      "source": [
        "## Using Range function in FOR loop"
      ],
      "metadata": {
        "id": "4H8Gk30kpyr7"
      }
    },
    {
      "cell_type": "code",
      "source": [
        "## Calculate the sum of all the elements in the matrix.\n",
        "\n",
        "sum = 0\n",
        "\n",
        "for i in range(len(arr)):\n",
        "  for j in range(len(arr)):\n",
        "    sum = sum + arr[i][j]\n",
        "\n",
        "print(sum)"
      ],
      "metadata": {
        "id": "mDAREjp_aaPS",
        "outputId": "70baad85-e0d0-4c2e-c184-4de5a0b5accb",
        "colab": {
          "base_uri": "https://localhost:8080/"
        }
      },
      "execution_count": null,
      "outputs": [
        {
          "output_type": "stream",
          "name": "stdout",
          "text": [
            "45\n"
          ]
        }
      ]
    },
    {
      "cell_type": "code",
      "source": [
        "##Calculate the sum of each row.\n",
        "\n",
        "sum = 0\n",
        "\n",
        "for i in range(len(arr)):\n",
        "  for j in range(len(arr)):\n",
        "    sum = sum + arr[i][j]\n",
        "  print(sum)\n",
        "  sum = 0"
      ],
      "metadata": {
        "id": "Zt8JMdJUcEz7",
        "outputId": "61a24503-8328-43f4-8d01-8a384c5f607d",
        "colab": {
          "base_uri": "https://localhost:8080/"
        }
      },
      "execution_count": null,
      "outputs": [
        {
          "output_type": "stream",
          "name": "stdout",
          "text": [
            "6\n",
            "15\n",
            "24\n"
          ]
        }
      ]
    },
    {
      "cell_type": "code",
      "source": [
        "## Calculate the sum of each column.\n",
        "\n",
        "sum = 0\n",
        "\n",
        "for i in range(len(arr)):\n",
        "  for j in range(len(arr)):\n",
        "    sum = sum + arr[j][i]\n",
        "  print(sum)\n",
        "  sum = 0"
      ],
      "metadata": {
        "id": "n0wZKM_kdokC",
        "outputId": "6d71c7cc-3cfb-4255-c83a-db93d6e29db6",
        "colab": {
          "base_uri": "https://localhost:8080/"
        }
      },
      "execution_count": null,
      "outputs": [
        {
          "output_type": "stream",
          "name": "stdout",
          "text": [
            "12\n",
            "15\n",
            "18\n"
          ]
        }
      ]
    },
    {
      "cell_type": "markdown",
      "source": [
        "## Using VALUE in FOR Loop"
      ],
      "metadata": {
        "id": "KuoHr501p59b"
      }
    },
    {
      "cell_type": "code",
      "source": [
        "arr"
      ],
      "metadata": {
        "id": "37f0vA9HbT5K",
        "outputId": "7ee4d33e-4acc-4580-9c73-cb359d3df055",
        "colab": {
          "base_uri": "https://localhost:8080/"
        }
      },
      "execution_count": 7,
      "outputs": [
        {
          "output_type": "execute_result",
          "data": {
            "text/plain": [
              "[[1, 2, 3], [4, 5, 6], [7, 8, 9]]"
            ]
          },
          "metadata": {},
          "execution_count": 7
        }
      ]
    },
    {
      "cell_type": "code",
      "source": [
        "## Calculate the sum of all the elements in the matrix.\n",
        "\n",
        "sum = 0\n",
        "\n",
        "for i in arr:\n",
        "  for j in i:\n",
        "    sum = sum + j\n",
        "\n",
        "print(sum)"
      ],
      "metadata": {
        "id": "Z3V_yU9mp9Vf",
        "outputId": "d7397fea-5fb2-4e3d-b94b-881fb584a1e1",
        "colab": {
          "base_uri": "https://localhost:8080/"
        }
      },
      "execution_count": 5,
      "outputs": [
        {
          "output_type": "stream",
          "name": "stdout",
          "text": [
            "45\n"
          ]
        }
      ]
    },
    {
      "cell_type": "code",
      "source": [
        "##Calculate the sum of each row.\n",
        "\n",
        "sum = 0\n",
        "\n",
        "for i in arr:\n",
        "  for j in i:\n",
        "    sum = sum + j\n",
        "  print(sum)\n",
        "  sum = 0"
      ],
      "metadata": {
        "id": "hiE5kGtinGml",
        "outputId": "00624f06-7627-40ef-e99f-c9d453de4952",
        "colab": {
          "base_uri": "https://localhost:8080/"
        }
      },
      "execution_count": 11,
      "outputs": [
        {
          "output_type": "stream",
          "name": "stdout",
          "text": [
            "6\n",
            "15\n",
            "24\n"
          ]
        }
      ]
    },
    {
      "cell_type": "code",
      "source": [
        "## Calculate the sum of each column.\n",
        "\n",
        "sum = 0\n",
        "\n",
        "for i in range(len(arr)):\n",
        "  for j in arr:\n",
        "    sum = sum + j[i]\n",
        "  print(sum)\n",
        "  sum = 0"
      ],
      "metadata": {
        "id": "rLjSpIuxnmQb",
        "outputId": "a96ac392-a3c3-4af1-c872-09e8c82745e6",
        "colab": {
          "base_uri": "https://localhost:8080/"
        }
      },
      "execution_count": 22,
      "outputs": [
        {
          "output_type": "stream",
          "name": "stdout",
          "text": [
            "12\n",
            "15\n",
            "18\n"
          ]
        }
      ]
    },
    {
      "cell_type": "code",
      "source": [
        "#  If you don't get the above code this is the clue\n",
        "\n",
        "for j in arr:\n",
        "  print(j)\n",
        "  print(j[0])"
      ],
      "metadata": {
        "id": "DhMrxPtcwD8o",
        "outputId": "27b87328-f4bc-4fcb-a03f-5d6eea489ef3",
        "colab": {
          "base_uri": "https://localhost:8080/"
        }
      },
      "execution_count": 21,
      "outputs": [
        {
          "output_type": "stream",
          "name": "stdout",
          "text": [
            "[1, 2, 3]\n",
            "1\n",
            "[4, 5, 6]\n",
            "4\n",
            "[7, 8, 9]\n",
            "7\n"
          ]
        }
      ]
    },
    {
      "cell_type": "markdown",
      "source": [
        "## Map"
      ],
      "metadata": {
        "id": "RzxdEqpJ541u"
      }
    },
    {
      "cell_type": "code",
      "source": [
        "a = [1,2,3,4,5]\n",
        "res = []\n",
        "\n",
        "for i in a:\n",
        "  res.append(i ** 2)\n",
        "\n",
        "print(res)"
      ],
      "metadata": {
        "id": "-aCk1yPo56Dc",
        "outputId": "c51e1495-dfae-47ed-95ef-f4e0c8958a00",
        "colab": {
          "base_uri": "https://localhost:8080/"
        }
      },
      "execution_count": 29,
      "outputs": [
        {
          "output_type": "stream",
          "name": "stdout",
          "text": [
            "[1, 4, 9, 16, 25]\n"
          ]
        }
      ]
    },
    {
      "cell_type": "code",
      "source": [
        "a = [1, 2, 3, 4, 5]\n",
        "\n",
        "def square(x):\n",
        "  return (x ** 2)"
      ],
      "metadata": {
        "id": "Azb26d8S9UKY"
      },
      "execution_count": 31,
      "outputs": []
    },
    {
      "cell_type": "code",
      "source": [
        "list(map(square, a))"
      ],
      "metadata": {
        "id": "0nzgMkSr9-K8",
        "outputId": "58a6e65a-315d-46d1-8f31-e6ad5af0ecec",
        "colab": {
          "base_uri": "https://localhost:8080/"
        }
      },
      "execution_count": 34,
      "outputs": [
        {
          "output_type": "execute_result",
          "data": {
            "text/plain": [
              "[1, 4, 9, 16, 25]"
            ]
          },
          "metadata": {},
          "execution_count": 34
        }
      ]
    },
    {
      "cell_type": "code",
      "source": [
        "a = input().split()"
      ],
      "metadata": {
        "id": "7mUzz1IM_hG4",
        "outputId": "3e211df4-ddf7-44e0-dc5a-ebd2431cb0dd",
        "colab": {
          "base_uri": "https://localhost:8080/"
        }
      },
      "execution_count": 38,
      "outputs": [
        {
          "name": "stdout",
          "output_type": "stream",
          "text": [
            "1 2 3 4 5\n"
          ]
        }
      ]
    },
    {
      "cell_type": "code",
      "source": [
        "print(a)\n",
        "type(a[0])"
      ],
      "metadata": {
        "id": "W0mCYzs0_3Nb",
        "outputId": "c0dab248-e068-46d8-cada-932fef0e2eb4",
        "colab": {
          "base_uri": "https://localhost:8080/"
        }
      },
      "execution_count": 41,
      "outputs": [
        {
          "output_type": "stream",
          "name": "stdout",
          "text": [
            "['1', '2', '3', '4', '5']\n"
          ]
        },
        {
          "output_type": "execute_result",
          "data": {
            "text/plain": [
              "str"
            ]
          },
          "metadata": {},
          "execution_count": 41
        }
      ]
    },
    {
      "cell_type": "code",
      "source": [
        "## Conver the list of strings in list of int. We can use map(func,keyword) for this\n",
        "\n",
        "list(map(int,a))"
      ],
      "metadata": {
        "id": "wd993aGr_9do",
        "outputId": "da852a52-dc42-4d7a-b3b6-e9d6c1a44f3b",
        "colab": {
          "base_uri": "https://localhost:8080/"
        }
      },
      "execution_count": 43,
      "outputs": [
        {
          "output_type": "execute_result",
          "data": {
            "text/plain": [
              "[1, 2, 3, 4, 5]"
            ]
          },
          "metadata": {},
          "execution_count": 43
        }
      ]
    }
  ]
}