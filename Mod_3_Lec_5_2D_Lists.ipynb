{
  "nbformat": 4,
  "nbformat_minor": 0,
  "metadata": {
    "colab": {
      "provenance": [],
      "authorship_tag": "ABX9TyNN0wp+5DCHYSe6hyvc0Sl9",
      "include_colab_link": true
    },
    "kernelspec": {
      "name": "python3",
      "display_name": "Python 3"
    },
    "language_info": {
      "name": "python"
    }
  },
  "cells": [
    {
      "cell_type": "markdown",
      "metadata": {
        "id": "view-in-github",
        "colab_type": "text"
      },
      "source": [
        "<a href=\"https://colab.research.google.com/github/umeshh3991/Scaler/blob/Module-2/Mod_3_Lec_5_2D_Lists.ipynb\" target=\"_parent\"><img src=\"https://colab.research.google.com/assets/colab-badge.svg\" alt=\"Open In Colab\"/></a>"
      ]
    },
    {
      "cell_type": "markdown",
      "source": [
        "## 2-D List"
      ],
      "metadata": {
        "id": "Kjri-NA5xh01"
      }
    },
    {
      "cell_type": "code",
      "source": [
        "a = [\n",
        "    [1, 2, 3],\n",
        "    [4, 5, 6],\n",
        "    [7, 8, 9],\n",
        "    ]"
      ],
      "metadata": {
        "id": "SV34-Y-_xlhj"
      },
      "execution_count": 1,
      "outputs": []
    },
    {
      "cell_type": "code",
      "source": [
        "a"
      ],
      "metadata": {
        "colab": {
          "base_uri": "https://localhost:8080/"
        },
        "id": "5hIqgaLJxkQg",
        "outputId": "d51a29fb-60f0-436e-ef52-95fbcb3a457b"
      },
      "execution_count": 2,
      "outputs": [
        {
          "output_type": "execute_result",
          "data": {
            "text/plain": [
              "[[1, 2, 3], [4, 5, 6], [7, 8, 9]]"
            ]
          },
          "metadata": {},
          "execution_count": 2
        }
      ]
    },
    {
      "cell_type": "code",
      "source": [
        "a[2][1]"
      ],
      "metadata": {
        "colab": {
          "base_uri": "https://localhost:8080/"
        },
        "id": "epasSqP4x4Nz",
        "outputId": "c1620a83-ca9e-4cfe-c549-05541012a920"
      },
      "execution_count": 3,
      "outputs": [
        {
          "output_type": "execute_result",
          "data": {
            "text/plain": [
              "8"
            ]
          },
          "metadata": {},
          "execution_count": 3
        }
      ]
    },
    {
      "cell_type": "markdown",
      "source": [
        "Q. Take a 3x3 matrix as an input from the user. Given the matrix\n",
        "   - Calculate the sum of all the elements in the matrix.\n",
        "   - Calculate the sum of each row.\n",
        "   - Calculate the sum of each column."
      ],
      "metadata": {
        "id": "eLYRrLJu3Nwa"
      }
    },
    {
      "cell_type": "code",
      "source": [
        "## Creating a 3x3 matrix by taking input from user\n",
        "\n",
        "arr = []\n",
        "\n",
        "for i in range(3):\n",
        "  row = []\n",
        "  for j in range(3):\n",
        "    row.append(int(input()))\n",
        "  arr.append(row)\n",
        "\n",
        "print(arr)"
      ],
      "metadata": {
        "colab": {
          "base_uri": "https://localhost:8080/"
        },
        "id": "TBZ_DVhH_isi",
        "outputId": "fa7bc5c6-f683-414a-cc2f-b4f71787b057"
      },
      "execution_count": 15,
      "outputs": [
        {
          "output_type": "stream",
          "name": "stdout",
          "text": [
            "1\n",
            "2\n",
            "3\n",
            "4\n",
            "5\n",
            "6\n",
            "7\n",
            "8\n",
            "9\n",
            "[[1, 2, 3], [4, 5, 6], [7, 8, 9]]\n"
          ]
        }
      ]
    },
    {
      "cell_type": "markdown",
      "source": [
        "## Using Range function in FOR loop"
      ],
      "metadata": {
        "id": "4H8Gk30kpyr7"
      }
    },
    {
      "cell_type": "code",
      "source": [
        "## Calculate the sum of all the elements in the matrix.\n",
        "\n",
        "sum = 0\n",
        "\n",
        "for i in range(len(arr)):\n",
        "  for j in range(len(arr)):\n",
        "    sum = sum + arr[i][j]\n",
        "\n",
        "print(sum)"
      ],
      "metadata": {
        "id": "mDAREjp_aaPS",
        "outputId": "70baad85-e0d0-4c2e-c184-4de5a0b5accb",
        "colab": {
          "base_uri": "https://localhost:8080/"
        }
      },
      "execution_count": 30,
      "outputs": [
        {
          "output_type": "stream",
          "name": "stdout",
          "text": [
            "45\n"
          ]
        }
      ]
    },
    {
      "cell_type": "code",
      "source": [
        "##Calculate the sum of each row.\n",
        "\n",
        "sum = 0\n",
        "\n",
        "for i in range(len(arr)):\n",
        "  for j in range(len(arr)):\n",
        "    sum = sum + arr[i][j]\n",
        "  print(sum)\n",
        "  sum = 0"
      ],
      "metadata": {
        "id": "Zt8JMdJUcEz7",
        "outputId": "61a24503-8328-43f4-8d01-8a384c5f607d",
        "colab": {
          "base_uri": "https://localhost:8080/"
        }
      },
      "execution_count": 32,
      "outputs": [
        {
          "output_type": "stream",
          "name": "stdout",
          "text": [
            "6\n",
            "15\n",
            "24\n"
          ]
        }
      ]
    },
    {
      "cell_type": "code",
      "source": [
        "## Calculate the sum of each column.\n",
        "\n",
        "sum = 0\n",
        "\n",
        "for i in range(len(arr)):\n",
        "  for j in range(len(arr)):\n",
        "    sum = sum + arr[j][i]\n",
        "  print(sum)\n",
        "  sum = 0"
      ],
      "metadata": {
        "id": "n0wZKM_kdokC",
        "outputId": "6d71c7cc-3cfb-4255-c83a-db93d6e29db6",
        "colab": {
          "base_uri": "https://localhost:8080/"
        }
      },
      "execution_count": 33,
      "outputs": [
        {
          "output_type": "stream",
          "name": "stdout",
          "text": [
            "12\n",
            "15\n",
            "18\n"
          ]
        }
      ]
    },
    {
      "cell_type": "markdown",
      "source": [
        "## Using VALUE in FOR Loop"
      ],
      "metadata": {
        "id": "KuoHr501p59b"
      }
    },
    {
      "cell_type": "code",
      "source": [
        "## Calculate the sum of all the elements in the matrix.\n",
        "\n",
        "sum = 0\n",
        "\n"
      ],
      "metadata": {
        "id": "Z3V_yU9mp9Vf"
      },
      "execution_count": null,
      "outputs": []
    }
  ]
}