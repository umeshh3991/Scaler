{
  "nbformat": 4,
  "nbformat_minor": 0,
  "metadata": {
    "colab": {
      "provenance": [],
      "authorship_tag": "ABX9TyMiAA7lee4gdxz7v5FJCLTI",
      "include_colab_link": true
    },
    "kernelspec": {
      "name": "python3",
      "display_name": "Python 3"
    },
    "language_info": {
      "name": "python"
    }
  },
  "cells": [
    {
      "cell_type": "markdown",
      "metadata": {
        "id": "view-in-github",
        "colab_type": "text"
      },
      "source": [
        "<a href=\"https://colab.research.google.com/github/umeshh3991/Scaler/blob/Module-2/Mod_3_Lec_5_2D_Lists.ipynb\" target=\"_parent\"><img src=\"https://colab.research.google.com/assets/colab-badge.svg\" alt=\"Open In Colab\"/></a>"
      ]
    },
    {
      "cell_type": "markdown",
      "source": [
        "## 2-D List"
      ],
      "metadata": {
        "id": "Kjri-NA5xh01"
      }
    },
    {
      "cell_type": "code",
      "source": [
        "a = [\n",
        "    [1, 2, 3],\n",
        "    [4, 5, 6],\n",
        "    [7, 8, 9],\n",
        "    ]"
      ],
      "metadata": {
        "id": "SV34-Y-_xlhj"
      },
      "execution_count": 1,
      "outputs": []
    },
    {
      "cell_type": "code",
      "source": [
        "a"
      ],
      "metadata": {
        "id": "5hIqgaLJxkQg",
        "outputId": "d51a29fb-60f0-436e-ef52-95fbcb3a457b",
        "colab": {
          "base_uri": "https://localhost:8080/"
        }
      },
      "execution_count": 2,
      "outputs": [
        {
          "output_type": "execute_result",
          "data": {
            "text/plain": [
              "[[1, 2, 3], [4, 5, 6], [7, 8, 9]]"
            ]
          },
          "metadata": {},
          "execution_count": 2
        }
      ]
    },
    {
      "cell_type": "code",
      "source": [
        "a[2][1]"
      ],
      "metadata": {
        "id": "epasSqP4x4Nz",
        "outputId": "c1620a83-ca9e-4cfe-c549-05541012a920",
        "colab": {
          "base_uri": "https://localhost:8080/"
        }
      },
      "execution_count": 3,
      "outputs": [
        {
          "output_type": "execute_result",
          "data": {
            "text/plain": [
              "8"
            ]
          },
          "metadata": {},
          "execution_count": 3
        }
      ]
    },
    {
      "cell_type": "markdown",
      "source": [
        "Q. Take a 3x3 matrix as an input from the user. Given the matrix\n",
        "   - Calculate the sum of all the elements in the matrix.\n",
        "   - Calculate the sum of each row.\n",
        "   - Calculate the sum of each column."
      ],
      "metadata": {
        "id": "eLYRrLJu3Nwa"
      }
    },
    {
      "cell_type": "code",
      "source": [
        "a = int(input(\"Enter value : \"))"
      ],
      "metadata": {
        "id": "TBZ_DVhH_isi",
        "outputId": "a6b5e579-5592-48a8-d16d-42dbee720b9b",
        "colab": {
          "base_uri": "https://localhost:8080/"
        }
      },
      "execution_count": 9,
      "outputs": [
        {
          "name": "stdout",
          "output_type": "stream",
          "text": [
            "Enter value : 1\n"
          ]
        }
      ]
    }
  ]
}