{
  "nbformat": 4,
  "nbformat_minor": 0,
  "metadata": {
    "colab": {
      "provenance": [],
      "authorship_tag": "ABX9TyM/icHB60xr3a3+vvOdCb8w",
      "include_colab_link": true
    },
    "kernelspec": {
      "name": "python3",
      "display_name": "Python 3"
    },
    "language_info": {
      "name": "python"
    }
  },
  "cells": [
    {
      "cell_type": "markdown",
      "metadata": {
        "id": "view-in-github",
        "colab_type": "text"
      },
      "source": [
        "<a href=\"https://colab.research.google.com/github/umeshh3991/Scaler/blob/Module-2/Mod_2_Lec_3_Lists_1D.ipynb\" target=\"_parent\"><img src=\"https://colab.research.google.com/assets/colab-badge.svg\" alt=\"Open In Colab\"/></a>"
      ]
    },
    {
      "cell_type": "markdown",
      "source": [
        "## RAM Concept"
      ],
      "metadata": {
        "id": "yB4qW1_wWa2F"
      }
    },
    {
      "cell_type": "code",
      "source": [
        "a = 10\n",
        "print(hex(id(a)))"
      ],
      "metadata": {
        "id": "jBIEpwRRWYph",
        "outputId": "b423d715-43ee-47a7-969d-b736d6ca4ff4",
        "colab": {
          "base_uri": "https://localhost:8080/"
        }
      },
      "execution_count": 3,
      "outputs": [
        {
          "output_type": "stream",
          "name": "stdout",
          "text": [
            "0x7cb6a1d4c210\n"
          ]
        }
      ]
    },
    {
      "cell_type": "code",
      "source": [
        "a = 10\n",
        "b = 10\n",
        "\n",
        "print(id(a))\n",
        "print(id(b))"
      ],
      "metadata": {
        "id": "7GjFcCxFXd7U",
        "outputId": "704598c7-5cff-4632-92ea-ebd2f765c1f1",
        "colab": {
          "base_uri": "https://localhost:8080/"
        }
      },
      "execution_count": 4,
      "outputs": [
        {
          "output_type": "stream",
          "name": "stdout",
          "text": [
            "137123840967184\n",
            "137123840967184\n"
          ]
        }
      ]
    },
    {
      "cell_type": "code",
      "source": [
        "a = [1, 2, 3, 4]\n",
        "b = a\n",
        "\n",
        "b[0] = 100\n",
        "\n",
        "print(a)\n",
        "print(b)"
      ],
      "metadata": {
        "id": "dOtDxLrPhwsg",
        "outputId": "e6d5a713-1715-418d-f277-488f63127fb2",
        "colab": {
          "base_uri": "https://localhost:8080/"
        }
      },
      "execution_count": 5,
      "outputs": [
        {
          "output_type": "stream",
          "name": "stdout",
          "text": [
            "[100, 2, 3, 4]\n",
            "[100, 2, 3, 4]\n"
          ]
        }
      ]
    },
    {
      "cell_type": "markdown",
      "source": [
        "## Basic Operations Perfoirmed on List"
      ],
      "metadata": {
        "id": "VY1hR3a_4a7e"
      }
    },
    {
      "cell_type": "code",
      "source": [
        "a = [1, 2, 3, 4]"
      ],
      "metadata": {
        "id": "Y1T3awhy4d33"
      },
      "execution_count": 6,
      "outputs": []
    },
    {
      "cell_type": "code",
      "source": [
        "len(a)"
      ],
      "metadata": {
        "id": "Zf_Fp6ye4xSQ",
        "outputId": "712a2825-e909-4200-b14b-350aada99d82",
        "colab": {
          "base_uri": "https://localhost:8080/"
        }
      },
      "execution_count": 7,
      "outputs": [
        {
          "output_type": "execute_result",
          "data": {
            "text/plain": [
              "4"
            ]
          },
          "metadata": {},
          "execution_count": 7
        }
      ]
    },
    {
      "cell_type": "code",
      "source": [
        "[1, 2, 3, 4] + [5, 6, 7, 8] # Concat"
      ],
      "metadata": {
        "id": "yq5uNsC745-h",
        "outputId": "35e4c857-ac4b-4035-efb0-3801eb613d6b",
        "colab": {
          "base_uri": "https://localhost:8080/"
        }
      },
      "execution_count": 8,
      "outputs": [
        {
          "output_type": "execute_result",
          "data": {
            "text/plain": [
              "[1, 2, 3, 4, 5, 6, 7, 8]"
            ]
          },
          "metadata": {},
          "execution_count": 8
        }
      ]
    },
    {
      "cell_type": "code",
      "source": [
        "len([1, 2, 3, 4] + [5, 6, 7, 8])"
      ],
      "metadata": {
        "id": "hzBBEFXg5APh",
        "outputId": "79511d63-9531-43c9-af01-5b3427cc2282",
        "colab": {
          "base_uri": "https://localhost:8080/"
        }
      },
      "execution_count": 9,
      "outputs": [
        {
          "output_type": "execute_result",
          "data": {
            "text/plain": [
              "8"
            ]
          },
          "metadata": {},
          "execution_count": 9
        }
      ]
    },
    {
      "cell_type": "code",
      "source": [
        "a * 3"
      ],
      "metadata": {
        "id": "qg7QKen65VX5",
        "outputId": "1d02c49f-be16-4d64-8c5c-69b52715074d",
        "colab": {
          "base_uri": "https://localhost:8080/"
        }
      },
      "execution_count": 10,
      "outputs": [
        {
          "output_type": "execute_result",
          "data": {
            "text/plain": [
              "[1, 2, 3, 4, 1, 2, 3, 4, 1, 2, 3, 4]"
            ]
          },
          "metadata": {},
          "execution_count": 10
        }
      ]
    },
    {
      "cell_type": "code",
      "source": [
        "len([1, 2]) * 8"
      ],
      "metadata": {
        "id": "pxoVqvuW5c6M",
        "outputId": "99bb9134-d409-4923-9bb7-c5734cab3b91",
        "colab": {
          "base_uri": "https://localhost:8080/"
        }
      },
      "execution_count": 11,
      "outputs": [
        {
          "output_type": "execute_result",
          "data": {
            "text/plain": [
              "16"
            ]
          },
          "metadata": {},
          "execution_count": 11
        }
      ]
    },
    {
      "cell_type": "code",
      "source": [
        "3 in [2, 3, 4, 5, 6] # Member Function"
      ],
      "metadata": {
        "id": "_uK2SiFF5tO4",
        "outputId": "a912e7a7-27e1-4693-920b-b3ef7fbe3a5a",
        "colab": {
          "base_uri": "https://localhost:8080/"
        }
      },
      "execution_count": 12,
      "outputs": [
        {
          "output_type": "execute_result",
          "data": {
            "text/plain": [
              "True"
            ]
          },
          "metadata": {},
          "execution_count": 12
        }
      ]
    },
    {
      "cell_type": "code",
      "source": [
        "arr = [1, 2, 3, 4, 5, 6]\n",
        "\n",
        "for i in arr:\n",
        "  print(i)"
      ],
      "metadata": {
        "id": "e86gvhV45-_O",
        "outputId": "d45df60b-9e62-48e7-d3b5-abbee4fdd53a",
        "colab": {
          "base_uri": "https://localhost:8080/"
        }
      },
      "execution_count": 16,
      "outputs": [
        {
          "output_type": "stream",
          "name": "stdout",
          "text": [
            "1\n",
            "2\n",
            "3\n",
            "4\n",
            "5\n",
            "6\n"
          ]
        }
      ]
    },
    {
      "cell_type": "markdown",
      "source": [
        "## Tic-Tac-Toe game [UNFAIR]"
      ],
      "metadata": {
        "id": "r2oA1VP76mK4"
      }
    },
    {
      "cell_type": "code",
      "source": [
        "board = [[' '] * 3] * 3\n",
        "board"
      ],
      "metadata": {
        "id": "MhS7aKb-6juF",
        "outputId": "2bce9903-e518-4e92-c1f5-dcfdfdeffab5",
        "colab": {
          "base_uri": "https://localhost:8080/"
        }
      },
      "execution_count": 22,
      "outputs": [
        {
          "output_type": "execute_result",
          "data": {
            "text/plain": [
              "[[' ', ' ', ' '], [' ', ' ', ' '], [' ', ' ', ' ']]"
            ]
          },
          "metadata": {},
          "execution_count": 22
        }
      ]
    },
    {
      "cell_type": "code",
      "source": [
        "board[1][1] = \"O\"\n",
        "board"
      ],
      "metadata": {
        "id": "NrVAxLv-69lG",
        "outputId": "1a66badd-0fda-44eb-8e6c-7ea6926bd64a",
        "colab": {
          "base_uri": "https://localhost:8080/"
        }
      },
      "execution_count": 26,
      "outputs": [
        {
          "output_type": "execute_result",
          "data": {
            "text/plain": [
              "[[' ', 'O', ' '], [' ', 'O', ' '], [' ', 'O', ' ']]"
            ]
          },
          "metadata": {},
          "execution_count": 26
        }
      ]
    },
    {
      "cell_type": "code",
      "source": [
        "print(id(board[0]))\n",
        "print(id(board[1]))\n",
        "print(id(board[2]))"
      ],
      "metadata": {
        "id": "YzxyAvkU-jgE",
        "outputId": "1077c3ab-65b0-47d7-8637-8c6ff25dac19",
        "colab": {
          "base_uri": "https://localhost:8080/"
        }
      },
      "execution_count": 27,
      "outputs": [
        {
          "output_type": "stream",
          "name": "stdout",
          "text": [
            "137122556942784\n",
            "137122556942784\n",
            "137122556942784\n"
          ]
        }
      ]
    },
    {
      "cell_type": "markdown",
      "source": [
        "## Indexing and Slicing"
      ],
      "metadata": {
        "id": "QMfpZNqD_EOr"
      }
    },
    {
      "cell_type": "code",
      "source": [
        "a = [1, 2, 3, 4, 5, 6]"
      ],
      "metadata": {
        "id": "K9-hEsLS_G3O"
      },
      "execution_count": 29,
      "outputs": []
    },
    {
      "cell_type": "code",
      "source": [
        "a[0] # Indexing"
      ],
      "metadata": {
        "id": "Og-JagsiCWhq",
        "outputId": "1a70cca8-8f71-48ad-ca2d-2935bd8d7faf",
        "colab": {
          "base_uri": "https://localhost:8080/"
        }
      },
      "execution_count": 31,
      "outputs": [
        {
          "output_type": "execute_result",
          "data": {
            "text/plain": [
              "1"
            ]
          },
          "metadata": {},
          "execution_count": 31
        }
      ]
    },
    {
      "cell_type": "code",
      "source": [
        "a[-1] # Indexing"
      ],
      "metadata": {
        "id": "fiDVoFDxCZmf",
        "outputId": "48622fa8-6342-4d15-8ada-2ae25686600f",
        "colab": {
          "base_uri": "https://localhost:8080/"
        }
      },
      "execution_count": 32,
      "outputs": [
        {
          "output_type": "execute_result",
          "data": {
            "text/plain": [
              "6"
            ]
          },
          "metadata": {},
          "execution_count": 32
        }
      ]
    },
    {
      "cell_type": "code",
      "source": [
        "b = list(range(1,9))\n",
        "b"
      ],
      "metadata": {
        "id": "nl46RNieDB4L",
        "outputId": "ff83a132-b322-4d22-b450-fa11ce07ab0d",
        "colab": {
          "base_uri": "https://localhost:8080/"
        }
      },
      "execution_count": 33,
      "outputs": [
        {
          "output_type": "execute_result",
          "data": {
            "text/plain": [
              "[1, 2, 3, 4, 5, 6, 7, 8]"
            ]
          },
          "metadata": {},
          "execution_count": 33
        }
      ]
    },
    {
      "cell_type": "code",
      "source": [
        "b[2:5] # Slicing"
      ],
      "metadata": {
        "id": "BlXeTazqDITa",
        "outputId": "57409f5d-adb9-4097-8e5f-3fffc637ff0f",
        "colab": {
          "base_uri": "https://localhost:8080/"
        }
      },
      "execution_count": 34,
      "outputs": [
        {
          "output_type": "execute_result",
          "data": {
            "text/plain": [
              "[3, 4, 5]"
            ]
          },
          "metadata": {},
          "execution_count": 34
        }
      ]
    },
    {
      "cell_type": "code",
      "source": [
        "c = list(range(1,10))\n",
        "c"
      ],
      "metadata": {
        "id": "A5O4likLDp4K",
        "outputId": "8dcd17b5-57a3-47ff-f496-226e92b64435",
        "colab": {
          "base_uri": "https://localhost:8080/"
        }
      },
      "execution_count": 35,
      "outputs": [
        {
          "output_type": "execute_result",
          "data": {
            "text/plain": [
              "[1, 2, 3, 4, 5, 6, 7, 8, 9]"
            ]
          },
          "metadata": {},
          "execution_count": 35
        }
      ]
    },
    {
      "cell_type": "code",
      "source": [
        "c[::2] # Skiping"
      ],
      "metadata": {
        "id": "ReZJka4uDuhp",
        "outputId": "42fc61a7-1990-46b9-fe68-9f2d53e2ab4a",
        "colab": {
          "base_uri": "https://localhost:8080/"
        }
      },
      "execution_count": 36,
      "outputs": [
        {
          "output_type": "execute_result",
          "data": {
            "text/plain": [
              "[1, 3, 5, 7, 9]"
            ]
          },
          "metadata": {},
          "execution_count": 36
        }
      ]
    },
    {
      "cell_type": "markdown",
      "source": [
        " - Palindrom"
      ],
      "metadata": {
        "id": "dLoiWUueD4TY"
      }
    },
    {
      "cell_type": "code",
      "source": [
        "name = \"umesh\"\n",
        "\n",
        "if (name == name[::-1]):\n",
        "  print(\"Palindrom\")\n",
        "else:\n",
        "  print(\"not a palindrom\")"
      ],
      "metadata": {
        "id": "hkgH9fPGD2W3",
        "outputId": "4c627be5-4cf3-4b03-d07e-ad0f1fd99e0c",
        "colab": {
          "base_uri": "https://localhost:8080/"
        }
      },
      "execution_count": 38,
      "outputs": [
        {
          "output_type": "stream",
          "name": "stdout",
          "text": [
            "not a palindrom\n"
          ]
        }
      ]
    }
  ]
}