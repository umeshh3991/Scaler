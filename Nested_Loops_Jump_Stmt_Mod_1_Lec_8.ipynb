{
  "nbformat": 4,
  "nbformat_minor": 0,
  "metadata": {
    "colab": {
      "provenance": [],
      "authorship_tag": "ABX9TyPMnJ+i943hZBU8Y5XNOn71",
      "include_colab_link": true
    },
    "kernelspec": {
      "name": "python3",
      "display_name": "Python 3"
    },
    "language_info": {
      "name": "python"
    }
  },
  "cells": [
    {
      "cell_type": "markdown",
      "metadata": {
        "id": "view-in-github",
        "colab_type": "text"
      },
      "source": [
        "<a href=\"https://colab.research.google.com/github/umeshh3991/Scaler/blob/main/Nested_Loops_Jump_Stmt_Mod_1_Lec_8.ipynb\" target=\"_parent\"><img src=\"https://colab.research.google.com/assets/colab-badge.svg\" alt=\"Open In Colab\"/></a>"
      ]
    },
    {
      "cell_type": "markdown",
      "source": [
        "- Write a program that prints the following"
      ],
      "metadata": {
        "id": "KCTMp5EghICq"
      }
    },
    {
      "cell_type": "markdown",
      "source": [
        "1 4 7 10 13 16"
      ],
      "metadata": {
        "id": "Yd1zwrE6hP_e"
      }
    },
    {
      "cell_type": "markdown",
      "source": [
        "- Using WHILE Loop"
      ],
      "metadata": {
        "id": "A-29fiddmIcQ"
      }
    },
    {
      "cell_type": "code",
      "source": [
        "r = int(input(\"Enter the range : \"))\n",
        "\n",
        "i = 0\n",
        "sum = 1\n",
        "\n",
        "while (i < r):\n",
        "  if (i == 0):\n",
        "    print(sum, end=\" \")\n",
        "    i += 3\n",
        "    continue\n",
        "  sum += 3\n",
        "  print(sum, end=\" \")\n",
        "  i += 3"
      ],
      "metadata": {
        "colab": {
          "base_uri": "https://localhost:8080/"
        },
        "id": "UqJD8p1ahSVr",
        "outputId": "dc77d9e1-f579-4303-d9e2-6cb22d37cdd1"
      },
      "execution_count": null,
      "outputs": [
        {
          "output_type": "stream",
          "name": "stdout",
          "text": [
            "Enter the range : 16\n",
            "1 4 7 10 13 16 "
          ]
        }
      ]
    },
    {
      "cell_type": "code",
      "source": [
        "r = int(input(\"Enter the range : \"))\n",
        "\n",
        "i = 1\n",
        "\n",
        "while(i <= r):\n",
        "  print(i, end=\" \")\n",
        "  i += 3"
      ],
      "metadata": {
        "colab": {
          "base_uri": "https://localhost:8080/"
        },
        "id": "z6q0XjuelfkO",
        "outputId": "d5a32097-a394-48a1-8402-f16cc85037cc"
      },
      "execution_count": null,
      "outputs": [
        {
          "output_type": "stream",
          "name": "stdout",
          "text": [
            "Enter the range : 16\n",
            "1 4 7 10 13 16 "
          ]
        }
      ]
    },
    {
      "cell_type": "markdown",
      "source": [
        "- Using FOR Loop"
      ],
      "metadata": {
        "id": "UZDAJSkrmMSF"
      }
    },
    {
      "cell_type": "markdown",
      "source": [
        "- Increment"
      ],
      "metadata": {
        "id": "XB884H4ZrDuG"
      }
    },
    {
      "cell_type": "code",
      "source": [
        "for i in range(1,17,3):\n",
        "  print(i, end=\" \")"
      ],
      "metadata": {
        "colab": {
          "base_uri": "https://localhost:8080/"
        },
        "id": "Hs4FueUToptW",
        "outputId": "fcd1524a-1478-473d-8e5b-54517312bbd5"
      },
      "execution_count": null,
      "outputs": [
        {
          "output_type": "stream",
          "name": "stdout",
          "text": [
            "1 4 7 10 13 16 "
          ]
        }
      ]
    },
    {
      "cell_type": "markdown",
      "source": [
        "Decrement"
      ],
      "metadata": {
        "id": "cjigIITerJQM"
      }
    },
    {
      "cell_type": "code",
      "source": [
        "for i in range(16, 0, -3):\n",
        "  print(i, end = \" \")"
      ],
      "metadata": {
        "colab": {
          "base_uri": "https://localhost:8080/"
        },
        "id": "yyoP5Q3SrKq8",
        "outputId": "e7117ec5-ddf2-4993-857a-83adada42a7f"
      },
      "execution_count": null,
      "outputs": [
        {
          "output_type": "stream",
          "name": "stdout",
          "text": [
            "16 13 10 7 4 1 "
          ]
        }
      ]
    },
    {
      "cell_type": "markdown",
      "source": [
        "- Range"
      ],
      "metadata": {
        "id": "Sto6XiDU4RSO"
      }
    },
    {
      "cell_type": "code",
      "source": [
        "list(range(1,5))"
      ],
      "metadata": {
        "colab": {
          "base_uri": "https://localhost:8080/"
        },
        "id": "V1RNwnb54S3K",
        "outputId": "d949be67-8bc8-4344-99fb-b59858a5d9ae"
      },
      "execution_count": null,
      "outputs": [
        {
          "output_type": "execute_result",
          "data": {
            "text/plain": [
              "[1, 2, 3, 4]"
            ]
          },
          "metadata": {},
          "execution_count": 40
        }
      ]
    },
    {
      "cell_type": "code",
      "source": [
        "list(range(-5,0))"
      ],
      "metadata": {
        "colab": {
          "base_uri": "https://localhost:8080/"
        },
        "id": "AQkhuzSZ4ZT0",
        "outputId": "012cf1a5-40ea-40b4-eac8-db762f35efb2"
      },
      "execution_count": null,
      "outputs": [
        {
          "output_type": "execute_result",
          "data": {
            "text/plain": [
              "[-5, -4, -3, -2, -1]"
            ]
          },
          "metadata": {},
          "execution_count": 41
        }
      ]
    },
    {
      "cell_type": "code",
      "source": [
        "list(range(-5,0,0))"
      ],
      "metadata": {
        "colab": {
          "base_uri": "https://localhost:8080/",
          "height": 141
        },
        "id": "OduGaU-u47XC",
        "outputId": "d3aadaa4-2a8c-46ee-ae18-1eebb629b75a"
      },
      "execution_count": null,
      "outputs": [
        {
          "output_type": "error",
          "ename": "ValueError",
          "evalue": "range() arg 3 must not be zero",
          "traceback": [
            "\u001b[0;31m---------------------------------------------------------------------------\u001b[0m",
            "\u001b[0;31mValueError\u001b[0m                                Traceback (most recent call last)",
            "\u001b[0;32m<ipython-input-42-3eaf75711214>\u001b[0m in \u001b[0;36m<cell line: 1>\u001b[0;34m()\u001b[0m\n\u001b[0;32m----> 1\u001b[0;31m \u001b[0mlist\u001b[0m\u001b[0;34m(\u001b[0m\u001b[0mrange\u001b[0m\u001b[0;34m(\u001b[0m\u001b[0;34m-\u001b[0m\u001b[0;36m5\u001b[0m\u001b[0;34m,\u001b[0m\u001b[0;36m0\u001b[0m\u001b[0;34m,\u001b[0m\u001b[0;36m0\u001b[0m\u001b[0;34m)\u001b[0m\u001b[0;34m)\u001b[0m\u001b[0;34m\u001b[0m\u001b[0;34m\u001b[0m\u001b[0m\n\u001b[0m",
            "\u001b[0;31mValueError\u001b[0m: range() arg 3 must not be zero"
          ]
        }
      ]
    },
    {
      "cell_type": "markdown",
      "source": [
        "In range\n",
        "- if jump is positive a < b\n",
        "- if jump is negative then a > b\n",
        "- if jump is 0 then that's an error"
      ],
      "metadata": {
        "id": "CRU6FprV4glV"
      }
    },
    {
      "cell_type": "markdown",
      "source": [
        "Q. WAP tp print the following\n",
        "- 1 3 7 13 21 31 43"
      ],
      "metadata": {
        "id": "E1If-egu9fzC"
      }
    },
    {
      "cell_type": "markdown",
      "source": [
        "- Using WHILE loop"
      ],
      "metadata": {
        "id": "sp2iSGTYBasl"
      }
    },
    {
      "cell_type": "code",
      "source": [
        "a = int(input(\"Enter the range : \"))\n",
        "\n",
        "sum = 1\n",
        "i = 1\n",
        "\n",
        "while(sum < a):\n",
        "  if (i == 1):\n",
        "    print(i, end=\" \")\n",
        "    i += 1\n",
        "    continue\n",
        "  sum = sum + i\n",
        "  print(sum, end=\" \")\n",
        "  i += 2"
      ],
      "metadata": {
        "colab": {
          "base_uri": "https://localhost:8080/"
        },
        "id": "YT5ptqEW9rAe",
        "outputId": "6c1c1d69-1ea7-44c4-896a-18ca23175700"
      },
      "execution_count": null,
      "outputs": [
        {
          "output_type": "stream",
          "name": "stdout",
          "text": [
            "Enter the range : 43\n",
            "1 3 7 13 21 31 43 "
          ]
        }
      ]
    },
    {
      "cell_type": "markdown",
      "source": [
        "- Using FOR Loop"
      ],
      "metadata": {
        "id": "aZhMj0_pGU-R"
      }
    },
    {
      "cell_type": "code",
      "source": [
        "b = int(input(\"Enter the range : \"))\n",
        "\n",
        "i = 0\n",
        "sum = 1\n",
        "\n",
        "for i in range(0, b, 2):\n",
        "  sum += i\n",
        "  print(sum, end = \" \")\n"
      ],
      "metadata": {
        "colab": {
          "base_uri": "https://localhost:8080/"
        },
        "id": "UjaLwniV44l7",
        "outputId": "1cc05895-6c96-40cf-ef4e-cca18c92b7ec"
      },
      "execution_count": null,
      "outputs": [
        {
          "output_type": "stream",
          "name": "stdout",
          "text": [
            "Enter the range : 13\n",
            "1 3 7 13 21 31 43 "
          ]
        }
      ]
    },
    {
      "cell_type": "markdown",
      "source": [
        "## Nested Loop"
      ],
      "metadata": {
        "id": "SP925M_hJA12"
      }
    },
    {
      "cell_type": "code",
      "source": [
        "for i in range(3):\n",
        "  for j in range(3):\n",
        "    print(i,j, end = \"   \")\n",
        "  print()"
      ],
      "metadata": {
        "colab": {
          "base_uri": "https://localhost:8080/"
        },
        "id": "so9PjE6OJCkV",
        "outputId": "5750e016-59af-4f2b-c535-8c1e4efd574c"
      },
      "execution_count": null,
      "outputs": [
        {
          "output_type": "stream",
          "name": "stdout",
          "text": [
            "0 0   0 1   0 2   \n",
            "1 0   1 1   1 2   \n",
            "2 0   2 1   2 2   \n"
          ]
        }
      ]
    },
    {
      "cell_type": "markdown",
      "source": [
        "- Printing a 3X3 pattern of *"
      ],
      "metadata": {
        "id": "Ath-q7QkKIY4"
      }
    },
    {
      "cell_type": "code",
      "source": [
        "for i in range(3):\n",
        "  for j in range(3):\n",
        "    print(\"*\", end = \" \")\n",
        "  print()"
      ],
      "metadata": {
        "colab": {
          "base_uri": "https://localhost:8080/"
        },
        "id": "YeTG-qqSKM2f",
        "outputId": "4dfc5f1d-f997-4333-e82d-820ecc46a781"
      },
      "execution_count": null,
      "outputs": [
        {
          "output_type": "stream",
          "name": "stdout",
          "text": [
            "* * * \n",
            "* * * \n",
            "* * * \n"
          ]
        }
      ]
    },
    {
      "cell_type": "markdown",
      "source": [
        "Q. WAP to print\n",
        "\n",
        "   \"*\"\n",
        "\n",
        "   \"* *\"\n",
        "   \n",
        "   \"* * *\"\n",
        "\n",
        "   \"* * * *\""
      ],
      "metadata": {
        "id": "JrmsRsJfNphk"
      }
    },
    {
      "cell_type": "code",
      "source": [
        "for i in range(5):\n",
        "  for j in range(i):\n",
        "    print(\"*\", end = \" \")\n",
        "  print()\n"
      ],
      "metadata": {
        "id": "sE7SFoQhN0Xd",
        "outputId": "8e0d113d-4dc2-4d2d-9fa5-a9e272f588ac",
        "colab": {
          "base_uri": "https://localhost:8080/"
        }
      },
      "execution_count": null,
      "outputs": [
        {
          "output_type": "stream",
          "name": "stdout",
          "text": [
            "\n",
            "* \n",
            "* * \n",
            "* * * \n",
            "* * * * \n"
          ]
        }
      ]
    },
    {
      "cell_type": "code",
      "source": [
        "for i in range(4):\n",
        "  print(\"* \" * 4)"
      ],
      "metadata": {
        "id": "G4PvBm41NvbF",
        "outputId": "6db217e4-a460-4ec8-a7f6-b2eb6d37e033",
        "colab": {
          "base_uri": "https://localhost:8080/"
        }
      },
      "execution_count": null,
      "outputs": [
        {
          "output_type": "stream",
          "name": "stdout",
          "text": [
            "* * * * \n",
            "* * * * \n",
            "* * * * \n",
            "* * * * \n"
          ]
        }
      ]
    },
    {
      "cell_type": "code",
      "source": [
        "for i in range(4):\n",
        "  print(\"* \" * (i+1))"
      ],
      "metadata": {
        "id": "LzL5e7-wPrzi",
        "outputId": "93b2a934-3489-45b8-d351-0ad3982cba64",
        "colab": {
          "base_uri": "https://localhost:8080/"
        }
      },
      "execution_count": null,
      "outputs": [
        {
          "output_type": "stream",
          "name": "stdout",
          "text": [
            "* \n",
            "* * \n",
            "* * * \n",
            "* * * * \n"
          ]
        }
      ]
    },
    {
      "cell_type": "code",
      "source": [
        "Z = int(input(\"Enter the rows : \"))\n",
        "\n",
        "for i in range(Z):\n",
        "  print(\" \" * (Z-i-1) + \"*\" * (2 * i + 1))"
      ],
      "metadata": {
        "id": "jEw6brrwT8QD",
        "outputId": "eb487d05-09d1-4133-e240-f015de0eca10",
        "colab": {
          "base_uri": "https://localhost:8080/"
        }
      },
      "execution_count": null,
      "outputs": [
        {
          "output_type": "stream",
          "name": "stdout",
          "text": [
            "Enter the rows : 4\n",
            "   *\n",
            "  ***\n",
            " *****\n",
            "*******\n"
          ]
        }
      ]
    },
    {
      "cell_type": "markdown",
      "source": [
        "Q - WAP to print\n",
        "- 5 5 5 5 5\n",
        "- 5 4 4 4 5\n",
        "- 5 4 3 4 5\n",
        "- 5 4 4 4 5\n",
        "- 5 5 5 5 5"
      ],
      "metadata": {
        "id": "tuKRECtxwZER"
      }
    },
    {
      "cell_type": "code",
      "source": [
        "n = int(input(\"Enter the range : \"))\n",
        "\n",
        "for i in range(n):\n",
        "  for j in range(n):\n",
        "    print(max(i+1, j+1, n-i, n-j), end = \" \")\n",
        "  print()"
      ],
      "metadata": {
        "colab": {
          "base_uri": "https://localhost:8080/"
        },
        "id": "CRI-GqE3wopu",
        "outputId": "9b70cd52-8d0d-47fe-e6a4-df126a4512a2"
      },
      "execution_count": null,
      "outputs": [
        {
          "output_type": "stream",
          "name": "stdout",
          "text": [
            "Enter the range : 9\n",
            "9 9 9 9 9 9 9 9 9 \n",
            "9 8 8 8 8 8 8 8 9 \n",
            "9 8 7 7 7 7 7 8 9 \n",
            "9 8 7 6 6 6 7 8 9 \n",
            "9 8 7 6 5 6 7 8 9 \n",
            "9 8 7 6 6 6 7 8 9 \n",
            "9 8 7 7 7 7 7 8 9 \n",
            "9 8 8 8 8 8 8 8 9 \n",
            "9 9 9 9 9 9 9 9 9 \n"
          ]
        }
      ]
    },
    {
      "cell_type": "code",
      "source": [
        "H  = int(input(\"Enter the range : \"))\n",
        "\n",
        "L = H//2\n",
        "\n",
        "for i in range(L+1):\n",
        "  for j in range(H):\n",
        "    if((i+j) >= (H)):\n",
        "      print(j+1, end = \" \")\n",
        "    elif (i <= j):\n",
        "      print(H-i, end = \" \")\n",
        "    elif (i > j):\n",
        "      print(H-j, end= \" \")\n",
        "  print()\n",
        "\n",
        "for i in range(L+1, H):\n",
        "  print(i)\n"
      ],
      "metadata": {
        "id": "4h3U2jWuFDHK",
        "outputId": "87430147-0adb-45dd-ee06-53cf6dcbf765",
        "colab": {
          "base_uri": "https://localhost:8080/"
        }
      },
      "execution_count": null,
      "outputs": [
        {
          "output_type": "stream",
          "name": "stdout",
          "text": [
            "Enter the range : 9\n",
            "9 9 9 9 9 9 9 9 9 \n",
            "9 8 8 8 8 8 8 8 9 \n",
            "9 8 7 7 7 7 7 8 9 \n",
            "9 8 7 6 6 6 7 8 9 \n",
            "9 8 7 6 5 6 7 8 9 \n",
            "5\n",
            "6\n",
            "7\n",
            "8\n"
          ]
        }
      ]
    }
  ]
}