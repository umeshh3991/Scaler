age = int(input("Enter the age : "))

if (age >= 60):
  print("Person is eligible for the pandemic precaution dose")

elif (age < 45):
  print("Person is not eligible for the pandemic precaution dose")

else:
  condition = str(input("Enter the condition of the patient : "))
  if(condition == "Heart failure with hospital admission in the past year" or condition == "Hypertension/Diabetes" or condition == "Kidney Disease" or condition == "Severe respiratory disease with hospitalisations in last two years" or condition == "Lymphoma/ Leukaemia/ Myeloma" or condition == "Primary Immunodeficiency Diseases/ HIV infection"):
    print("Person is eligible for the pandemic precaution dose") 
  else:
    print("Person is not eligible for the pandemic precaution dose")
