{
  "nbformat": 4,
  "nbformat_minor": 0,
  "metadata": {
    "colab": {
      "provenance": [],
      "authorship_tag": "ABX9TyOipqLUn7RrovrWtGR1VwWV",
      "include_colab_link": true
    },
    "kernelspec": {
      "name": "python3",
      "display_name": "Python 3"
    },
    "language_info": {
      "name": "python"
    }
  },
  "cells": [
    {
      "cell_type": "markdown",
      "metadata": {
        "id": "view-in-github",
        "colab_type": "text"
      },
      "source": [
        "<a href=\"https://colab.research.google.com/github/umeshh3991/Scaler/blob/Module-2/Mod_2_Lec_4_List_Slicing.ipynb\" target=\"_parent\"><img src=\"https://colab.research.google.com/assets/colab-badge.svg\" alt=\"Open In Colab\"/></a>"
      ]
    },
    {
      "cell_type": "markdown",
      "source": [
        "## Slicing"
      ],
      "metadata": {
        "id": "lBi1iKtX9Ert"
      }
    },
    {
      "cell_type": "code",
      "source": [
        "arr = list(range(10))"
      ],
      "metadata": {
        "id": "dxOBeGlr9FB1"
      },
      "execution_count": 1,
      "outputs": []
    },
    {
      "cell_type": "code",
      "source": [
        "arr[4]"
      ],
      "metadata": {
        "id": "yhH_HXDe9PSt",
        "outputId": "36ec5c0d-688c-4294-d6cc-3ad95d8790ea",
        "colab": {
          "base_uri": "https://localhost:8080/"
        }
      },
      "execution_count": 3,
      "outputs": [
        {
          "output_type": "execute_result",
          "data": {
            "text/plain": [
              "4"
            ]
          },
          "metadata": {},
          "execution_count": 3
        }
      ]
    },
    {
      "cell_type": "code",
      "source": [
        "arr[2:10:2]"
      ],
      "metadata": {
        "id": "CKDC9sgD9SV6",
        "outputId": "db19e46d-c8be-4b60-8d21-a7ef9123a6c7",
        "colab": {
          "base_uri": "https://localhost:8080/"
        }
      },
      "execution_count": 4,
      "outputs": [
        {
          "output_type": "execute_result",
          "data": {
            "text/plain": [
              "[2, 4, 6, 8]"
            ]
          },
          "metadata": {},
          "execution_count": 4
        }
      ]
    },
    {
      "cell_type": "code",
      "source": [
        "arr[slice(2,10,2)]"
      ],
      "metadata": {
        "id": "KdJc-X6h9big",
        "outputId": "3fbbe2a9-c8d2-4a79-89ce-a9bae353c0ab",
        "colab": {
          "base_uri": "https://localhost:8080/"
        }
      },
      "execution_count": 5,
      "outputs": [
        {
          "output_type": "execute_result",
          "data": {
            "text/plain": [
              "[2, 4, 6, 8]"
            ]
          },
          "metadata": {},
          "execution_count": 5
        }
      ]
    },
    {
      "cell_type": "markdown",
      "source": [
        "Q. Find out all the possible contiguous sub-arrays for the given list"
      ],
      "metadata": {
        "id": "HoG2W4jTAN0d"
      }
    },
    {
      "cell_type": "code",
      "source": [
        "a = [1, 2, 3, 4]\n",
        "\n",
        "print(a[0:0])\n",
        "for i in range(len(a)):\n",
        "  for j in range(i+1,len(a)+1):\n",
        "    print(a[i:j])\n",
        "  i += 1"
      ],
      "metadata": {
        "id": "ZcKkxsTJAVHj",
        "outputId": "69922f41-de80-400b-dfaa-7c876408b43a",
        "colab": {
          "base_uri": "https://localhost:8080/"
        }
      },
      "execution_count": 28,
      "outputs": [
        {
          "output_type": "stream",
          "name": "stdout",
          "text": [
            "[]\n",
            "[1]\n",
            "[1, 2]\n",
            "[1, 2, 3]\n",
            "[1, 2, 3, 4]\n",
            "[2]\n",
            "[2, 3]\n",
            "[2, 3, 4]\n",
            "[3]\n",
            "[3, 4]\n",
            "[4]\n"
          ]
        }
      ]
    },
    {
      "cell_type": "code",
      "source": [
        "## another way of writing\n",
        "\n",
        "a = [1, 2, 3, 4]\n",
        "n = len(a)\n",
        "\n",
        "print([])\n",
        "\n",
        "for i in range(len(a)+1):\n",
        "  for j in range(n-i):\n",
        "    print(a[j:j+i+1])"
      ],
      "metadata": {
        "id": "thdXCyScDPGY",
        "outputId": "eea42d41-652c-41ac-d02d-bf803c733bbb",
        "colab": {
          "base_uri": "https://localhost:8080/"
        }
      },
      "execution_count": 31,
      "outputs": [
        {
          "output_type": "stream",
          "name": "stdout",
          "text": [
            "[]\n",
            "[1]\n",
            "[2]\n",
            "[3]\n",
            "[4]\n",
            "[1, 2]\n",
            "[2, 3]\n",
            "[3, 4]\n",
            "[1, 2, 3]\n",
            "[2, 3, 4]\n",
            "[1, 2, 3, 4]\n"
          ]
        }
      ]
    },
    {
      "cell_type": "markdown",
      "source": [
        "Q. Given a list and an index 'i' remove the element at the given index using slicing"
      ],
      "metadata": {
        "id": "pmoeDGmvUMDJ"
      }
    },
    {
      "cell_type": "code",
      "source": [
        "arr = [1, 2, 3, 4, 5]\n",
        "\n",
        "i = int(input(\"Enter the index : \"))\n",
        "\n",
        "print(arr[:i]+arr[i+1:])"
      ],
      "metadata": {
        "id": "XZGTdLthUb_8",
        "outputId": "94e37f57-0a01-4709-a32e-a5e92955ee1a",
        "colab": {
          "base_uri": "https://localhost:8080/"
        }
      },
      "execution_count": 39,
      "outputs": [
        {
          "output_type": "stream",
          "name": "stdout",
          "text": [
            "Enter the index : 3\n",
            "[1, 2, 3, 5]\n"
          ]
        }
      ]
    },
    {
      "cell_type": "code",
      "source": [],
      "metadata": {
        "id": "75NiLZdAUlc8"
      },
      "execution_count": null,
      "outputs": []
    }
  ]
}