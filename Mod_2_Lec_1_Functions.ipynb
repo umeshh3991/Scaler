{
  "nbformat": 4,
  "nbformat_minor": 0,
  "metadata": {
    "colab": {
      "provenance": [],
      "authorship_tag": "ABX9TyNVsFPanvKOOHb5v9b6/81R",
      "include_colab_link": true
    },
    "kernelspec": {
      "name": "python3",
      "display_name": "Python 3"
    },
    "language_info": {
      "name": "python"
    }
  },
  "cells": [
    {
      "cell_type": "markdown",
      "metadata": {
        "id": "view-in-github",
        "colab_type": "text"
      },
      "source": [
        "<a href=\"https://colab.research.google.com/github/umeshh3991/Scaler/blob/Module-2/Mod_2_Lec_1_Functions.ipynb\" target=\"_parent\"><img src=\"https://colab.research.google.com/assets/colab-badge.svg\" alt=\"Open In Colab\"/></a>"
      ]
    },
    {
      "cell_type": "markdown",
      "source": [
        "## FUNCTIONS"
      ],
      "metadata": {
        "id": "V8V8L_YJEGDF"
      }
    },
    {
      "cell_type": "markdown",
      "source": [
        "Q. Given 4 numbers, return the number with highest one's place using Functions"
      ],
      "metadata": {
        "id": "k6Ee0hgUEJla"
      }
    },
    {
      "cell_type": "code",
      "source": [
        "def Compare(x,y):\n",
        "  return (x % 10 > y % 10)\n",
        "\n",
        "a1 = int(input(\"Enter the first number  : \"))\n",
        "b1 = int(input(\"Enter the second number : \"))\n",
        "c1 = int(input(\"Enter the third number  : \"))\n",
        "d1 = int(input(\"Enter the fourth number : \"))\n",
        "\n",
        "if (Compare(a1,b1) and Compare(a1,c1) and Compare(a1,d1)):\n",
        "  print(\"The greatest number at one's place is\",a1)\n",
        "\n",
        "elif (Compare(b1,c1) and Compare(b1,d1)):\n",
        "  print(\"The greatest number at one's place is\",b1)\n",
        "\n",
        "elif (Compare(c1,d1)):\n",
        "  print(\"The greatest number at one's place is\",c1)\n",
        "\n",
        "else:\n",
        "  print(\"The greatest number at one's place is\",d1)"
      ],
      "metadata": {
        "id": "UkPvk9tuKAx1",
        "outputId": "dedeac23-9e7c-49d4-a99c-4b7b2bad61a0",
        "colab": {
          "base_uri": "https://localhost:8080/"
        }
      },
      "execution_count": 37,
      "outputs": [
        {
          "output_type": "stream",
          "name": "stdout",
          "text": [
            "Enter the first number  : 656\n",
            "Enter the second number : 98\n",
            "Enter the third number  : 34\n",
            "Enter the fourth number : 61\n",
            "The greatest number at one's place is 98\n"
          ]
        }
      ]
    },
    {
      "cell_type": "markdown",
      "source": [
        "- Defining Function with code"
      ],
      "metadata": {
        "id": "UDAc0FXnUQds"
      }
    },
    {
      "cell_type": "code",
      "source": [
        "def World():\n",
        "  print(\"Hello World\")"
      ],
      "metadata": {
        "id": "p6v3Oc0AUVMr"
      },
      "execution_count": 39,
      "outputs": []
    },
    {
      "cell_type": "code",
      "source": [
        "World()"
      ],
      "metadata": {
        "id": "0xALBBoAUePD",
        "outputId": "81c61cf0-8e82-4ec1-8e58-6f73c820b687",
        "colab": {
          "base_uri": "https://localhost:8080/"
        }
      },
      "execution_count": 41,
      "outputs": [
        {
          "output_type": "stream",
          "name": "stdout",
          "text": [
            "Hello World\n"
          ]
        }
      ]
    },
    {
      "cell_type": "markdown",
      "source": [
        "## Arguments"
      ],
      "metadata": {
        "id": "2NWGbSPYVIAL"
      }
    },
    {
      "cell_type": "code",
      "source": [
        "def add(a,b):\n",
        "  print(a+b)"
      ],
      "metadata": {
        "id": "6gVqgos8VKwf"
      },
      "execution_count": 43,
      "outputs": []
    },
    {
      "cell_type": "code",
      "source": [
        "add()"
      ],
      "metadata": {
        "id": "DLOG8U_IVoQ4",
        "outputId": "c01a3e9f-6fd9-4957-e60f-8837865b7fec",
        "colab": {
          "base_uri": "https://localhost:8080/",
          "height": 141
        }
      },
      "execution_count": 44,
      "outputs": [
        {
          "output_type": "error",
          "ename": "TypeError",
          "evalue": "add() missing 2 required positional arguments: 'a' and 'b'",
          "traceback": [
            "\u001b[0;31m---------------------------------------------------------------------------\u001b[0m",
            "\u001b[0;31mTypeError\u001b[0m                                 Traceback (most recent call last)",
            "\u001b[0;32m<ipython-input-44-d5d29de3ed94>\u001b[0m in \u001b[0;36m<cell line: 1>\u001b[0;34m()\u001b[0m\n\u001b[0;32m----> 1\u001b[0;31m \u001b[0madd\u001b[0m\u001b[0;34m(\u001b[0m\u001b[0;34m)\u001b[0m\u001b[0;34m\u001b[0m\u001b[0;34m\u001b[0m\u001b[0m\n\u001b[0m",
            "\u001b[0;31mTypeError\u001b[0m: add() missing 2 required positional arguments: 'a' and 'b'"
          ]
        }
      ]
    },
    {
      "cell_type": "code",
      "source": [
        "add(3,5)"
      ],
      "metadata": {
        "id": "FgbM7lF-Vq75",
        "outputId": "791b8c27-42c5-46f6-b6ad-db672c538b59",
        "colab": {
          "base_uri": "https://localhost:8080/"
        }
      },
      "execution_count": 45,
      "outputs": [
        {
          "output_type": "stream",
          "name": "stdout",
          "text": [
            "8\n"
          ]
        }
      ]
    },
    {
      "cell_type": "code",
      "source": [
        "def subtract(a,b):\n",
        "  print(a-b)"
      ],
      "metadata": {
        "id": "V_NlR010WAh1"
      },
      "execution_count": 46,
      "outputs": []
    },
    {
      "cell_type": "code",
      "source": [
        "subtract(8,5)"
      ],
      "metadata": {
        "id": "xVXTy2zlWGfs",
        "outputId": "7ea8564b-caee-4466-d3e0-d97e8c4cfad2",
        "colab": {
          "base_uri": "https://localhost:8080/"
        }
      },
      "execution_count": 47,
      "outputs": [
        {
          "output_type": "stream",
          "name": "stdout",
          "text": [
            "3\n"
          ]
        }
      ]
    },
    {
      "cell_type": "markdown",
      "source": [
        "## Print V/S Return"
      ],
      "metadata": {
        "id": "z5cGKHqwcobm"
      }
    },
    {
      "cell_type": "code",
      "source": [
        "# Print\n",
        "\n",
        "def add(a,b):\n",
        "  print(a+b)"
      ],
      "metadata": {
        "id": "6vGhs7TOcrdH"
      },
      "execution_count": 48,
      "outputs": []
    },
    {
      "cell_type": "code",
      "source": [
        "add(1,3)"
      ],
      "metadata": {
        "id": "Od1uBavxoJ8B",
        "outputId": "c0fe0292-e2e4-4828-b703-5464aec30839",
        "colab": {
          "base_uri": "https://localhost:8080/"
        }
      },
      "execution_count": 55,
      "outputs": [
        {
          "output_type": "execute_result",
          "data": {
            "text/plain": [
              "4"
            ]
          },
          "metadata": {},
          "execution_count": 55
        }
      ]
    },
    {
      "cell_type": "code",
      "source": [
        "x = add(3,5)"
      ],
      "metadata": {
        "id": "ixwS4555cx-U",
        "outputId": "68b404e8-145c-43d5-8952-37059f0aab9b",
        "colab": {
          "base_uri": "https://localhost:8080/"
        }
      },
      "execution_count": 49,
      "outputs": [
        {
          "output_type": "stream",
          "name": "stdout",
          "text": [
            "8\n"
          ]
        }
      ]
    },
    {
      "cell_type": "code",
      "source": [
        "print(x)"
      ],
      "metadata": {
        "id": "FXC1lWNec16N",
        "outputId": "4a7a034b-0bb7-4eb6-8e8e-fe2224f79dd9",
        "colab": {
          "base_uri": "https://localhost:8080/"
        }
      },
      "execution_count": 50,
      "outputs": [
        {
          "output_type": "stream",
          "name": "stdout",
          "text": [
            "None\n"
          ]
        }
      ]
    },
    {
      "cell_type": "code",
      "source": [
        "# Return\n",
        "\n",
        "def add(a,b):\n",
        "  return(a+b)"
      ],
      "metadata": {
        "id": "lFWP6nZMc5ou"
      },
      "execution_count": 51,
      "outputs": []
    },
    {
      "cell_type": "code",
      "source": [
        "x = add(3,4)"
      ],
      "metadata": {
        "id": "I2mDnLt_c9Ot"
      },
      "execution_count": 54,
      "outputs": []
    },
    {
      "cell_type": "code",
      "source": [
        "print(x)"
      ],
      "metadata": {
        "id": "iApv1pojdCmx",
        "outputId": "ce78844d-ddc4-4cd5-c0d5-d27b372bee59",
        "colab": {
          "base_uri": "https://localhost:8080/"
        }
      },
      "execution_count": 53,
      "outputs": [
        {
          "output_type": "stream",
          "name": "stdout",
          "text": [
            "7\n"
          ]
        }
      ]
    },
    {
      "cell_type": "markdown",
      "source": [
        "H/W - Convert Pattern Questions into Functions"
      ],
      "metadata": {
        "id": "38VWQ6KQpTF8"
      }
    },
    {
      "cell_type": "code",
      "source": [],
      "metadata": {
        "id": "S_uILLOxpdXl"
      },
      "execution_count": null,
      "outputs": []
    }
  ]
}