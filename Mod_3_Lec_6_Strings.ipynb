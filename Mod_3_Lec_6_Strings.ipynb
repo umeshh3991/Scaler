{
  "nbformat": 4,
  "nbformat_minor": 0,
  "metadata": {
    "colab": {
      "provenance": [],
      "authorship_tag": "ABX9TyN076nSiI+88QASEK9VjqRx",
      "include_colab_link": true
    },
    "kernelspec": {
      "name": "python3",
      "display_name": "Python 3"
    },
    "language_info": {
      "name": "python"
    }
  },
  "cells": [
    {
      "cell_type": "markdown",
      "metadata": {
        "id": "view-in-github",
        "colab_type": "text"
      },
      "source": [
        "<a href=\"https://colab.research.google.com/github/umeshh3991/Scaler/blob/Module-2/Mod_3_Lec_6_Strings.ipynb\" target=\"_parent\"><img src=\"https://colab.research.google.com/assets/colab-badge.svg\" alt=\"Open In Colab\"/></a>"
      ]
    },
    {
      "cell_type": "markdown",
      "source": [
        "##Defining a String"
      ],
      "metadata": {
        "id": "QJ_0RsD8_NeS"
      }
    },
    {
      "cell_type": "code",
      "source": [
        "a = \"Ume'sh\""
      ],
      "metadata": {
        "id": "npNDaofR_ShG"
      },
      "execution_count": 7,
      "outputs": []
    },
    {
      "cell_type": "code",
      "execution_count": 2,
      "metadata": {
        "id": "kmmBCziE-9m5",
        "outputId": "fe90b6ea-9337-45f3-8106-f1a9463d0698",
        "colab": {
          "base_uri": "https://localhost:8080/"
        }
      },
      "outputs": [
        {
          "output_type": "execute_result",
          "data": {
            "text/plain": [
              "str"
            ]
          },
          "metadata": {},
          "execution_count": 2
        }
      ],
      "source": [
        "type(a)"
      ]
    },
    {
      "cell_type": "code",
      "source": [
        "a = 'ABSLI'\n",
        "type(a)"
      ],
      "metadata": {
        "id": "bErUNdaF_aMT",
        "outputId": "500b51a3-1654-4c1c-d065-1d785b878d9b",
        "colab": {
          "base_uri": "https://localhost:8080/"
        }
      },
      "execution_count": 5,
      "outputs": [
        {
          "output_type": "execute_result",
          "data": {
            "text/plain": [
              "str"
            ]
          },
          "metadata": {},
          "execution_count": 5
        }
      ]
    },
    {
      "cell_type": "markdown",
      "source": [
        "##Multiline String"
      ],
      "metadata": {
        "id": "awVYu2jKAukv"
      }
    },
    {
      "cell_type": "code",
      "source": [
        "a = '''Some random string'''\n",
        "type(a)"
      ],
      "metadata": {
        "id": "cFEfxDHD_ie9",
        "outputId": "8c70ab01-6e1c-4c90-caeb-0881affdfac6",
        "colab": {
          "base_uri": "https://localhost:8080/"
        }
      },
      "execution_count": 6,
      "outputs": [
        {
          "output_type": "execute_result",
          "data": {
            "text/plain": [
              "str"
            ]
          },
          "metadata": {},
          "execution_count": 6
        }
      ]
    },
    {
      "cell_type": "code",
      "source": [
        "a = \"\"\"Some value\"\"\"\n",
        "a"
      ],
      "metadata": {
        "id": "syRV9d01AhDI",
        "outputId": "1e5016fb-cc16-4eb9-aaf9-1a68af487f1d",
        "colab": {
          "base_uri": "https://localhost:8080/",
          "height": 36
        }
      },
      "execution_count": 9,
      "outputs": [
        {
          "output_type": "execute_result",
          "data": {
            "text/plain": [
              "'Some value'"
            ],
            "application/vnd.google.colaboratory.intrinsic+json": {
              "type": "string"
            }
          },
          "metadata": {},
          "execution_count": 9
        }
      ]
    },
    {
      "cell_type": "code",
      "source": [
        "para = \"\"\"\n",
        "We can write a paragraph\n",
        "with multiline string\n",
        "\"\"\""
      ],
      "metadata": {
        "id": "-4D3LtfJAtRe"
      },
      "execution_count": 14,
      "outputs": []
    },
    {
      "cell_type": "code",
      "source": [
        "print(para)"
      ],
      "metadata": {
        "id": "X46duaj_BGmi",
        "outputId": "1990575b-f4c8-4aa6-d1b9-83d1b44f89b6",
        "colab": {
          "base_uri": "https://localhost:8080/"
        }
      },
      "execution_count": 13,
      "outputs": [
        {
          "output_type": "stream",
          "name": "stdout",
          "text": [
            "\n",
            "We can write a paragraph\n",
            "with multiline string\n",
            "\n"
          ]
        }
      ]
    },
    {
      "cell_type": "markdown",
      "source": [
        "##DocString"
      ],
      "metadata": {
        "id": "klJG29LOCa31"
      }
    },
    {
      "cell_type": "code",
      "source": [
        "def foo():\n",
        "  ' This is a doc string'\n",
        "  print(\"Hello World\")"
      ],
      "metadata": {
        "id": "UdWGzI_9Cclj"
      },
      "execution_count": 16,
      "outputs": []
    },
    {
      "cell_type": "code",
      "source": [
        "foo?"
      ],
      "metadata": {
        "id": "eslTkgkLCk0Y"
      },
      "execution_count": 17,
      "outputs": []
    },
    {
      "cell_type": "markdown",
      "source": [
        "## Escape Character"
      ],
      "metadata": {
        "id": "_pGJkKArDWxT"
      }
    },
    {
      "cell_type": "code",
      "source": [
        "arr = 'This isn\\'t True' ## Here \"\\\" is an escape character"
      ],
      "metadata": {
        "id": "wuuK6xiPC0kC"
      },
      "execution_count": 18,
      "outputs": []
    },
    {
      "cell_type": "code",
      "source": [
        "print(arr)"
      ],
      "metadata": {
        "id": "Y8SWKjPyC08m",
        "outputId": "a889947d-34f7-4da7-dd11-d9e0783d1c61",
        "colab": {
          "base_uri": "https://localhost:8080/"
        }
      },
      "execution_count": 19,
      "outputs": [
        {
          "output_type": "stream",
          "name": "stdout",
          "text": [
            "This isn't True\n"
          ]
        }
      ]
    },
    {
      "cell_type": "code",
      "source": [
        "z = \"a\\\\b\""
      ],
      "metadata": {
        "id": "vi5yvuFmEIi8"
      },
      "execution_count": 22,
      "outputs": []
    },
    {
      "cell_type": "code",
      "source": [
        "print(z)"
      ],
      "metadata": {
        "id": "oIyUdaeaEL2i",
        "outputId": "1695fa9f-5f82-4f71-ec3a-2e7b1ea8168b",
        "colab": {
          "base_uri": "https://localhost:8080/"
        }
      },
      "execution_count": 23,
      "outputs": [
        {
          "output_type": "stream",
          "name": "stdout",
          "text": [
            "a\\b\n"
          ]
        }
      ]
    },
    {
      "cell_type": "markdown",
      "source": [
        "## String Comparison"
      ],
      "metadata": {
        "id": "_UaTm5ehFgw4"
      }
    },
    {
      "cell_type": "code",
      "source": [
        "'abc' > 'ABC'"
      ],
      "metadata": {
        "id": "yIh7Dp6aFiuX",
        "outputId": "28ab654a-af09-44d1-f4fb-98733198a659",
        "colab": {
          "base_uri": "https://localhost:8080/"
        }
      },
      "execution_count": 24,
      "outputs": [
        {
          "output_type": "execute_result",
          "data": {
            "text/plain": [
              "True"
            ]
          },
          "metadata": {},
          "execution_count": 24
        }
      ]
    },
    {
      "cell_type": "code",
      "source": [
        "'scaler' < 'something'"
      ],
      "metadata": {
        "id": "oZWZTllLGnc_",
        "outputId": "1cce585f-01d4-4fa3-a8a5-02a0ce9850e3",
        "colab": {
          "base_uri": "https://localhost:8080/"
        }
      },
      "execution_count": 25,
      "outputs": [
        {
          "output_type": "execute_result",
          "data": {
            "text/plain": [
              "True"
            ]
          },
          "metadata": {},
          "execution_count": 25
        }
      ]
    },
    {
      "cell_type": "markdown",
      "source": [
        "## Strings v/s Lists"
      ],
      "metadata": {
        "id": "HOwhtqIzGssh"
      }
    },
    {
      "cell_type": "markdown",
      "source": [
        "- Operations using Lists"
      ],
      "metadata": {
        "id": "o6RWDWl1HXdI"
      }
    },
    {
      "cell_type": "code",
      "source": [
        "a = [1,2,3]\n",
        "a[0]= 100\n",
        "print(a[1:3])\n",
        "print(a[::-1])"
      ],
      "metadata": {
        "id": "kDJr3bTnGuhV",
        "outputId": "76728f26-18cf-4ed8-a5dd-1d6b63f24d08",
        "colab": {
          "base_uri": "https://localhost:8080/"
        }
      },
      "execution_count": 26,
      "outputs": [
        {
          "output_type": "stream",
          "name": "stdout",
          "text": [
            "[2, 3]\n",
            "[3, 2, 100]\n"
          ]
        }
      ]
    },
    {
      "cell_type": "markdown",
      "source": [
        "- Same operations using Lists"
      ],
      "metadata": {
        "id": "WfawBecBHbKJ"
      }
    },
    {
      "cell_type": "code",
      "source": [
        "a = \"scaler\"\n",
        "a[0] = \"a\"\n",
        "\n",
        "print(a[1:3])\n",
        "print(a[::-1])"
      ],
      "metadata": {
        "id": "3-t6-9kHHeP5",
        "outputId": "5a1fe5e4-075c-46cb-ddf0-778c4013ab85",
        "colab": {
          "base_uri": "https://localhost:8080/",
          "height": 211
        }
      },
      "execution_count": 27,
      "outputs": [
        {
          "output_type": "error",
          "ename": "TypeError",
          "evalue": "'str' object does not support item assignment",
          "traceback": [
            "\u001b[0;31m---------------------------------------------------------------------------\u001b[0m",
            "\u001b[0;31mTypeError\u001b[0m                                 Traceback (most recent call last)",
            "\u001b[0;32m<ipython-input-27-84bbe7a0081e>\u001b[0m in \u001b[0;36m<cell line: 2>\u001b[0;34m()\u001b[0m\n\u001b[1;32m      1\u001b[0m \u001b[0ma\u001b[0m \u001b[0;34m=\u001b[0m \u001b[0;34m\"scaler\"\u001b[0m\u001b[0;34m\u001b[0m\u001b[0;34m\u001b[0m\u001b[0m\n\u001b[0;32m----> 2\u001b[0;31m \u001b[0ma\u001b[0m\u001b[0;34m[\u001b[0m\u001b[0;36m0\u001b[0m\u001b[0;34m]\u001b[0m \u001b[0;34m=\u001b[0m \u001b[0;34m\"a\"\u001b[0m\u001b[0;34m\u001b[0m\u001b[0;34m\u001b[0m\u001b[0m\n\u001b[0m\u001b[1;32m      3\u001b[0m \u001b[0;34m\u001b[0m\u001b[0m\n\u001b[1;32m      4\u001b[0m \u001b[0mprint\u001b[0m\u001b[0;34m(\u001b[0m\u001b[0ma\u001b[0m\u001b[0;34m[\u001b[0m\u001b[0;36m1\u001b[0m\u001b[0;34m:\u001b[0m\u001b[0;36m3\u001b[0m\u001b[0;34m]\u001b[0m\u001b[0;34m)\u001b[0m\u001b[0;34m\u001b[0m\u001b[0;34m\u001b[0m\u001b[0m\n\u001b[1;32m      5\u001b[0m \u001b[0mprint\u001b[0m\u001b[0;34m(\u001b[0m\u001b[0ma\u001b[0m\u001b[0;34m[\u001b[0m\u001b[0;34m:\u001b[0m\u001b[0;34m:\u001b[0m\u001b[0;34m-\u001b[0m\u001b[0;36m1\u001b[0m\u001b[0;34m]\u001b[0m\u001b[0;34m)\u001b[0m\u001b[0;34m\u001b[0m\u001b[0;34m\u001b[0m\u001b[0m\n",
            "\u001b[0;31mTypeError\u001b[0m: 'str' object does not support item assignment"
          ]
        }
      ]
    },
    {
      "cell_type": "code",
      "source": [
        "a = \"scaler\"\n",
        "print(a[5])\n",
        "print(a[1:3])\n",
        "print(a[::-1])"
      ],
      "metadata": {
        "id": "gK-ir647ImWa",
        "outputId": "cc0f9695-3e3b-4d80-96f7-4e2f22ae1e0b",
        "colab": {
          "base_uri": "https://localhost:8080/"
        }
      },
      "execution_count": 28,
      "outputs": [
        {
          "output_type": "stream",
          "name": "stdout",
          "text": [
            "r\n",
            "ca\n",
            "relacs\n"
          ]
        }
      ]
    },
    {
      "cell_type": "markdown",
      "source": [
        "Q. Create a function which solves below problem\n",
        "\n",
        "- Given a string s and index i, remove the ith character from the string"
      ],
      "metadata": {
        "id": "WQTmoA5jK4gp"
      }
    },
    {
      "cell_type": "code",
      "source": [
        "def foo(s,i):\n",
        "  str1 = s[:i]\n",
        "  str2 = s[i+1:]\n",
        "  str  =(str1+str2)\n",
        "  print(str)\n",
        "\n",
        "foo(\"scaler\",2)"
      ],
      "metadata": {
        "collapsed": true,
        "id": "7-_CkpjYLF3T",
        "outputId": "89dca007-f46b-4855-e53c-72dd97ba837c",
        "colab": {
          "base_uri": "https://localhost:8080/"
        }
      },
      "execution_count": 35,
      "outputs": [
        {
          "output_type": "stream",
          "name": "stdout",
          "text": [
            "scler\n"
          ]
        }
      ]
    },
    {
      "cell_type": "markdown",
      "source": [
        "## Operations on String"
      ],
      "metadata": {
        "id": "ke830BfLRMki"
      }
    },
    {
      "cell_type": "markdown",
      "source": [
        "- Concatenation"
      ],
      "metadata": {
        "id": "G6-PfWomRZyX"
      }
    },
    {
      "cell_type": "code",
      "source": [
        "a = \"hello \" + \"world\"\n",
        "a"
      ],
      "metadata": {
        "id": "L7lo9nnPRPd8",
        "outputId": "88459cc7-0541-4a80-9364-0034693c152e",
        "colab": {
          "base_uri": "https://localhost:8080/",
          "height": 36
        }
      },
      "execution_count": 36,
      "outputs": [
        {
          "output_type": "execute_result",
          "data": {
            "text/plain": [
              "'hello world'"
            ],
            "application/vnd.google.colaboratory.intrinsic+json": {
              "type": "string"
            }
          },
          "metadata": {},
          "execution_count": 36
        }
      ]
    },
    {
      "cell_type": "code",
      "source": [
        "a  = \"hello\" \"world\"\n",
        "a"
      ],
      "metadata": {
        "id": "lxQK-Ou7RjnF",
        "outputId": "7c77a896-f46c-4f9b-dd04-1412e18a4019",
        "colab": {
          "base_uri": "https://localhost:8080/",
          "height": 36
        }
      },
      "execution_count": 38,
      "outputs": [
        {
          "output_type": "execute_result",
          "data": {
            "text/plain": [
              "'helloworld'"
            ],
            "application/vnd.google.colaboratory.intrinsic+json": {
              "type": "string"
            }
          },
          "metadata": {},
          "execution_count": 38
        }
      ]
    },
    {
      "cell_type": "markdown",
      "source": [
        "- Iteration"
      ],
      "metadata": {
        "id": "szISX08IRyc-"
      }
    },
    {
      "cell_type": "code",
      "source": [
        "a = \"scaler\"\n",
        "\n",
        "for chr in a:\n",
        "  print(chr)"
      ],
      "metadata": {
        "id": "VUB4WXNaR0Mi",
        "outputId": "330edd2b-d824-4551-df43-ec98e0e80bfa",
        "colab": {
          "base_uri": "https://localhost:8080/"
        }
      },
      "execution_count": 39,
      "outputs": [
        {
          "output_type": "stream",
          "name": "stdout",
          "text": [
            "s\n",
            "c\n",
            "a\n",
            "l\n",
            "e\n",
            "r\n"
          ]
        }
      ]
    },
    {
      "cell_type": "markdown",
      "source": [
        "- Convert string to list"
      ],
      "metadata": {
        "id": "cP5R2YqFSBAO"
      }
    },
    {
      "cell_type": "code",
      "source": [
        "a = 'scaler'\n",
        "list(a)"
      ],
      "metadata": {
        "id": "d371cqYRSDXO",
        "outputId": "0ff394a4-3ebb-4c03-d2e6-ad134356826b",
        "colab": {
          "base_uri": "https://localhost:8080/"
        }
      },
      "execution_count": 40,
      "outputs": [
        {
          "output_type": "execute_result",
          "data": {
            "text/plain": [
              "['s', 'c', 'a', 'l', 'e', 'r']"
            ]
          },
          "metadata": {},
          "execution_count": 40
        }
      ]
    },
    {
      "cell_type": "markdown",
      "source": [
        "## Methods that exist on String"
      ],
      "metadata": {
        "id": "2HKjWvcASUfD"
      }
    },
    {
      "cell_type": "markdown",
      "source": [
        "- Upper()"
      ],
      "metadata": {
        "id": "-qKDWDfXSZy5"
      }
    },
    {
      "cell_type": "code",
      "source": [
        "\"umesh\".upper()"
      ],
      "metadata": {
        "id": "-3F8ia5-SXXs",
        "outputId": "9fd97bc0-475f-40e8-bfbf-b91c894c18b9",
        "colab": {
          "base_uri": "https://localhost:8080/",
          "height": 36
        }
      },
      "execution_count": 41,
      "outputs": [
        {
          "output_type": "execute_result",
          "data": {
            "text/plain": [
              "'UMESH'"
            ],
            "application/vnd.google.colaboratory.intrinsic+json": {
              "type": "string"
            }
          },
          "metadata": {},
          "execution_count": 41
        }
      ]
    },
    {
      "cell_type": "markdown",
      "source": [
        "- Lower()"
      ],
      "metadata": {
        "id": "1LHAqssuTHUI"
      }
    },
    {
      "cell_type": "code",
      "source": [
        "\"SCALER\".lower()"
      ],
      "metadata": {
        "id": "rGppT-8hTG76",
        "outputId": "5ceb28b7-fb41-4102-ea0d-ebcdf39abbfe",
        "colab": {
          "base_uri": "https://localhost:8080/",
          "height": 36
        }
      },
      "execution_count": 42,
      "outputs": [
        {
          "output_type": "execute_result",
          "data": {
            "text/plain": [
              "'scaler'"
            ],
            "application/vnd.google.colaboratory.intrinsic+json": {
              "type": "string"
            }
          },
          "metadata": {},
          "execution_count": 42
        }
      ]
    },
    {
      "cell_type": "markdown",
      "source": [
        "- Isupper()"
      ],
      "metadata": {
        "id": "D-_1vzGFTVSb"
      }
    },
    {
      "cell_type": "code",
      "source": [
        "\"UMESH\".isupper()"
      ],
      "metadata": {
        "id": "7TJuVi1eTV6C",
        "outputId": "28834d03-6cad-402c-82b0-706242020000",
        "colab": {
          "base_uri": "https://localhost:8080/"
        }
      },
      "execution_count": 44,
      "outputs": [
        {
          "output_type": "execute_result",
          "data": {
            "text/plain": [
              "True"
            ]
          },
          "metadata": {},
          "execution_count": 44
        }
      ]
    },
    {
      "cell_type": "code",
      "source": [
        "\"Scaler\".isupper()"
      ],
      "metadata": {
        "id": "-IdxCgg8TiFR",
        "outputId": "6e4d16f4-1c68-4c95-8a9a-8a3044c78877",
        "colab": {
          "base_uri": "https://localhost:8080/"
        }
      },
      "execution_count": 45,
      "outputs": [
        {
          "output_type": "execute_result",
          "data": {
            "text/plain": [
              "False"
            ]
          },
          "metadata": {},
          "execution_count": 45
        }
      ]
    },
    {
      "cell_type": "markdown",
      "source": [
        "- isLower()"
      ],
      "metadata": {
        "id": "RcoPrKwETw2N"
      }
    },
    {
      "cell_type": "code",
      "source": [
        "\"abc\".islower()"
      ],
      "metadata": {
        "id": "0az73P0uTxHm",
        "outputId": "81ad9a05-d2d3-42c1-e801-1904b12d87b0",
        "colab": {
          "base_uri": "https://localhost:8080/"
        }
      },
      "execution_count": 46,
      "outputs": [
        {
          "output_type": "execute_result",
          "data": {
            "text/plain": [
              "True"
            ]
          },
          "metadata": {},
          "execution_count": 46
        }
      ]
    },
    {
      "cell_type": "code",
      "source": [
        "\"Abc\".islower()"
      ],
      "metadata": {
        "id": "RDGJpRUjTxR6",
        "outputId": "2dd0ee78-d4aa-46bd-f083-71b3af318451",
        "colab": {
          "base_uri": "https://localhost:8080/"
        }
      },
      "execution_count": 47,
      "outputs": [
        {
          "output_type": "execute_result",
          "data": {
            "text/plain": [
              "False"
            ]
          },
          "metadata": {},
          "execution_count": 47
        }
      ]
    },
    {
      "cell_type": "markdown",
      "source": [
        "- startsWith()"
      ],
      "metadata": {
        "id": "FW4qy88uUEML"
      }
    },
    {
      "cell_type": "code",
      "source": [
        "\"abc\".startswith(\"ab\")"
      ],
      "metadata": {
        "id": "pZWVFFiAUGxi",
        "outputId": "d9d0659d-32f1-44d8-ac88-4ac7d6d2042a",
        "colab": {
          "base_uri": "https://localhost:8080/"
        }
      },
      "execution_count": 48,
      "outputs": [
        {
          "output_type": "execute_result",
          "data": {
            "text/plain": [
              "True"
            ]
          },
          "metadata": {},
          "execution_count": 48
        }
      ]
    },
    {
      "cell_type": "code",
      "source": [
        "\"abc\".startswith(\"xy\")"
      ],
      "metadata": {
        "id": "TLmZxlHBUHJA",
        "outputId": "101b0f18-abec-4aa7-a2cb-b6bf90f837dc",
        "colab": {
          "base_uri": "https://localhost:8080/"
        }
      },
      "execution_count": 49,
      "outputs": [
        {
          "output_type": "execute_result",
          "data": {
            "text/plain": [
              "False"
            ]
          },
          "metadata": {},
          "execution_count": 49
        }
      ]
    },
    {
      "cell_type": "markdown",
      "source": [
        "- endsWith()"
      ],
      "metadata": {
        "id": "vUfOeH4MUc8k"
      }
    },
    {
      "cell_type": "code",
      "source": [
        "\"abc\".endswith(\"ab\")"
      ],
      "metadata": {
        "id": "rlBxi47PUdNz",
        "outputId": "57485188-b48d-4e2a-f947-dd2defb910fe",
        "colab": {
          "base_uri": "https://localhost:8080/"
        }
      },
      "execution_count": 50,
      "outputs": [
        {
          "output_type": "execute_result",
          "data": {
            "text/plain": [
              "False"
            ]
          },
          "metadata": {},
          "execution_count": 50
        }
      ]
    },
    {
      "cell_type": "code",
      "source": [
        "\"abc\".endswith(\"bc\")"
      ],
      "metadata": {
        "id": "VCs8H_7zUdYg",
        "outputId": "cd521fae-059c-49dd-f68e-a0c463a20e77",
        "colab": {
          "base_uri": "https://localhost:8080/"
        }
      },
      "execution_count": 51,
      "outputs": [
        {
          "output_type": "execute_result",
          "data": {
            "text/plain": [
              "True"
            ]
          },
          "metadata": {},
          "execution_count": 51
        }
      ]
    },
    {
      "cell_type": "markdown",
      "source": [
        "- in()"
      ],
      "metadata": {
        "id": "34jocl4UU5Dw"
      }
    },
    {
      "cell_type": "code",
      "source": [
        "\"th\" in \"something\""
      ],
      "metadata": {
        "id": "GiJFCri2U5S7",
        "outputId": "3f6b54d5-41de-4367-cc1e-a98ebd0195d3",
        "colab": {
          "base_uri": "https://localhost:8080/"
        }
      },
      "execution_count": 52,
      "outputs": [
        {
          "output_type": "execute_result",
          "data": {
            "text/plain": [
              "True"
            ]
          },
          "metadata": {},
          "execution_count": 52
        }
      ]
    },
    {
      "cell_type": "markdown",
      "source": [
        "- Title"
      ],
      "metadata": {
        "id": "YRfhVqkbVLCi"
      }
    },
    {
      "cell_type": "code",
      "source": [
        "\"umesh\".title()"
      ],
      "metadata": {
        "id": "C4gekrXIVLWn",
        "outputId": "cae4b9fa-72e8-4c6e-fa64-b0954e6fb9f9",
        "colab": {
          "base_uri": "https://localhost:8080/",
          "height": 36
        }
      },
      "execution_count": 53,
      "outputs": [
        {
          "output_type": "execute_result",
          "data": {
            "text/plain": [
              "'Umesh'"
            ],
            "application/vnd.google.colaboratory.intrinsic+json": {
              "type": "string"
            }
          },
          "metadata": {},
          "execution_count": 53
        }
      ]
    },
    {
      "cell_type": "markdown",
      "source": [
        "- isTitle()"
      ],
      "metadata": {
        "id": "LzbVouPNV5uv"
      }
    },
    {
      "cell_type": "code",
      "source": [
        "\"Scaler\".istitle()"
      ],
      "metadata": {
        "id": "ktzaFwbzV6BP",
        "outputId": "74421f18-0a3e-4021-d010-2700b5fb33b0",
        "colab": {
          "base_uri": "https://localhost:8080/"
        }
      },
      "execution_count": 54,
      "outputs": [
        {
          "output_type": "execute_result",
          "data": {
            "text/plain": [
              "True"
            ]
          },
          "metadata": {},
          "execution_count": 54
        }
      ]
    },
    {
      "cell_type": "markdown",
      "source": [
        "## String Interpolation"
      ],
      "metadata": {
        "id": "jJvL08VpZqDF"
      }
    },
    {
      "cell_type": "code",
      "source": [
        "name = \"Umesh\"\n",
        "company = \"ABSLI\"\n",
        "\n",
        "print(\"Hello I'm \"+name+\" and I work at \"+company)"
      ],
      "metadata": {
        "id": "ZvTkchmbZser",
        "outputId": "3e50f28e-28e1-448c-ec99-39a5ccced9cb",
        "colab": {
          "base_uri": "https://localhost:8080/"
        }
      },
      "execution_count": 57,
      "outputs": [
        {
          "output_type": "stream",
          "name": "stdout",
          "text": [
            "Hello I'm Umesh and I work at ABSLI\n"
          ]
        }
      ]
    },
    {
      "cell_type": "markdown",
      "source": [
        "String + Int"
      ],
      "metadata": {
        "id": "wpF1BQpiic5v"
      }
    },
    {
      "cell_type": "code",
      "source": [
        "a = 15\n",
        "b = 14\n",
        "\n",
        "print (\"The total is \"+(a+b))"
      ],
      "metadata": {
        "id": "4RSBYbUaiemN",
        "outputId": "42b434d0-98ab-49a5-f123-e6d6c6a17232",
        "colab": {
          "base_uri": "https://localhost:8080/",
          "height": 176
        }
      },
      "execution_count": 58,
      "outputs": [
        {
          "output_type": "error",
          "ename": "TypeError",
          "evalue": "can only concatenate str (not \"int\") to str",
          "traceback": [
            "\u001b[0;31m---------------------------------------------------------------------------\u001b[0m",
            "\u001b[0;31mTypeError\u001b[0m                                 Traceback (most recent call last)",
            "\u001b[0;32m<ipython-input-58-d927bafd1948>\u001b[0m in \u001b[0;36m<cell line: 4>\u001b[0;34m()\u001b[0m\n\u001b[1;32m      2\u001b[0m \u001b[0mb\u001b[0m \u001b[0;34m=\u001b[0m \u001b[0;36m14\u001b[0m\u001b[0;34m\u001b[0m\u001b[0;34m\u001b[0m\u001b[0m\n\u001b[1;32m      3\u001b[0m \u001b[0;34m\u001b[0m\u001b[0m\n\u001b[0;32m----> 4\u001b[0;31m \u001b[0mprint\u001b[0m \u001b[0;34m(\u001b[0m\u001b[0;34m\"The total is \"\u001b[0m\u001b[0;34m+\u001b[0m\u001b[0;34m(\u001b[0m\u001b[0ma\u001b[0m\u001b[0;34m+\u001b[0m\u001b[0mb\u001b[0m\u001b[0;34m)\u001b[0m\u001b[0;34m)\u001b[0m\u001b[0;34m\u001b[0m\u001b[0;34m\u001b[0m\u001b[0m\n\u001b[0m",
            "\u001b[0;31mTypeError\u001b[0m: can only concatenate str (not \"int\") to str"
          ]
        }
      ]
    },
    {
      "cell_type": "code",
      "source": [
        "## To resolve the problem we face in above code below is the solution\n",
        "\n",
        "a = 15\n",
        "b = 14\n",
        "\n",
        "print(\"The total is {}\".format(a+b))"
      ],
      "metadata": {
        "id": "doEZL_2RinO-",
        "outputId": "d22ec3a5-e004-4fbf-ea22-ca285db87497",
        "colab": {
          "base_uri": "https://localhost:8080/"
        }
      },
      "execution_count": 62,
      "outputs": [
        {
          "output_type": "stream",
          "name": "stdout",
          "text": [
            "The total is 29\n"
          ]
        }
      ]
    },
    {
      "cell_type": "markdown",
      "source": [
        "- Positional Argument"
      ],
      "metadata": {
        "id": "K0n6Yxn6jQuq"
      }
    },
    {
      "cell_type": "code",
      "source": [
        "print(\"a = {}, b = {} and total = {}\".format(10,12,(a+b)))"
      ],
      "metadata": {
        "id": "9WBb79V4i-Cs",
        "outputId": "c6d8ea22-ff25-419c-bf4f-75bbe93a4fb8",
        "colab": {
          "base_uri": "https://localhost:8080/"
        }
      },
      "execution_count": 63,
      "outputs": [
        {
          "output_type": "stream",
          "name": "stdout",
          "text": [
            "a = 10, b = 12 and total = 29\n"
          ]
        }
      ]
    },
    {
      "cell_type": "markdown",
      "source": [
        "- Keyworded Argument"
      ],
      "metadata": {
        "id": "Kq4QYZ0jjT_K"
      }
    },
    {
      "cell_type": "code",
      "source": [
        "print(\"My name is {name} and I work in {company}\".format(name = \"Umesh\", company = \"ABSLI\"))"
      ],
      "metadata": {
        "id": "aeJcPq_RjY2g",
        "outputId": "78aba89b-7a44-4df1-8741-3a47fc14ae1a",
        "colab": {
          "base_uri": "https://localhost:8080/"
        }
      },
      "execution_count": 65,
      "outputs": [
        {
          "output_type": "stream",
          "name": "stdout",
          "text": [
            "My name is Umesh and I work in ABSLI\n"
          ]
        }
      ]
    },
    {
      "cell_type": "markdown",
      "source": [
        "Q. Suppose there are 10 employees working for ABSLI. How to register their names"
      ],
      "metadata": {
        "id": "llricaHopQZ1"
      }
    },
    {
      "cell_type": "code",
      "source": [
        "emp = [\n",
        "        {\"name\" : \"Prakhil\", \"company\" : \"ABSLI\"},\n",
        "        {\"name\" : \"Umesh\", \"company\" : \"ABSLI\"},\n",
        "        {\"name\" : \"Rahul\", \"company\" : \"ABSLI\"},\n",
        "        {\"name\" : \"Sushant\", \"company\" : \"ABSLI\"},\n",
        "        {\"name\" : \"Vikas\", \"company\" : \"ABSLI\"},\n",
        "        {\"name\" : \"Mithila\", \"company\" : \"ABSLI\"},\n",
        "        {\"name\" : \"Rakesh\", \"company\" : \"ABSLI\"},\n",
        "        {\"name\" : \"Sushil\", \"company\" : \"ABSLI\"},\n",
        "        {\"name\" : \"Shubham\", \"company\" : \"ABSLI\"},\n",
        "        {\"name\" : \"Suraj\", \"company\" : \"ABSLI\"}\n",
        "      ]"
      ],
      "metadata": {
        "id": "WcmC8JgDpQ5y"
      },
      "execution_count": 73,
      "outputs": []
    },
    {
      "cell_type": "code",
      "source": [
        "for employee in emp:\n",
        "  print(\"Employee name is {name} who works in {company}\".format(name = employee[\"name\"], company = employee[\"company\"]))"
      ],
      "metadata": {
        "id": "LF2JkJoDqDaY",
        "outputId": "e453bb54-4a76-469b-9ace-3a6ea239c14d",
        "colab": {
          "base_uri": "https://localhost:8080/"
        }
      },
      "execution_count": 76,
      "outputs": [
        {
          "output_type": "stream",
          "name": "stdout",
          "text": [
            "Employee name is Prakhil who works in ABSLI\n",
            "Employee name is Umesh who works in ABSLI\n",
            "Employee name is Rahul who works in ABSLI\n",
            "Employee name is Sushant who works in ABSLI\n",
            "Employee name is Vikas who works in ABSLI\n",
            "Employee name is Mithila who works in ABSLI\n",
            "Employee name is Rakesh who works in ABSLI\n",
            "Employee name is Sushil who works in ABSLI\n",
            "Employee name is Shubham who works in ABSLI\n",
            "Employee name is Suraj who works in ABSLI\n"
          ]
        }
      ]
    },
    {
      "cell_type": "code",
      "source": [
        "str = \"a\\nb\"\n",
        "print(str)\n",
        "len(str)"
      ],
      "metadata": {
        "id": "gQOvbAIMuYRP",
        "outputId": "cf6686a5-6bfd-461b-97d2-2a86287142bd",
        "colab": {
          "base_uri": "https://localhost:8080/"
        }
      },
      "execution_count": 78,
      "outputs": [
        {
          "output_type": "stream",
          "name": "stdout",
          "text": [
            "a\n",
            "b\n"
          ]
        },
        {
          "output_type": "execute_result",
          "data": {
            "text/plain": [
              "3"
            ]
          },
          "metadata": {},
          "execution_count": 78
        }
      ]
    },
    {
      "cell_type": "code",
      "source": [
        "print(len(\"abc\\t\\n\\\\\\\\\"))"
      ],
      "metadata": {
        "id": "8WiK-bAXuWjt",
        "outputId": "a013f559-fe9c-41a4-d672-28ea02afd149",
        "colab": {
          "base_uri": "https://localhost:8080/"
        }
      },
      "execution_count": 79,
      "outputs": [
        {
          "output_type": "stream",
          "name": "stdout",
          "text": [
            "7\n"
          ]
        }
      ]
    },
    {
      "cell_type": "markdown",
      "source": [
        "## String Modifiers"
      ],
      "metadata": {
        "id": "B0N8ShYQ13V9"
      }
    },
    {
      "cell_type": "markdown",
      "source": [
        "1. Raw String"
      ],
      "metadata": {
        "id": "6L0bL5iF15ax"
      }
    },
    {
      "cell_type": "code",
      "source": [
        "a = \"abc\\t\\n\"\n",
        "print(a)"
      ],
      "metadata": {
        "id": "c74H09yv136b",
        "outputId": "5e9b7c9f-a16b-4cfa-ee40-04f5720dec4a",
        "colab": {
          "base_uri": "https://localhost:8080/"
        }
      },
      "execution_count": 80,
      "outputs": [
        {
          "output_type": "stream",
          "name": "stdout",
          "text": [
            "abc\t\n",
            "\n"
          ]
        }
      ]
    },
    {
      "cell_type": "markdown",
      "source": [
        "2. Format String"
      ],
      "metadata": {
        "id": "uL7BEwnw1_4h"
      }
    },
    {
      "cell_type": "code",
      "source": [
        "a = 9\n",
        "b = 5\n",
        "\n",
        "print(f\"a = {a}, b = {b} and a + b = {a+b}\")"
      ],
      "metadata": {
        "id": "DNZuxWC42AH_",
        "outputId": "da49114e-c39a-4078-f2d3-0a5fbfed19f6",
        "colab": {
          "base_uri": "https://localhost:8080/"
        }
      },
      "execution_count": 86,
      "outputs": [
        {
          "output_type": "stream",
          "name": "stdout",
          "text": [
            "a = 9, b = 5 and a + b = 14\n"
          ]
        }
      ]
    }
  ]
}