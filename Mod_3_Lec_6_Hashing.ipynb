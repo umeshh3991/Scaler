{
  "nbformat": 4,
  "nbformat_minor": 0,
  "metadata": {
    "colab": {
      "provenance": [],
      "authorship_tag": "ABX9TyMZW1PNWImXVp+VR+po11HU",
      "include_colab_link": true
    },
    "kernelspec": {
      "name": "python3",
      "display_name": "Python 3"
    },
    "language_info": {
      "name": "python"
    }
  },
  "cells": [
    {
      "cell_type": "markdown",
      "metadata": {
        "id": "view-in-github",
        "colab_type": "text"
      },
      "source": [
        "<a href=\"https://colab.research.google.com/github/umeshh3991/Scaler/blob/Module-3/Mod_3_Lec_6_Hashing.ipynb\" target=\"_parent\"><img src=\"https://colab.research.google.com/assets/colab-badge.svg\" alt=\"Open In Colab\"/></a>"
      ]
    },
    {
      "cell_type": "markdown",
      "source": [
        "## HASHING"
      ],
      "metadata": {
        "id": "BoVKkRxi9-o4"
      }
    },
    {
      "cell_type": "markdown",
      "source": [
        "Q. WAP to to create a decrypted messge"
      ],
      "metadata": {
        "id": "zShDIE9Y-FQz"
      }
    },
    {
      "cell_type": "code",
      "source": [
        "def encrypt(msg,key):\n",
        "  return \"\".join([ chr(ord(char) + key) for char in msg ])"
      ],
      "metadata": {
        "id": "eVY6n0kb-Egi"
      },
      "execution_count": 9,
      "outputs": []
    },
    {
      "cell_type": "code",
      "source": [
        "encrypt_msg = encrypt(\"Umesh\",2)\n",
        "\n",
        "print (encrypt_msg)"
      ],
      "metadata": {
        "id": "UYMWS_GjHknA",
        "outputId": "72c14078-af9e-4899-f477-e6158509f77d",
        "colab": {
          "base_uri": "https://localhost:8080/"
        }
      },
      "execution_count": 15,
      "outputs": [
        {
          "output_type": "stream",
          "name": "stdout",
          "text": [
            "Woguj\n"
          ]
        }
      ]
    },
    {
      "cell_type": "code",
      "source": [
        "def decrypt(d_msg,key):\n",
        "  return \"\".join([ chr(ord(char) - key) for char in d_msg ])"
      ],
      "metadata": {
        "id": "RBXAxuPsINzW"
      },
      "execution_count": 16,
      "outputs": []
    },
    {
      "cell_type": "code",
      "source": [
        "decrypt_msg = decrypt(encrypt_msg,2)\n",
        "\n",
        "print(decrypt_msg)"
      ],
      "metadata": {
        "id": "hnVqxIfy7GXQ",
        "outputId": "d853e403-4807-4d18-ba6e-cccbd6fa6560",
        "colab": {
          "base_uri": "https://localhost:8080/"
        }
      },
      "execution_count": 18,
      "outputs": [
        {
          "output_type": "stream",
          "name": "stdout",
          "text": [
            "Umesh\n"
          ]
        }
      ]
    },
    {
      "cell_type": "markdown",
      "source": [
        "## Hashing Algorithm"
      ],
      "metadata": {
        "id": "JHjcxwQdgumJ"
      }
    },
    {
      "cell_type": "code",
      "source": [
        "table = [None] * 10"
      ],
      "metadata": {
        "id": "yPGveFq2g4Mt"
      },
      "execution_count": 11,
      "outputs": []
    },
    {
      "cell_type": "code",
      "source": [
        "def hash(x):\n",
        "  return x % 10"
      ],
      "metadata": {
        "id": "Gs77fArIg_o_"
      },
      "execution_count": 2,
      "outputs": []
    },
    {
      "cell_type": "code",
      "source": [
        "def set(key,value):\n",
        "  table[hash(key)] = value"
      ],
      "metadata": {
        "id": "nH56kpVehFq1"
      },
      "execution_count": 3,
      "outputs": []
    },
    {
      "cell_type": "code",
      "source": [
        "def get(key):\n",
        "  return table[hash(key)]"
      ],
      "metadata": {
        "id": "kof_S310hWoM"
      },
      "execution_count": 4,
      "outputs": []
    },
    {
      "cell_type": "code",
      "source": [
        "set(25, \"Umesh\")"
      ],
      "metadata": {
        "id": "tweJmgquhjGF"
      },
      "execution_count": 14,
      "outputs": []
    },
    {
      "cell_type": "code",
      "source": [
        "table"
      ],
      "metadata": {
        "id": "BOAcOTBkjJAe",
        "outputId": "47b74497-2e25-4db3-9436-dd3dc0dfdea7",
        "colab": {
          "base_uri": "https://localhost:8080/"
        }
      },
      "execution_count": 15,
      "outputs": [
        {
          "output_type": "execute_result",
          "data": {
            "text/plain": [
              "[None, None, None, None, None, 'Umesh', None, None, None, None]"
            ]
          },
          "metadata": {},
          "execution_count": 15
        }
      ]
    },
    {
      "cell_type": "code",
      "source": [
        "get(25)"
      ],
      "metadata": {
        "id": "Koes6of6jlZ0",
        "outputId": "469e5e69-9606-4a38-dc8a-decb4018d51f",
        "colab": {
          "base_uri": "https://localhost:8080/",
          "height": 36
        }
      },
      "execution_count": 16,
      "outputs": [
        {
          "output_type": "execute_result",
          "data": {
            "text/plain": [
              "'Umesh'"
            ],
            "application/vnd.google.colaboratory.intrinsic+json": {
              "type": "string"
            }
          },
          "metadata": {},
          "execution_count": 16
        }
      ]
    },
    {
      "cell_type": "code",
      "source": [
        "get(5)"
      ],
      "metadata": {
        "id": "xFxUcf9Zk2JC",
        "outputId": "cf716d0b-d478-4ec8-e487-5e86965c63de",
        "colab": {
          "base_uri": "https://localhost:8080/",
          "height": 36
        }
      },
      "execution_count": 17,
      "outputs": [
        {
          "output_type": "execute_result",
          "data": {
            "text/plain": [
              "'Umesh'"
            ],
            "application/vnd.google.colaboratory.intrinsic+json": {
              "type": "string"
            }
          },
          "metadata": {},
          "execution_count": 17
        }
      ]
    }
  ]
}