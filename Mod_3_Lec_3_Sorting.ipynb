{
  "nbformat": 4,
  "nbformat_minor": 0,
  "metadata": {
    "colab": {
      "provenance": [],
      "authorship_tag": "ABX9TyMBzdImppFpmeBwarx875om",
      "include_colab_link": true
    },
    "kernelspec": {
      "name": "python3",
      "display_name": "Python 3"
    },
    "language_info": {
      "name": "python"
    }
  },
  "cells": [
    {
      "cell_type": "markdown",
      "metadata": {
        "id": "view-in-github",
        "colab_type": "text"
      },
      "source": [
        "<a href=\"https://colab.research.google.com/github/umeshh3991/Scaler/blob/Module-3/Mod_3_Lec_3_Sorting.ipynb\" target=\"_parent\"><img src=\"https://colab.research.google.com/assets/colab-badge.svg\" alt=\"Open In Colab\"/></a>"
      ]
    },
    {
      "cell_type": "markdown",
      "source": [
        "## Bubble Sort"
      ],
      "metadata": {
        "id": "_u4QjtzAn_Qg"
      }
    },
    {
      "cell_type": "markdown",
      "source": [
        "Q. WAP to sort list of integers using Bubble Sort"
      ],
      "metadata": {
        "id": "15MGC-j4t9uh"
      }
    },
    {
      "cell_type": "code",
      "execution_count": 13,
      "metadata": {
        "id": "GGSC0cKXmf0Q"
      },
      "outputs": [],
      "source": [
        "def bubble_sort(array):\n",
        "\n",
        "  start = 0\n",
        "  end = len(array)\n",
        "  count = 0\n",
        "\n",
        "  while start < end:\n",
        "    for i in range(end-1):\n",
        "      count += 1\n",
        "      print(\"Iteration #\",count)\n",
        "      if (array[i] > array[i+1]):\n",
        "        temp = array[i+1]\n",
        "        array[i+1] = array[i]\n",
        "        array[i] = temp\n",
        "    end -= 1\n",
        "\n",
        "  return(array)"
      ]
    },
    {
      "cell_type": "code",
      "source": [
        "my_array = [5, 1, 2, 4, 7, 3]"
      ],
      "metadata": {
        "id": "UmoWCvwJn-YO"
      },
      "execution_count": 14,
      "outputs": []
    },
    {
      "cell_type": "code",
      "source": [
        "bubble_sort(my_array)"
      ],
      "metadata": {
        "id": "dOudeKf4wimJ",
        "outputId": "95c63f86-abc4-4c96-f357-9c01f59370be",
        "colab": {
          "base_uri": "https://localhost:8080/"
        }
      },
      "execution_count": 15,
      "outputs": [
        {
          "output_type": "stream",
          "name": "stdout",
          "text": [
            "Iteration # 1\n",
            "Iteration # 2\n",
            "Iteration # 3\n",
            "Iteration # 4\n",
            "Iteration # 5\n",
            "Iteration # 6\n",
            "Iteration # 7\n",
            "Iteration # 8\n",
            "Iteration # 9\n",
            "Iteration # 10\n",
            "Iteration # 11\n",
            "Iteration # 12\n",
            "Iteration # 13\n",
            "Iteration # 14\n",
            "Iteration # 15\n"
          ]
        },
        {
          "output_type": "execute_result",
          "data": {
            "text/plain": [
              "[1, 2, 3, 4, 5, 7]"
            ]
          },
          "metadata": {},
          "execution_count": 15
        }
      ]
    },
    {
      "cell_type": "markdown",
      "source": [
        "- Some optimization on above code"
      ],
      "metadata": {
        "id": "PSsEcisRn9bQ"
      }
    },
    {
      "cell_type": "code",
      "source": [
        "def bubble_sort1(array1):\n",
        "\n",
        "  start = 0\n",
        "  end = len(array1)\n",
        "  count = 0\n",
        "\n",
        "  while start < end:\n",
        "    for i in range(end-1):\n",
        "      count += 1\n",
        "      print(\"Iteration #\",count)\n",
        "      if (array1[i] > array1[i+1]):\n",
        "        array1[i], array1[i+1] = array1[i+1], array1[i] # swapping in python\n",
        "    end -= 1\n",
        "\n",
        "  return(array1)"
      ],
      "metadata": {
        "id": "pFw9RNNdzEEl"
      },
      "execution_count": 34,
      "outputs": []
    },
    {
      "cell_type": "code",
      "source": [
        "my_array1 = [5, 1, 2, 4, 7, 3]"
      ],
      "metadata": {
        "id": "TTfAJwPtzZq-"
      },
      "execution_count": 35,
      "outputs": []
    },
    {
      "cell_type": "code",
      "source": [
        "bubble_sort1(my_array1)"
      ],
      "metadata": {
        "id": "W1BCZwgEzen2",
        "outputId": "880788dd-0a64-499e-d8a9-e2a3855a49ec",
        "colab": {
          "base_uri": "https://localhost:8080/"
        }
      },
      "execution_count": 36,
      "outputs": [
        {
          "output_type": "stream",
          "name": "stdout",
          "text": [
            "Iteration # 1\n",
            "Iteration # 2\n",
            "Iteration # 3\n",
            "Iteration # 4\n",
            "Iteration # 5\n",
            "Iteration # 6\n",
            "Iteration # 7\n",
            "Iteration # 8\n",
            "Iteration # 9\n",
            "Iteration # 10\n",
            "Iteration # 11\n",
            "Iteration # 12\n",
            "Iteration # 13\n",
            "Iteration # 14\n",
            "Iteration # 15\n"
          ]
        },
        {
          "output_type": "execute_result",
          "data": {
            "text/plain": [
              "[1, 2, 3, 4, 5, 7]"
            ]
          },
          "metadata": {},
          "execution_count": 36
        }
      ]
    },
    {
      "cell_type": "markdown",
      "source": [
        "- As in above code we can obser"
      ],
      "metadata": {
        "id": "U1VMlbx02mzB"
      }
    },
    {
      "cell_type": "code",
      "source": [
        "def bubble_sort2(array2):\n",
        "\n",
        "  start = 0\n",
        "  end = len(array2)\n",
        "  count = 0\n",
        "\n",
        "  while start < end:\n",
        "    swap = False\n",
        "    for i in range(end-1):\n",
        "      count += 1\n",
        "      print(\"Iteration #\",count)\n",
        "      if (array2[i] > array2[i+1]):\n",
        "        array2[i], array2[i+1] = array2[i+1], array2[i] # swapping in python\n",
        "        swap = True\n",
        "\n",
        "    if not swap:\n",
        "        break\n",
        "\n",
        "    end -= 1\n",
        "\n",
        "  return(array2)"
      ],
      "metadata": {
        "id": "59wg4-kX3aFe"
      },
      "execution_count": 58,
      "outputs": []
    },
    {
      "cell_type": "code",
      "source": [
        "my_array2 = [5, 1, 2, 4, 7, 3]"
      ],
      "metadata": {
        "id": "G7-6bKG13rcz"
      },
      "execution_count": 59,
      "outputs": []
    },
    {
      "cell_type": "code",
      "source": [
        "bubble_sort2(my_array2)"
      ],
      "metadata": {
        "id": "FTuBvEgh3vsl",
        "outputId": "bdfc5102-9f77-4739-9810-39ea352e2e53",
        "colab": {
          "base_uri": "https://localhost:8080/"
        }
      },
      "execution_count": 60,
      "outputs": [
        {
          "output_type": "stream",
          "name": "stdout",
          "text": [
            "Iteration # 1\n",
            "Iteration # 2\n",
            "Iteration # 3\n",
            "Iteration # 4\n",
            "Iteration # 5\n",
            "Iteration # 6\n",
            "Iteration # 7\n",
            "Iteration # 8\n",
            "Iteration # 9\n",
            "Iteration # 10\n",
            "Iteration # 11\n",
            "Iteration # 12\n",
            "Iteration # 13\n",
            "Iteration # 14\n"
          ]
        },
        {
          "output_type": "execute_result",
          "data": {
            "text/plain": [
              "[1, 2, 3, 4, 5, 7]"
            ]
          },
          "metadata": {},
          "execution_count": 60
        }
      ]
    }
  ]
}