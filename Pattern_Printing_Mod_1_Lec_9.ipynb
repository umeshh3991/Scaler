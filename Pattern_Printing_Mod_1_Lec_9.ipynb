{
  "nbformat": 4,
  "nbformat_minor": 0,
  "metadata": {
    "colab": {
      "provenance": [],
      "authorship_tag": "ABX9TyMU/+AkZqd3XvS7pr7pM3rI",
      "include_colab_link": true
    },
    "kernelspec": {
      "name": "python3",
      "display_name": "Python 3"
    },
    "language_info": {
      "name": "python"
    }
  },
  "cells": [
    {
      "cell_type": "markdown",
      "metadata": {
        "id": "view-in-github",
        "colab_type": "text"
      },
      "source": [
        "<a href=\"https://colab.research.google.com/github/umeshh3991/Scaler/blob/main/Pattern_Printing_Mod_1_Lec_9.ipynb\" target=\"_parent\"><img src=\"https://colab.research.google.com/assets/colab-badge.svg\" alt=\"Open In Colab\"/></a>"
      ]
    },
    {
      "cell_type": "markdown",
      "source": [
        "WAP to print\n",
        "- \" * * * * *\n",
        "- \" * - - - - *\n",
        "- \" * * * * *\n",
        "\n",
        "where - is null"
      ],
      "metadata": {
        "id": "q0ccf5he2jzP"
      }
    },
    {
      "cell_type": "code",
      "source": [
        "n = int(input(\"Enter the range : \"))\n",
        "\n",
        "for i in range(n):\n",
        "  if (i == 0 or i == (n-1)):\n",
        "    print(\"* \"*n)\n",
        "  else:\n",
        "    print(\"* \" + \"  \"*(n-2) + \"*\")"
      ],
      "metadata": {
        "id": "osBAzXwO3G0s",
        "outputId": "eeb08e89-17b1-41b6-c9ee-814b6a985e40",
        "colab": {
          "base_uri": "https://localhost:8080/"
        }
      },
      "execution_count": 12,
      "outputs": [
        {
          "output_type": "stream",
          "name": "stdout",
          "text": [
            "Enter the range : 5\n",
            "* * * * * \n",
            "*       *\n",
            "*       *\n",
            "*       *\n",
            "* * * * * \n"
          ]
        }
      ]
    },
    {
      "cell_type": "code",
      "source": [
        "x = int(input(\"Enter the range : \"))\n",
        "\n",
        "for i in range(x):\n",
        "  print(\" \" * (n-i-1) +\"* \" * (i+1))"
      ],
      "metadata": {
        "id": "oK7uWRNt-QEg",
        "outputId": "420fed1a-56ca-4789-ba3b-bc58ecfc9007",
        "colab": {
          "base_uri": "https://localhost:8080/"
        }
      },
      "execution_count": 15,
      "outputs": [
        {
          "output_type": "stream",
          "name": "stdout",
          "text": [
            "Enter the range : 5\n",
            "    * \n",
            "   * * \n",
            "  * * * \n",
            " * * * * \n",
            "* * * * * \n"
          ]
        }
      ]
    },
    {
      "cell_type": "code",
      "source": [
        "y = int(input(\"Enter the range : \"))\n",
        "\n",
        "for i in range(x):\n",
        "  if (i == (n-1)):\n",
        "    print(\"* \"*(2*n-1))\n",
        "  elif(i == 0):\n",
        "    print(\"  \"*(n-i-1) + \"* \")\n",
        "  else:\n",
        "    print(\"  \"*(n-i-1) + \"* \" + \"  \"*(2*i-1) + \"*\")"
      ],
      "metadata": {
        "id": "cKI8Tl9jCOiK",
        "outputId": "54134f2d-36f1-4362-a3bb-d1fad181eee7",
        "colab": {
          "base_uri": "https://localhost:8080/"
        }
      },
      "execution_count": 26,
      "outputs": [
        {
          "output_type": "stream",
          "name": "stdout",
          "text": [
            "Enter the range : 5\n",
            "        * \n",
            "      *   *\n",
            "    *       *\n",
            "  *           *\n",
            "* * * * * * * * * \n"
          ]
        }
      ]
    },
    {
      "cell_type": "code",
      "source": [
        "c = int(input(\"Enter the range : \"))\n",
        "\n",
        "s = 1\n",
        "\n",
        "for i in range(c):\n",
        "  for j in range(i+1):\n",
        "    print(s, end =\" \")\n",
        "    s += 1\n",
        "  print()\n"
      ],
      "metadata": {
        "id": "te2rRUtrWzBU",
        "outputId": "f505279e-f7c5-40f1-c46a-be7c63b28226",
        "colab": {
          "base_uri": "https://localhost:8080/"
        }
      },
      "execution_count": 37,
      "outputs": [
        {
          "output_type": "stream",
          "name": "stdout",
          "text": [
            "Enter the range : 5\n",
            "1 \n",
            "2 3 \n",
            "4 5 6 \n",
            "7 8 9 10 \n",
            "11 12 13 14 15 \n"
          ]
        }
      ]
    }
  ]
}