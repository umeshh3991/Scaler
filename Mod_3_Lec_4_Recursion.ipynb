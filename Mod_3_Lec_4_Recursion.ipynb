{
  "nbformat": 4,
  "nbformat_minor": 0,
  "metadata": {
    "colab": {
      "provenance": [],
      "authorship_tag": "ABX9TyN2p9k3sC/AA8oGllDVkKtv",
      "include_colab_link": true
    },
    "kernelspec": {
      "name": "python3",
      "display_name": "Python 3"
    },
    "language_info": {
      "name": "python"
    }
  },
  "cells": [
    {
      "cell_type": "markdown",
      "metadata": {
        "id": "view-in-github",
        "colab_type": "text"
      },
      "source": [
        "<a href=\"https://colab.research.google.com/github/umeshh3991/Scaler/blob/Module-3/Mod_3_Lec_4_Recursion.ipynb\" target=\"_parent\"><img src=\"https://colab.research.google.com/assets/colab-badge.svg\" alt=\"Open In Colab\"/></a>"
      ]
    },
    {
      "cell_type": "markdown",
      "source": [
        "## Factorial"
      ],
      "metadata": {
        "id": "slijmEsVOulj"
      }
    },
    {
      "cell_type": "code",
      "execution_count": null,
      "metadata": {
        "id": "i0RqAEajDPn_",
        "outputId": "5c690c4f-f2a7-491b-9434-bc86e17a7735",
        "colab": {
          "base_uri": "https://localhost:8080/"
        }
      },
      "outputs": [
        {
          "output_type": "stream",
          "name": "stdout",
          "text": [
            "Executing factorial of  4\n",
            "Executing factorial of  3\n",
            "Executing factorial of  2\n",
            "Executing factorial of  1\n",
            "Completed calculating factorial of  2\n",
            "Completed calculating factorial of  3\n",
            "Completed calculating factorial of  4\n"
          ]
        },
        {
          "output_type": "execute_result",
          "data": {
            "text/plain": [
              "24"
            ]
          },
          "metadata": {},
          "execution_count": 3
        }
      ],
      "source": [
        "def factorial(n):\n",
        "\n",
        "  print(\"Executing factorial of \",n)\n",
        "\n",
        "  if n == 1 or n == 0:\n",
        "    return 1\n",
        "\n",
        "  res = n * factorial(n-1)\n",
        "  print(\"Completed calculating factorial of \",n)\n",
        "  return (res)\n",
        "\n",
        "factorial(4)"
      ]
    },
    {
      "cell_type": "markdown",
      "source": [
        "## Merge Sort"
      ],
      "metadata": {
        "id": "lbTlW30MA-YL"
      }
    },
    {
      "cell_type": "markdown",
      "source": [
        "Q. WAP to sort elements using merge sort"
      ],
      "metadata": {
        "id": "dbm5simxBBOb"
      }
    },
    {
      "cell_type": "code",
      "source": [
        "def merge(arr1, arr2):\n",
        "  i = 0\n",
        "  j = 0\n",
        "  result = []\n",
        "  count = 0\n",
        "\n",
        "  while(i < len(arr1) and j < len(arr2)):\n",
        "\n",
        "    print(\"Merge Function \",arr1)\n",
        "    print(\"Merge Function \",arr2)\n",
        "\n",
        "    #count += 1\n",
        "    #print(\"Iterations #\",count)\n",
        "\n",
        "    if (arr1[i] < arr2[j]):\n",
        "      result.append(arr1[i])\n",
        "      i += 1\n",
        "\n",
        "    else:\n",
        "      result.append(arr2[j])\n",
        "      j += 1\n",
        "\n",
        "  if (i < len(arr1)):\n",
        "      result = result + arr1[i:]\n",
        "\n",
        "  if (j < len(arr2)):\n",
        "      result = result + arr2[j:]\n",
        "\n",
        "  return(result)"
      ],
      "metadata": {
        "id": "vkl1rUBmM_pu"
      },
      "execution_count": null,
      "outputs": []
    },
    {
      "cell_type": "code",
      "source": [
        "def merge_sort(arr):\n",
        "\n",
        "  n = len(arr)\n",
        "  mid = n // 2\n",
        "\n",
        "  if n == 1:\n",
        "    return(arr)\n",
        "\n",
        "  left = merge_sort(arr[:mid])\n",
        "  right = merge_sort(arr[mid:])\n",
        "\n",
        "  print(\"Merge SORT Function \",left)\n",
        "  print(\"Merge SORT Function \",right)\n",
        "\n",
        "  return(merge(left,right))"
      ],
      "metadata": {
        "id": "AOKyA014BFeT"
      },
      "execution_count": null,
      "outputs": []
    },
    {
      "cell_type": "code",
      "source": [
        "my_mrg_arr = [5, 2, 6, 1, 7, 8, 3, 4]"
      ],
      "metadata": {
        "id": "mPJHb8YmV_yc"
      },
      "execution_count": null,
      "outputs": []
    },
    {
      "cell_type": "code",
      "source": [
        "merge_sort(my_mrg_arr)"
      ],
      "metadata": {
        "collapsed": true,
        "id": "0UO43kLCWPp_",
        "outputId": "96b51eaa-2c6a-4052-b80f-5b247f0f7941",
        "colab": {
          "base_uri": "https://localhost:8080/"
        }
      },
      "execution_count": null,
      "outputs": [
        {
          "output_type": "stream",
          "name": "stdout",
          "text": [
            "Merge SORT Function  [5]\n",
            "Merge SORT Function  [2]\n",
            "Merge Function  [5]\n",
            "Merge Function  [2]\n",
            "Merge SORT Function  [6]\n",
            "Merge SORT Function  [1]\n",
            "Merge Function  [6]\n",
            "Merge Function  [1]\n",
            "Merge SORT Function  [2, 5]\n",
            "Merge SORT Function  [1, 6]\n",
            "Merge Function  [2, 5]\n",
            "Merge Function  [1, 6]\n",
            "Merge Function  [2, 5]\n",
            "Merge Function  [1, 6]\n",
            "Merge Function  [2, 5]\n",
            "Merge Function  [1, 6]\n",
            "Merge SORT Function  [7]\n",
            "Merge SORT Function  [8]\n",
            "Merge Function  [7]\n",
            "Merge Function  [8]\n",
            "Merge SORT Function  [3]\n",
            "Merge SORT Function  [4]\n",
            "Merge Function  [3]\n",
            "Merge Function  [4]\n",
            "Merge SORT Function  [7, 8]\n",
            "Merge SORT Function  [3, 4]\n",
            "Merge Function  [7, 8]\n",
            "Merge Function  [3, 4]\n",
            "Merge Function  [7, 8]\n",
            "Merge Function  [3, 4]\n",
            "Merge SORT Function  [1, 2, 5, 6]\n",
            "Merge SORT Function  [3, 4, 7, 8]\n",
            "Merge Function  [1, 2, 5, 6]\n",
            "Merge Function  [3, 4, 7, 8]\n",
            "Merge Function  [1, 2, 5, 6]\n",
            "Merge Function  [3, 4, 7, 8]\n",
            "Merge Function  [1, 2, 5, 6]\n",
            "Merge Function  [3, 4, 7, 8]\n",
            "Merge Function  [1, 2, 5, 6]\n",
            "Merge Function  [3, 4, 7, 8]\n",
            "Merge Function  [1, 2, 5, 6]\n",
            "Merge Function  [3, 4, 7, 8]\n",
            "Merge Function  [1, 2, 5, 6]\n",
            "Merge Function  [3, 4, 7, 8]\n"
          ]
        },
        {
          "output_type": "execute_result",
          "data": {
            "text/plain": [
              "[1, 2, 3, 4, 5, 6, 7, 8]"
            ]
          },
          "metadata": {},
          "execution_count": 6
        }
      ]
    },
    {
      "cell_type": "code",
      "source": [
        "def foo(tar):\n",
        "\n",
        "  if tar == 5 or tar == 2:\n",
        "    return(tar)\n",
        "\n",
        "  left = foo(tar/2)\n",
        "  right = foo(tar/5)\n",
        "\n",
        "  print(left)\n",
        "  print(right)"
      ],
      "metadata": {
        "id": "2K4_pW_Vqr2K"
      },
      "execution_count": null,
      "outputs": []
    },
    {
      "cell_type": "code",
      "source": [
        "foo(10)"
      ],
      "metadata": {
        "id": "arJguDAot-hE",
        "outputId": "7eaa12d7-ad41-421b-bbb1-7aabae489142",
        "colab": {
          "base_uri": "https://localhost:8080/"
        }
      },
      "execution_count": null,
      "outputs": [
        {
          "output_type": "stream",
          "name": "stdout",
          "text": [
            "5.0\n",
            "2.0\n"
          ]
        }
      ]
    },
    {
      "cell_type": "code",
      "source": [
        "def bar(get):\n",
        "\n",
        "  foo(10)\n",
        "\n",
        "  return (foo(get))"
      ],
      "metadata": {
        "id": "hwdTUUxh52_9"
      },
      "execution_count": null,
      "outputs": []
    },
    {
      "cell_type": "code",
      "source": [],
      "metadata": {
        "id": "deuUGie6Nlcx"
      },
      "execution_count": null,
      "outputs": []
    },
    {
      "cell_type": "markdown",
      "source": [],
      "metadata": {
        "id": "RCOKwoysNlIp"
      }
    },
    {
      "cell_type": "code",
      "source": [
        "def merge_sort1(arr):\n",
        "\n",
        "  n = len(arr)\n",
        "  mid = n // 2\n",
        "\n",
        "  if n == 1:\n",
        "    return(arr)\n",
        "\n",
        "  left = merge_sort1(arr[:mid])\n",
        "  right = merge_sort1(arr[mid:])\n",
        "\n",
        "  return(merge1(left,right))\n"
      ],
      "metadata": {
        "id": "RbYzePzwNmgm"
      },
      "execution_count": null,
      "outputs": []
    },
    {
      "cell_type": "code",
      "source": [
        "def merge1(arr1,arr2):\n",
        "\n",
        "  i = 0\n",
        "  j = 0\n",
        "\n",
        "  result = []\n",
        "\n",
        "  while (i < len(arr1) and j < len(arr2)):\n",
        "\n",
        "    if (arr1[i] < arr2[j]):\n",
        "      result.append(arr1[i])\n",
        "      i += 1\n",
        "\n",
        "    else:\n",
        "      result.append(arr2[j])\n",
        "      j += 1\n",
        "\n",
        "  if (i < len(arr1)):\n",
        "    result += arr1[i:]\n",
        "\n",
        "  if (j < len(arr2)):\n",
        "    result += arr2[j:]\n",
        "\n",
        "  return(result)"
      ],
      "metadata": {
        "id": "gXsBALwZNnMw"
      },
      "execution_count": null,
      "outputs": []
    },
    {
      "cell_type": "code",
      "source": [
        "new_arr = [5,2,6,1,7,8,3,4]"
      ],
      "metadata": {
        "id": "XD5lTURvNnzg"
      },
      "execution_count": null,
      "outputs": []
    },
    {
      "cell_type": "code",
      "source": [
        "merge_sort1(new_arr)"
      ],
      "metadata": {
        "id": "S5Ad7r2ERDBi",
        "outputId": "6686e0db-229c-4756-913b-2023933160eb",
        "colab": {
          "base_uri": "https://localhost:8080/"
        }
      },
      "execution_count": null,
      "outputs": [
        {
          "output_type": "execute_result",
          "data": {
            "text/plain": [
              "[1, 2, 3, 4, 5, 6, 7, 8]"
            ]
          },
          "metadata": {},
          "execution_count": 16
        }
      ]
    },
    {
      "cell_type": "markdown",
      "source": [
        "Q. Find the sum of all the numbers from n to 1"
      ],
      "metadata": {
        "id": "Jl_13lD2Zr2X"
      }
    },
    {
      "cell_type": "code",
      "source": [
        "def sum1(add1):\n",
        "\n",
        "  result = 0\n",
        "\n",
        "  if add1 == 1:\n",
        "    return 1\n",
        "\n",
        "  result = add1 + sum1(add1-1)\n",
        "\n",
        "  return(result)"
      ],
      "metadata": {
        "id": "SdpHI9LiZwT-"
      },
      "execution_count": null,
      "outputs": []
    },
    {
      "cell_type": "code",
      "source": [
        "sum1(10)"
      ],
      "metadata": {
        "id": "3LDkuJEPaq4U",
        "outputId": "d760f2c6-17af-4439-eb88-81544e4b8a8e",
        "colab": {
          "base_uri": "https://localhost:8080/"
        }
      },
      "execution_count": null,
      "outputs": [
        {
          "output_type": "execute_result",
          "data": {
            "text/plain": [
              "55"
            ]
          },
          "metadata": {},
          "execution_count": 31
        }
      ]
    },
    {
      "cell_type": "code",
      "source": [
        "10+9+8+7+6+5+4+3+2+1"
      ],
      "metadata": {
        "id": "P8zGJq1Kdteq",
        "outputId": "e005e2cb-80f3-4ee9-e5d7-fd739cfb0d63",
        "colab": {
          "base_uri": "https://localhost:8080/"
        }
      },
      "execution_count": null,
      "outputs": [
        {
          "output_type": "execute_result",
          "data": {
            "text/plain": [
              "55"
            ]
          },
          "metadata": {},
          "execution_count": 32
        }
      ]
    },
    {
      "cell_type": "markdown",
      "source": [
        "Q. Write a recursive function to find sum of n numbers"
      ],
      "metadata": {
        "id": "Le4_9OZdtG_X"
      }
    },
    {
      "cell_type": "code",
      "source": [
        "def sum_numbers(n):\n",
        "\n",
        "  result = 0\n",
        "\n",
        "  if n == 1:\n",
        "    return n\n",
        "\n",
        "  result = n + sum_numbers(n-1)\n",
        "\n",
        "  return result"
      ],
      "metadata": {
        "id": "43OcgowhtGFU"
      },
      "execution_count": null,
      "outputs": []
    },
    {
      "cell_type": "code",
      "source": [
        "sum_numbers(960)"
      ],
      "metadata": {
        "colab": {
          "base_uri": "https://localhost:8080/",
          "height": 321
        },
        "id": "PrQRz_Ugt_wo",
        "outputId": "26a7315c-b878-4116-9341-56821625795a"
      },
      "execution_count": null,
      "outputs": [
        {
          "output_type": "error",
          "ename": "RecursionError",
          "evalue": "maximum recursion depth exceeded in comparison",
          "traceback": [
            "\u001b[0;31m---------------------------------------------------------------------------\u001b[0m",
            "\u001b[0;31mRecursionError\u001b[0m                            Traceback (most recent call last)",
            "\u001b[0;32m<ipython-input-28-277f60d6c3cb>\u001b[0m in \u001b[0;36m<cell line: 1>\u001b[0;34m()\u001b[0m\n\u001b[0;32m----> 1\u001b[0;31m \u001b[0msum_numbers\u001b[0m\u001b[0;34m(\u001b[0m\u001b[0;36m960\u001b[0m\u001b[0;34m)\u001b[0m\u001b[0;34m\u001b[0m\u001b[0;34m\u001b[0m\u001b[0m\n\u001b[0m",
            "\u001b[0;32m<ipython-input-2-2cc3444acd01>\u001b[0m in \u001b[0;36msum_numbers\u001b[0;34m(n)\u001b[0m\n\u001b[1;32m      6\u001b[0m     \u001b[0;32mreturn\u001b[0m \u001b[0mn\u001b[0m\u001b[0;34m\u001b[0m\u001b[0;34m\u001b[0m\u001b[0m\n\u001b[1;32m      7\u001b[0m \u001b[0;34m\u001b[0m\u001b[0m\n\u001b[0;32m----> 8\u001b[0;31m   \u001b[0mresult\u001b[0m \u001b[0;34m=\u001b[0m \u001b[0mn\u001b[0m \u001b[0;34m+\u001b[0m \u001b[0msum_numbers\u001b[0m\u001b[0;34m(\u001b[0m\u001b[0mn\u001b[0m\u001b[0;34m-\u001b[0m\u001b[0;36m1\u001b[0m\u001b[0;34m)\u001b[0m\u001b[0;34m\u001b[0m\u001b[0;34m\u001b[0m\u001b[0m\n\u001b[0m\u001b[1;32m      9\u001b[0m \u001b[0;34m\u001b[0m\u001b[0m\n\u001b[1;32m     10\u001b[0m   \u001b[0;32mreturn\u001b[0m \u001b[0mresult\u001b[0m\u001b[0;34m\u001b[0m\u001b[0;34m\u001b[0m\u001b[0m\n",
            "... last 1 frames repeated, from the frame below ...\n",
            "\u001b[0;32m<ipython-input-2-2cc3444acd01>\u001b[0m in \u001b[0;36msum_numbers\u001b[0;34m(n)\u001b[0m\n\u001b[1;32m      6\u001b[0m     \u001b[0;32mreturn\u001b[0m \u001b[0mn\u001b[0m\u001b[0;34m\u001b[0m\u001b[0;34m\u001b[0m\u001b[0m\n\u001b[1;32m      7\u001b[0m \u001b[0;34m\u001b[0m\u001b[0m\n\u001b[0;32m----> 8\u001b[0;31m   \u001b[0mresult\u001b[0m \u001b[0;34m=\u001b[0m \u001b[0mn\u001b[0m \u001b[0;34m+\u001b[0m \u001b[0msum_numbers\u001b[0m\u001b[0;34m(\u001b[0m\u001b[0mn\u001b[0m\u001b[0;34m-\u001b[0m\u001b[0;36m1\u001b[0m\u001b[0;34m)\u001b[0m\u001b[0;34m\u001b[0m\u001b[0;34m\u001b[0m\u001b[0m\n\u001b[0m\u001b[1;32m      9\u001b[0m \u001b[0;34m\u001b[0m\u001b[0m\n\u001b[1;32m     10\u001b[0m   \u001b[0;32mreturn\u001b[0m \u001b[0mresult\u001b[0m\u001b[0;34m\u001b[0m\u001b[0;34m\u001b[0m\u001b[0m\n",
            "\u001b[0;31mRecursionError\u001b[0m: maximum recursion depth exceeded in comparison"
          ]
        }
      ]
    },
    {
      "cell_type": "markdown",
      "source": [
        "Q. Write a iterative function to find sum of n numbers"
      ],
      "metadata": {
        "id": "jSzyRFvHuR7p"
      }
    },
    {
      "cell_type": "code",
      "source": [
        "def sum_iter(n):\n",
        "\n",
        "  i = 0\n",
        "  result = 0\n",
        "\n",
        "  for i in range(1,n+1):\n",
        "    result += i\n",
        "\n",
        "  return(result)"
      ],
      "metadata": {
        "id": "3mXZCiiDuPAH"
      },
      "execution_count": null,
      "outputs": []
    },
    {
      "cell_type": "code",
      "source": [
        "sum_iter(960)"
      ],
      "metadata": {
        "colab": {
          "base_uri": "https://localhost:8080/"
        },
        "id": "RGikxJBguuje",
        "outputId": "a9f57514-803d-4452-e2fd-b52e60a3324e"
      },
      "execution_count": null,
      "outputs": [
        {
          "output_type": "execute_result",
          "data": {
            "text/plain": [
              "461280"
            ]
          },
          "metadata": {},
          "execution_count": 29
        }
      ]
    },
    {
      "cell_type": "markdown",
      "source": [
        "Q. Write a recursive function to find the exponent given base and power"
      ],
      "metadata": {
        "id": "3hFM5F0Z4kHe"
      }
    },
    {
      "cell_type": "markdown",
      "source": [
        "- Here in below code recursive function won't work for greater numbers as function is Linear"
      ],
      "metadata": {
        "id": "WX4OhmyPebdW"
      }
    },
    {
      "cell_type": "code",
      "source": [
        "def expo(base, power):\n",
        "\n",
        "  result = 1\n",
        "\n",
        "  if power == 1:\n",
        "    return base\n",
        "\n",
        "  result = base * expo(base,power-1)\n",
        "\n",
        "  return(result)"
      ],
      "metadata": {
        "id": "lEaaZCBB4t2Z"
      },
      "execution_count": null,
      "outputs": []
    },
    {
      "cell_type": "code",
      "source": [
        "expo(2,5)"
      ],
      "metadata": {
        "colab": {
          "base_uri": "https://localhost:8080/"
        },
        "id": "FfoEZRrc41Bz",
        "outputId": "7349e477-d44d-4ad2-fdbb-2613fc0e52cd"
      },
      "execution_count": null,
      "outputs": [
        {
          "output_type": "execute_result",
          "data": {
            "text/plain": [
              "32"
            ]
          },
          "metadata": {},
          "execution_count": 36
        }
      ]
    },
    {
      "cell_type": "markdown",
      "source": [
        "- Here in below code recursive function will work for greater numbers but will give incorrect results"
      ],
      "metadata": {
        "id": "ln6qGFnQeqbh"
      }
    },
    {
      "cell_type": "code",
      "source": [
        "def expo_eff(base, power):\n",
        "\n",
        "  result = 1\n",
        "\n",
        "  if power == 1:\n",
        "    return base\n",
        "\n",
        "  result = expo_eff(base,power//2)\n",
        "\n",
        "  return(result * result)"
      ],
      "metadata": {
        "id": "JRGgJwD9SNmU"
      },
      "execution_count": null,
      "outputs": []
    },
    {
      "cell_type": "code",
      "source": [
        "expo_eff(2,10)"
      ],
      "metadata": {
        "colab": {
          "base_uri": "https://localhost:8080/"
        },
        "id": "rwuEPDSXXZVB",
        "outputId": "9005b6f1-665e-4291-cc73-774fdb692da3"
      },
      "execution_count": null,
      "outputs": [
        {
          "output_type": "execute_result",
          "data": {
            "text/plain": [
              "256"
            ]
          },
          "metadata": {},
          "execution_count": 57
        }
      ]
    },
    {
      "cell_type": "markdown",
      "source": [
        "- Here in below code recursive function will work for greater numbers with correct results"
      ],
      "metadata": {
        "id": "BMlwvbefe8FU"
      }
    },
    {
      "cell_type": "code",
      "source": [
        "def expo_eff_odd(base, power):\n",
        "\n",
        "  result = 1\n",
        "\n",
        "  if power == 1:\n",
        "    return base\n",
        "\n",
        "  if (power % 2 == 0):\n",
        "    result = expo_eff_odd(base,power//2)\n",
        "    return(result * result)\n",
        "\n",
        "  else:\n",
        "    result = expo_eff_odd(base,power//2)\n",
        "    return (base * result * result)"
      ],
      "metadata": {
        "id": "95XuZn-oYITN"
      },
      "execution_count": null,
      "outputs": []
    },
    {
      "cell_type": "code",
      "source": [
        "expo_eff_odd(2,1000)"
      ],
      "metadata": {
        "colab": {
          "base_uri": "https://localhost:8080/"
        },
        "id": "XK1jDeWSZACm",
        "outputId": "86a39bca-da83-4292-d1c1-816f970e4740"
      },
      "execution_count": null,
      "outputs": [
        {
          "output_type": "execute_result",
          "data": {
            "text/plain": [
              "10715086071862673209484250490600018105614048117055336074437503883703510511249361224931983788156958581275946729175531468251871452856923140435984577574698574803934567774824230985421074605062371141877954182153046474983581941267398767559165543946077062914571196477686542167660429831652624386837205668069376"
            ]
          },
          "metadata": {},
          "execution_count": 49
        }
      ]
    },
    {
      "cell_type": "markdown",
      "source": [
        "Q. WAP for performing Binary Search using Recursion"
      ],
      "metadata": {
        "id": "gSaxEAh5SoqX"
      }
    },
    {
      "cell_type": "code",
      "source": [
        "def bin_search(arr,target):\n",
        "\n",
        "  start = 0\n",
        "  end = len(arr)\n",
        "\n",
        "  while start < end:\n",
        "\n",
        "    print(arr)\n",
        "\n",
        "    mid = (start + end) // 2\n",
        "\n",
        "    if arr[mid] == target:\n",
        "      return mid\n",
        "\n",
        "    elif target < arr[mid]:\n",
        "      end = mid-1\n",
        "      bin_search(arr[:end],target)\n",
        "\n",
        "    else:\n",
        "      start = mid + 1\n",
        "      bin_search(arr[start:],target)"
      ],
      "metadata": {
        "id": "cw0eICejSt1G"
      },
      "execution_count": 59,
      "outputs": []
    },
    {
      "cell_type": "code",
      "source": [
        "my_arr = [10,20,30,40,50,60,70,80,90,100]\n",
        "my_target = 90\n",
        "\n",
        "bin_search(my_arr,my_target)"
      ],
      "metadata": {
        "id": "exOFJOSVS5ks",
        "outputId": "e4c612b5-c124-45d9-9ceb-8555d0acf27d",
        "colab": {
          "base_uri": "https://localhost:8080/"
        }
      },
      "execution_count": 61,
      "outputs": [
        {
          "output_type": "stream",
          "name": "stdout",
          "text": [
            "[10, 20, 30, 40, 50, 60, 70, 80, 90, 100]\n",
            "[70, 80, 90, 100]\n",
            "[10, 20, 30, 40, 50, 60, 70, 80, 90, 100]\n"
          ]
        },
        {
          "output_type": "execute_result",
          "data": {
            "text/plain": [
              "8"
            ]
          },
          "metadata": {},
          "execution_count": 61
        }
      ]
    }
  ]
}