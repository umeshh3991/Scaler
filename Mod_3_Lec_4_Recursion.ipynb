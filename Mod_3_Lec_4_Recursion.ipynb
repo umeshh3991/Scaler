{
  "nbformat": 4,
  "nbformat_minor": 0,
  "metadata": {
    "colab": {
      "provenance": [],
      "authorship_tag": "ABX9TyPtCfxxfJAjiczcVE6u78eT",
      "include_colab_link": true
    },
    "kernelspec": {
      "name": "python3",
      "display_name": "Python 3"
    },
    "language_info": {
      "name": "python"
    }
  },
  "cells": [
    {
      "cell_type": "markdown",
      "metadata": {
        "id": "view-in-github",
        "colab_type": "text"
      },
      "source": [
        "<a href=\"https://colab.research.google.com/github/umeshh3991/Scaler/blob/Module-3/Mod_3_Lec_4_Recursion.ipynb\" target=\"_parent\"><img src=\"https://colab.research.google.com/assets/colab-badge.svg\" alt=\"Open In Colab\"/></a>"
      ]
    },
    {
      "cell_type": "markdown",
      "source": [
        "## Factorial"
      ],
      "metadata": {
        "id": "slijmEsVOulj"
      }
    },
    {
      "cell_type": "code",
      "execution_count": 3,
      "metadata": {
        "id": "i0RqAEajDPn_",
        "outputId": "5c690c4f-f2a7-491b-9434-bc86e17a7735",
        "colab": {
          "base_uri": "https://localhost:8080/"
        }
      },
      "outputs": [
        {
          "output_type": "stream",
          "name": "stdout",
          "text": [
            "Executing factorial of  4\n",
            "Executing factorial of  3\n",
            "Executing factorial of  2\n",
            "Executing factorial of  1\n",
            "Completed calculating factorial of  2\n",
            "Completed calculating factorial of  3\n",
            "Completed calculating factorial of  4\n"
          ]
        },
        {
          "output_type": "execute_result",
          "data": {
            "text/plain": [
              "24"
            ]
          },
          "metadata": {},
          "execution_count": 3
        }
      ],
      "source": [
        "def factorial(n):\n",
        "\n",
        "  print(\"Executing factorial of \",n)\n",
        "\n",
        "  if n == 1 or n == 0:\n",
        "    return 1\n",
        "\n",
        "  res = n * factorial(n-1)\n",
        "  print(\"Completed calculating factorial of \",n)\n",
        "  return (res)\n",
        "\n",
        "factorial(4)"
      ]
    }
  ]
}