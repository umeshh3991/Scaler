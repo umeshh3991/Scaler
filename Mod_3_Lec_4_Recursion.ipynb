{
  "nbformat": 4,
  "nbformat_minor": 0,
  "metadata": {
    "colab": {
      "provenance": [],
      "authorship_tag": "ABX9TyPqS5yErVBwWD2QdrrDjSpb",
      "include_colab_link": true
    },
    "kernelspec": {
      "name": "python3",
      "display_name": "Python 3"
    },
    "language_info": {
      "name": "python"
    }
  },
  "cells": [
    {
      "cell_type": "markdown",
      "metadata": {
        "id": "view-in-github",
        "colab_type": "text"
      },
      "source": [
        "<a href=\"https://colab.research.google.com/github/umeshh3991/Scaler/blob/Module-3/Mod_3_Lec_4_Recursion.ipynb\" target=\"_parent\"><img src=\"https://colab.research.google.com/assets/colab-badge.svg\" alt=\"Open In Colab\"/></a>"
      ]
    },
    {
      "cell_type": "markdown",
      "source": [
        "## Factorial"
      ],
      "metadata": {
        "id": "slijmEsVOulj"
      }
    },
    {
      "cell_type": "code",
      "execution_count": null,
      "metadata": {
        "id": "i0RqAEajDPn_",
        "outputId": "5c690c4f-f2a7-491b-9434-bc86e17a7735",
        "colab": {
          "base_uri": "https://localhost:8080/"
        }
      },
      "outputs": [
        {
          "output_type": "stream",
          "name": "stdout",
          "text": [
            "Executing factorial of  4\n",
            "Executing factorial of  3\n",
            "Executing factorial of  2\n",
            "Executing factorial of  1\n",
            "Completed calculating factorial of  2\n",
            "Completed calculating factorial of  3\n",
            "Completed calculating factorial of  4\n"
          ]
        },
        {
          "output_type": "execute_result",
          "data": {
            "text/plain": [
              "24"
            ]
          },
          "metadata": {},
          "execution_count": 3
        }
      ],
      "source": [
        "def factorial(n):\n",
        "\n",
        "  print(\"Executing factorial of \",n)\n",
        "\n",
        "  if n == 1 or n == 0:\n",
        "    return 1\n",
        "\n",
        "  res = n * factorial(n-1)\n",
        "  print(\"Completed calculating factorial of \",n)\n",
        "  return (res)\n",
        "\n",
        "factorial(4)"
      ]
    },
    {
      "cell_type": "markdown",
      "source": [
        "## Merge Sort"
      ],
      "metadata": {
        "id": "lbTlW30MA-YL"
      }
    },
    {
      "cell_type": "markdown",
      "source": [
        "Q. WAP to sort elements using merge sort"
      ],
      "metadata": {
        "id": "dbm5simxBBOb"
      }
    },
    {
      "cell_type": "code",
      "source": [
        "def merge(arr1, arr2):\n",
        "  i = 0\n",
        "  j = 0\n",
        "  result = []\n",
        "  count = 0\n",
        "\n",
        "  while(i < len(arr1) and j < len(arr2)):\n",
        "\n",
        "    print(\"Merge Function \",arr1)\n",
        "    print(\"Merge Function \",arr2)\n",
        "\n",
        "    #count += 1\n",
        "    #print(\"Iterations #\",count)\n",
        "\n",
        "    if (arr1[i] < arr2[j]):\n",
        "      result.append(arr1[i])\n",
        "      i += 1\n",
        "\n",
        "    else:\n",
        "      result.append(arr2[j])\n",
        "      j += 1\n",
        "\n",
        "  if (i < len(arr1)):\n",
        "      result = result + arr1[i:]\n",
        "\n",
        "  if (j < len(arr2)):\n",
        "      result = result + arr2[j:]\n",
        "\n",
        "  return(result)"
      ],
      "metadata": {
        "id": "vkl1rUBmM_pu"
      },
      "execution_count": 1,
      "outputs": []
    },
    {
      "cell_type": "code",
      "source": [
        "def merge_sort(arr):\n",
        "\n",
        "  n = len(arr)\n",
        "  mid = n // 2\n",
        "\n",
        "  if n == 1:\n",
        "    return(arr)\n",
        "\n",
        "  left = merge_sort(arr[:mid])\n",
        "  right = merge_sort(arr[mid:])\n",
        "\n",
        "  print(\"Merge SORT Function \",left)\n",
        "  print(\"Merge SORT Function \",right)\n",
        "\n",
        "  return(merge(left,right))"
      ],
      "metadata": {
        "id": "AOKyA014BFeT"
      },
      "execution_count": 2,
      "outputs": []
    },
    {
      "cell_type": "code",
      "source": [
        "my_mrg_arr = [5, 2, 6, 1, 7, 8, 3, 4]"
      ],
      "metadata": {
        "id": "mPJHb8YmV_yc"
      },
      "execution_count": 5,
      "outputs": []
    },
    {
      "cell_type": "code",
      "source": [
        "merge_sort(my_mrg_arr)"
      ],
      "metadata": {
        "collapsed": true,
        "id": "0UO43kLCWPp_",
        "outputId": "96b51eaa-2c6a-4052-b80f-5b247f0f7941",
        "colab": {
          "base_uri": "https://localhost:8080/"
        }
      },
      "execution_count": 6,
      "outputs": [
        {
          "output_type": "stream",
          "name": "stdout",
          "text": [
            "Merge SORT Function  [5]\n",
            "Merge SORT Function  [2]\n",
            "Merge Function  [5]\n",
            "Merge Function  [2]\n",
            "Merge SORT Function  [6]\n",
            "Merge SORT Function  [1]\n",
            "Merge Function  [6]\n",
            "Merge Function  [1]\n",
            "Merge SORT Function  [2, 5]\n",
            "Merge SORT Function  [1, 6]\n",
            "Merge Function  [2, 5]\n",
            "Merge Function  [1, 6]\n",
            "Merge Function  [2, 5]\n",
            "Merge Function  [1, 6]\n",
            "Merge Function  [2, 5]\n",
            "Merge Function  [1, 6]\n",
            "Merge SORT Function  [7]\n",
            "Merge SORT Function  [8]\n",
            "Merge Function  [7]\n",
            "Merge Function  [8]\n",
            "Merge SORT Function  [3]\n",
            "Merge SORT Function  [4]\n",
            "Merge Function  [3]\n",
            "Merge Function  [4]\n",
            "Merge SORT Function  [7, 8]\n",
            "Merge SORT Function  [3, 4]\n",
            "Merge Function  [7, 8]\n",
            "Merge Function  [3, 4]\n",
            "Merge Function  [7, 8]\n",
            "Merge Function  [3, 4]\n",
            "Merge SORT Function  [1, 2, 5, 6]\n",
            "Merge SORT Function  [3, 4, 7, 8]\n",
            "Merge Function  [1, 2, 5, 6]\n",
            "Merge Function  [3, 4, 7, 8]\n",
            "Merge Function  [1, 2, 5, 6]\n",
            "Merge Function  [3, 4, 7, 8]\n",
            "Merge Function  [1, 2, 5, 6]\n",
            "Merge Function  [3, 4, 7, 8]\n",
            "Merge Function  [1, 2, 5, 6]\n",
            "Merge Function  [3, 4, 7, 8]\n",
            "Merge Function  [1, 2, 5, 6]\n",
            "Merge Function  [3, 4, 7, 8]\n",
            "Merge Function  [1, 2, 5, 6]\n",
            "Merge Function  [3, 4, 7, 8]\n"
          ]
        },
        {
          "output_type": "execute_result",
          "data": {
            "text/plain": [
              "[1, 2, 3, 4, 5, 6, 7, 8]"
            ]
          },
          "metadata": {},
          "execution_count": 6
        }
      ]
    },
    {
      "cell_type": "code",
      "source": [
        "def foo(tar):\n",
        "\n",
        "  if tar == 5 or tar == 2:\n",
        "    return(tar)\n",
        "\n",
        "  left = foo(tar/2)\n",
        "  right = foo(tar/5)\n",
        "\n",
        "  print(left)\n",
        "  print(right)"
      ],
      "metadata": {
        "id": "2K4_pW_Vqr2K"
      },
      "execution_count": null,
      "outputs": []
    },
    {
      "cell_type": "code",
      "source": [
        "foo(10)"
      ],
      "metadata": {
        "id": "arJguDAot-hE",
        "outputId": "7eaa12d7-ad41-421b-bbb1-7aabae489142",
        "colab": {
          "base_uri": "https://localhost:8080/"
        }
      },
      "execution_count": null,
      "outputs": [
        {
          "output_type": "stream",
          "name": "stdout",
          "text": [
            "5.0\n",
            "2.0\n"
          ]
        }
      ]
    },
    {
      "cell_type": "code",
      "source": [
        "def bar(get):\n",
        "\n",
        "  foo(10)\n",
        "\n",
        "  return (foo(get))"
      ],
      "metadata": {
        "id": "hwdTUUxh52_9"
      },
      "execution_count": null,
      "outputs": []
    },
    {
      "cell_type": "code",
      "source": [],
      "metadata": {
        "id": "deuUGie6Nlcx"
      },
      "execution_count": null,
      "outputs": []
    },
    {
      "cell_type": "markdown",
      "source": [],
      "metadata": {
        "id": "RCOKwoysNlIp"
      }
    },
    {
      "cell_type": "code",
      "source": [
        "def merge_sort1(arr):\n",
        "\n",
        "  n = len(arr)\n",
        "  mid = n // 2\n",
        "\n",
        "  if n == 1:\n",
        "    return(arr)\n",
        "\n",
        "  left = merge_sort1(arr[:mid])\n",
        "  right = merge_sort1(arr[mid:])\n",
        "\n",
        "  return(merge1(left,right))\n"
      ],
      "metadata": {
        "id": "RbYzePzwNmgm"
      },
      "execution_count": 8,
      "outputs": []
    },
    {
      "cell_type": "code",
      "source": [
        "def merge1(arr1,arr2):\n",
        "\n",
        "  i = 0\n",
        "  j = 0\n",
        "\n",
        "  result = []\n",
        "\n",
        "  while (i < len(arr1) and j < len(arr2)):\n",
        "\n",
        "    if (arr1[i] < arr2[j]):\n",
        "      result.append(arr1[i])\n",
        "      i += 1\n",
        "\n",
        "    else:\n",
        "      result.append(arr2[j])\n",
        "      j += 1\n",
        "\n",
        "  if (i < len(arr1)):\n",
        "    result += arr1[i:]\n",
        "\n",
        "  if (j < len(arr2)):\n",
        "    result += arr2[j:]\n",
        "\n",
        "  return(result)"
      ],
      "metadata": {
        "id": "gXsBALwZNnMw"
      },
      "execution_count": 15,
      "outputs": []
    },
    {
      "cell_type": "code",
      "source": [
        "new_arr = [5,2,6,1,7,8,3,4]"
      ],
      "metadata": {
        "id": "XD5lTURvNnzg"
      },
      "execution_count": 10,
      "outputs": []
    },
    {
      "cell_type": "code",
      "source": [
        "merge_sort1(new_arr)"
      ],
      "metadata": {
        "id": "S5Ad7r2ERDBi",
        "outputId": "6686e0db-229c-4756-913b-2023933160eb",
        "colab": {
          "base_uri": "https://localhost:8080/"
        }
      },
      "execution_count": 16,
      "outputs": [
        {
          "output_type": "execute_result",
          "data": {
            "text/plain": [
              "[1, 2, 3, 4, 5, 6, 7, 8]"
            ]
          },
          "metadata": {},
          "execution_count": 16
        }
      ]
    },
    {
      "cell_type": "markdown",
      "source": [
        "Q. Find the sum of all the numbers from n to 1"
      ],
      "metadata": {
        "id": "Jl_13lD2Zr2X"
      }
    },
    {
      "cell_type": "code",
      "source": [
        "def sum1(add1):\n",
        "\n",
        "  result = 0\n",
        "\n",
        "  if add1 == 1:\n",
        "    return 1\n",
        "\n",
        "  result = add1 + sum1(add1-1)\n",
        "\n",
        "  return(result)"
      ],
      "metadata": {
        "id": "SdpHI9LiZwT-"
      },
      "execution_count": 33,
      "outputs": []
    },
    {
      "cell_type": "code",
      "source": [
        "sum1(10)"
      ],
      "metadata": {
        "id": "3LDkuJEPaq4U",
        "outputId": "d760f2c6-17af-4439-eb88-81544e4b8a8e",
        "colab": {
          "base_uri": "https://localhost:8080/"
        }
      },
      "execution_count": 31,
      "outputs": [
        {
          "output_type": "execute_result",
          "data": {
            "text/plain": [
              "55"
            ]
          },
          "metadata": {},
          "execution_count": 31
        }
      ]
    },
    {
      "cell_type": "code",
      "source": [
        "10+9+8+7+6+5+4+3+2+1"
      ],
      "metadata": {
        "id": "P8zGJq1Kdteq",
        "outputId": "e005e2cb-80f3-4ee9-e5d7-fd739cfb0d63",
        "colab": {
          "base_uri": "https://localhost:8080/"
        }
      },
      "execution_count": 32,
      "outputs": [
        {
          "output_type": "execute_result",
          "data": {
            "text/plain": [
              "55"
            ]
          },
          "metadata": {},
          "execution_count": 32
        }
      ]
    }
  ]
}