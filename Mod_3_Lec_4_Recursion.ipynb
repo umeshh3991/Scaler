{
  "nbformat": 4,
  "nbformat_minor": 0,
  "metadata": {
    "colab": {
      "provenance": [],
      "authorship_tag": "ABX9TyPJRp7HhRDv2AQvGsbvFY0q",
      "include_colab_link": true
    },
    "kernelspec": {
      "name": "python3",
      "display_name": "Python 3"
    },
    "language_info": {
      "name": "python"
    }
  },
  "cells": [
    {
      "cell_type": "markdown",
      "metadata": {
        "id": "view-in-github",
        "colab_type": "text"
      },
      "source": [
        "<a href=\"https://colab.research.google.com/github/umeshh3991/Scaler/blob/Module-3/Mod_3_Lec_4_Recursion.ipynb\" target=\"_parent\"><img src=\"https://colab.research.google.com/assets/colab-badge.svg\" alt=\"Open In Colab\"/></a>"
      ]
    },
    {
      "cell_type": "markdown",
      "source": [
        "## Factorial"
      ],
      "metadata": {
        "id": "slijmEsVOulj"
      }
    },
    {
      "cell_type": "code",
      "execution_count": null,
      "metadata": {
        "id": "i0RqAEajDPn_",
        "outputId": "5c690c4f-f2a7-491b-9434-bc86e17a7735",
        "colab": {
          "base_uri": "https://localhost:8080/"
        }
      },
      "outputs": [
        {
          "output_type": "stream",
          "name": "stdout",
          "text": [
            "Executing factorial of  4\n",
            "Executing factorial of  3\n",
            "Executing factorial of  2\n",
            "Executing factorial of  1\n",
            "Completed calculating factorial of  2\n",
            "Completed calculating factorial of  3\n",
            "Completed calculating factorial of  4\n"
          ]
        },
        {
          "output_type": "execute_result",
          "data": {
            "text/plain": [
              "24"
            ]
          },
          "metadata": {},
          "execution_count": 3
        }
      ],
      "source": [
        "def factorial(n):\n",
        "\n",
        "  print(\"Executing factorial of \",n)\n",
        "\n",
        "  if n == 1 or n == 0:\n",
        "    return 1\n",
        "\n",
        "  res = n * factorial(n-1)\n",
        "  print(\"Completed calculating factorial of \",n)\n",
        "  return (res)\n",
        "\n",
        "factorial(4)"
      ]
    },
    {
      "cell_type": "markdown",
      "source": [
        "## Merge Sort"
      ],
      "metadata": {
        "id": "lbTlW30MA-YL"
      }
    },
    {
      "cell_type": "markdown",
      "source": [
        "Q. WAP to sort elements using merge sort"
      ],
      "metadata": {
        "id": "dbm5simxBBOb"
      }
    },
    {
      "cell_type": "code",
      "source": [
        "def merge(arr1, arr2):\n",
        "  i = 0\n",
        "  j = 0\n",
        "  result = []\n",
        "  count = 0\n",
        "\n",
        "  while(i < len(arr1) and j < len(arr2)):\n",
        "\n",
        "    print(\"===================Merge Print===================\")\n",
        "    print(arr1)\n",
        "    print(arr2)\n",
        "\n",
        "    #count += 1\n",
        "    #print(\"Iterations #\",count)\n",
        "\n",
        "    if (arr1[i] < arr2[j]):\n",
        "      result.append(arr1[i])\n",
        "      i += 1\n",
        "\n",
        "    else:\n",
        "      result.append(arr2[j])\n",
        "      j += 1\n",
        "\n",
        "  if (i < len(arr1)):\n",
        "      result = result + arr1[i:]\n",
        "\n",
        "  if (j < len(arr2)):\n",
        "      result = result + arr2[j:]\n",
        "\n",
        "  return(result)"
      ],
      "metadata": {
        "id": "vkl1rUBmM_pu"
      },
      "execution_count": 6,
      "outputs": []
    },
    {
      "cell_type": "code",
      "source": [
        "def merge_sort(arr):\n",
        "\n",
        "  n = len(arr)\n",
        "  mid = n // 2\n",
        "\n",
        "  if n == 1:\n",
        "    return(arr)\n",
        "\n",
        "  left = merge_sort(arr[:mid])\n",
        "  right = merge_sort(arr[mid:])\n",
        "\n",
        "  print(\"================Sort Print==================\")\n",
        "  print(left)\n",
        "  print(right)\n",
        "\n",
        "  return(merge(left,right))"
      ],
      "metadata": {
        "id": "AOKyA014BFeT"
      },
      "execution_count": 7,
      "outputs": []
    },
    {
      "cell_type": "code",
      "source": [
        "my_mrg_arr = [5, 2, 6, 1]"
      ],
      "metadata": {
        "id": "mPJHb8YmV_yc"
      },
      "execution_count": 8,
      "outputs": []
    },
    {
      "cell_type": "code",
      "source": [
        "merge_sort(my_mrg_arr)"
      ],
      "metadata": {
        "collapsed": true,
        "id": "0UO43kLCWPp_",
        "outputId": "86af7d30-b908-4c97-fcd5-09d6b73c3c4d",
        "colab": {
          "base_uri": "https://localhost:8080/"
        }
      },
      "execution_count": 9,
      "outputs": [
        {
          "output_type": "stream",
          "name": "stdout",
          "text": [
            "================Sort Print==================\n",
            "[5]\n",
            "[2]\n",
            "===================Merge Print===================\n",
            "[5]\n",
            "[2]\n",
            "================Sort Print==================\n",
            "[6]\n",
            "[1]\n",
            "===================Merge Print===================\n",
            "[6]\n",
            "[1]\n",
            "================Sort Print==================\n",
            "[2, 5]\n",
            "[1, 6]\n",
            "===================Merge Print===================\n",
            "[2, 5]\n",
            "[1, 6]\n",
            "===================Merge Print===================\n",
            "[2, 5]\n",
            "[1, 6]\n",
            "===================Merge Print===================\n",
            "[2, 5]\n",
            "[1, 6]\n"
          ]
        },
        {
          "output_type": "execute_result",
          "data": {
            "text/plain": [
              "[1, 2, 5, 6]"
            ]
          },
          "metadata": {},
          "execution_count": 9
        }
      ]
    },
    {
      "cell_type": "code",
      "source": [
        "def foo(tar):\n",
        "\n",
        "  if tar == 5 or tar == 2:\n",
        "    return(tar)\n",
        "\n",
        "  left = foo(tar/2)\n",
        "  right = foo(tar/5)\n",
        "\n",
        "  print(left)\n",
        "  print(right)"
      ],
      "metadata": {
        "id": "2K4_pW_Vqr2K"
      },
      "execution_count": 4,
      "outputs": []
    },
    {
      "cell_type": "code",
      "source": [
        "foo(10)"
      ],
      "metadata": {
        "id": "arJguDAot-hE",
        "outputId": "7eaa12d7-ad41-421b-bbb1-7aabae489142",
        "colab": {
          "base_uri": "https://localhost:8080/"
        }
      },
      "execution_count": 5,
      "outputs": [
        {
          "output_type": "stream",
          "name": "stdout",
          "text": [
            "5.0\n",
            "2.0\n"
          ]
        }
      ]
    },
    {
      "cell_type": "code",
      "source": [
        "def bar(get):\n",
        "\n",
        "  foo(10)\n",
        "\n",
        "  return (foo(get))"
      ],
      "metadata": {
        "id": "hwdTUUxh52_9"
      },
      "execution_count": null,
      "outputs": []
    }
  ]
}