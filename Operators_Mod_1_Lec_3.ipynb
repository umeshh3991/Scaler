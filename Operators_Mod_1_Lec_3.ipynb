{
  "nbformat": 4,
  "nbformat_minor": 0,
  "metadata": {
    "colab": {
      "provenance": [],
      "authorship_tag": "ABX9TyOOG6tb5JdffcQ6TBh1s10U",
      "include_colab_link": true
    },
    "kernelspec": {
      "name": "python3",
      "display_name": "Python 3"
    },
    "language_info": {
      "name": "python"
    }
  },
  "cells": [
    {
      "cell_type": "markdown",
      "metadata": {
        "id": "view-in-github",
        "colab_type": "text"
      },
      "source": [
        "<a href=\"https://colab.research.google.com/github/umeshh3991/Scaler/blob/main/Operators_Mod_1_Lec_3.ipynb\" target=\"_parent\"><img src=\"https://colab.research.google.com/assets/colab-badge.svg\" alt=\"Open In Colab\"/></a>"
      ]
    },
    {
      "cell_type": "markdown",
      "source": [
        "# Datatypes\n",
        "\n"
      ],
      "metadata": {
        "id": "-WoYQhAiaJsd"
      }
    },
    {
      "cell_type": "markdown",
      "source": [
        "### Numerical Datatypes\n",
        "\n",
        "1. int - It has variable precision i.e. size will be dynamic"
      ],
      "metadata": {
        "id": "iPSDm4qWabsU"
      }
    },
    {
      "cell_type": "code",
      "source": [
        "a = 3\n",
        "type(a)"
      ],
      "metadata": {
        "id": "OniSctBFafOU",
        "outputId": "f4f85020-0173-411b-f7e5-3b700befa483",
        "colab": {
          "base_uri": "https://localhost:8080/"
        }
      },
      "execution_count": 2,
      "outputs": [
        {
          "output_type": "execute_result",
          "data": {
            "text/plain": [
              "int"
            ]
          },
          "metadata": {},
          "execution_count": 2
        }
      ]
    },
    {
      "cell_type": "code",
      "source": [
        "a = 5.4\n",
        "type(a)"
      ],
      "metadata": {
        "id": "iuHCwHwfaoJ5",
        "outputId": "4ade8fbc-fc8e-4ad3-9686-ecc7c66bb77a",
        "colab": {
          "base_uri": "https://localhost:8080/"
        }
      },
      "execution_count": 4,
      "outputs": [
        {
          "output_type": "execute_result",
          "data": {
            "text/plain": [
              "float"
            ]
          },
          "metadata": {},
          "execution_count": 4
        }
      ]
    },
    {
      "cell_type": "code",
      "source": [
        "a = 3 + 4j\n",
        "type(a)"
      ],
      "metadata": {
        "id": "h-CP1X02ar8y",
        "outputId": "a1746d5d-1c7a-472b-8a4f-02cc8cf566c3",
        "colab": {
          "base_uri": "https://localhost:8080/"
        }
      },
      "execution_count": 5,
      "outputs": [
        {
          "output_type": "execute_result",
          "data": {
            "text/plain": [
              "complex"
            ]
          },
          "metadata": {},
          "execution_count": 5
        }
      ]
    },
    {
      "cell_type": "code",
      "source": [
        "# DIVISION - In Python if we divide 2 int result gets converted in float\n",
        "\n",
        "a = 10/2\n",
        "print(a)\n",
        "type(a)"
      ],
      "metadata": {
        "id": "xV3d0wrhce-9",
        "outputId": "9e8430fb-c88f-4557-ccc0-1b7d012485ae",
        "colab": {
          "base_uri": "https://localhost:8080/"
        }
      },
      "execution_count": 7,
      "outputs": [
        {
          "output_type": "stream",
          "name": "stdout",
          "text": [
            "5.0\n"
          ]
        },
        {
          "output_type": "execute_result",
          "data": {
            "text/plain": [
              "float"
            ]
          },
          "metadata": {},
          "execution_count": 7
        }
      ]
    },
    {
      "cell_type": "markdown",
      "source": [
        "# COMPLEX NUMBERS"
      ],
      "metadata": {
        "id": "qAUkVRJKeUk2"
      }
    },
    {
      "cell_type": "code",
      "source": [
        "a = 3j\n",
        "print(type(a))"
      ],
      "metadata": {
        "id": "x-KpK6Z-cyja",
        "outputId": "42ce23b1-ac9a-4666-cc0c-a8854486bb86",
        "colab": {
          "base_uri": "https://localhost:8080/"
        }
      },
      "execution_count": 8,
      "outputs": [
        {
          "output_type": "stream",
          "name": "stdout",
          "text": [
            "<class 'complex'>\n"
          ]
        }
      ]
    },
    {
      "cell_type": "code",
      "source": [
        "a = 5\n",
        "type(a)"
      ],
      "metadata": {
        "id": "ggLhwApbeZEP",
        "outputId": "53522ab4-b0e4-4f65-b9e4-ff0503315661",
        "colab": {
          "base_uri": "https://localhost:8080/"
        }
      },
      "execution_count": 11,
      "outputs": [
        {
          "output_type": "execute_result",
          "data": {
            "text/plain": [
              "int"
            ]
          },
          "metadata": {},
          "execution_count": 11
        }
      ]
    },
    {
      "cell_type": "code",
      "source": [
        "a = 5 + 6.5\n",
        "print(a)\n",
        "type(a)"
      ],
      "metadata": {
        "id": "6uwQnflVepAF",
        "outputId": "98ff52cc-0edc-4f73-b713-c22ca9572609",
        "colab": {
          "base_uri": "https://localhost:8080/"
        }
      },
      "execution_count": 12,
      "outputs": [
        {
          "output_type": "stream",
          "name": "stdout",
          "text": [
            "11.5\n"
          ]
        },
        {
          "output_type": "execute_result",
          "data": {
            "text/plain": [
              "float"
            ]
          },
          "metadata": {},
          "execution_count": 12
        }
      ]
    },
    {
      "cell_type": "code",
      "source": [
        "a = 5 + 3j\n",
        "type(a)"
      ],
      "metadata": {
        "id": "rNCjSPL2edlZ",
        "outputId": "2a14e130-e62b-4441-d722-208957b62203",
        "colab": {
          "base_uri": "https://localhost:8080/"
        }
      },
      "execution_count": 10,
      "outputs": [
        {
          "output_type": "execute_result",
          "data": {
            "text/plain": [
              "complex"
            ]
          },
          "metadata": {},
          "execution_count": 10
        }
      ]
    },
    {
      "cell_type": "markdown",
      "source": [
        "# BOOLEAN"
      ],
      "metadata": {
        "id": "5W4jK4xnfWUj"
      }
    },
    {
      "cell_type": "code",
      "source": [
        "a = True\n",
        "type(a)"
      ],
      "metadata": {
        "id": "s9Jd4x_7fYR0",
        "outputId": "b33212d0-97a2-4b3d-f6c2-d08404dfd9fd",
        "colab": {
          "base_uri": "https://localhost:8080/"
        }
      },
      "execution_count": 13,
      "outputs": [
        {
          "output_type": "execute_result",
          "data": {
            "text/plain": [
              "bool"
            ]
          },
          "metadata": {},
          "execution_count": 13
        }
      ]
    },
    {
      "cell_type": "code",
      "source": [
        "a = False\n",
        "type(a)"
      ],
      "metadata": {
        "id": "wGNKZ0hvf3CI",
        "outputId": "031d76cd-81a4-4eb1-cbc1-ace8baa6f5a8",
        "colab": {
          "base_uri": "https://localhost:8080/"
        }
      },
      "execution_count": 14,
      "outputs": [
        {
          "output_type": "execute_result",
          "data": {
            "text/plain": [
              "bool"
            ]
          },
          "metadata": {},
          "execution_count": 14
        }
      ]
    },
    {
      "cell_type": "markdown",
      "source": [
        "# TEXT"
      ],
      "metadata": {
        "id": "DOs5rfesf-TY"
      }
    },
    {
      "cell_type": "code",
      "source": [
        "a = \"Umesh\"\n",
        "type(a)"
      ],
      "metadata": {
        "id": "cvpR8_nGf8yM",
        "outputId": "bfd7f87f-de71-4fe0-868e-94c5fafcd363",
        "colab": {
          "base_uri": "https://localhost:8080/"
        }
      },
      "execution_count": 15,
      "outputs": [
        {
          "output_type": "execute_result",
          "data": {
            "text/plain": [
              "str"
            ]
          },
          "metadata": {},
          "execution_count": 15
        }
      ]
    },
    {
      "cell_type": "markdown",
      "source": [
        "# Derived DataTypes\n",
        "\n",
        "1. List (Array) - Lists are heterogeneous in Python"
      ],
      "metadata": {
        "id": "owWjgTiKg-Df"
      }
    },
    {
      "cell_type": "code",
      "source": [
        "a = [1, 2, 3, 4, 5]"
      ],
      "metadata": {
        "id": "MWCXiWkDg8SW"
      },
      "execution_count": 16,
      "outputs": []
    },
    {
      "cell_type": "code",
      "source": [
        "names = [\"Umesh\", \"Jatin\", \"Prashant\"]"
      ],
      "metadata": {
        "id": "wZVtBlb5h-Ck"
      },
      "execution_count": 17,
      "outputs": []
    },
    {
      "cell_type": "code",
      "source": [
        "mix = [\"Umesh\", 32, True, 3.5, 5 + 1j]\n",
        "print(mix)\n",
        "print(mix[0])"
      ],
      "metadata": {
        "id": "n6zhk28yiRVM",
        "outputId": "35834549-ce44-4111-9102-0c9deed2ac85",
        "colab": {
          "base_uri": "https://localhost:8080/"
        }
      },
      "execution_count": 22,
      "outputs": [
        {
          "output_type": "stream",
          "name": "stdout",
          "text": [
            "['Umesh', 32, True, 3.5, (5+1j)]\n",
            "Umesh\n"
          ]
        }
      ]
    },
    {
      "cell_type": "markdown",
      "source": [
        "2. Tuple"
      ],
      "metadata": {
        "id": "11OE9PG_jcM8"
      }
    },
    {
      "cell_type": "code",
      "source": [
        "a = (1, 2, 3, 4)\n",
        "print(a)"
      ],
      "metadata": {
        "id": "BjdJIi5pjd_M",
        "outputId": "26b71ddd-a5fb-42a6-d40b-805b8412b2c8",
        "colab": {
          "base_uri": "https://localhost:8080/"
        }
      },
      "execution_count": 23,
      "outputs": [
        {
          "output_type": "stream",
          "name": "stdout",
          "text": [
            "(1, 2, 3, 4)\n"
          ]
        }
      ]
    },
    {
      "cell_type": "markdown",
      "source": [
        " ## Difference between List and Tuple"
      ],
      "metadata": {
        "id": "oX2HSEIJjngI"
      }
    },
    {
      "cell_type": "code",
      "source": [
        "#List\n",
        "a = [1, 2, 3, 4]\n",
        "a[0] = 100\n",
        "print(a)"
      ],
      "metadata": {
        "id": "FI3cL4PjjsyN",
        "outputId": "cac03700-894a-4894-8813-cf2cb1bdc51f",
        "colab": {
          "base_uri": "https://localhost:8080/"
        }
      },
      "execution_count": 26,
      "outputs": [
        {
          "output_type": "stream",
          "name": "stdout",
          "text": [
            "[100, 2, 3, 4]\n"
          ]
        }
      ]
    },
    {
      "cell_type": "code",
      "source": [
        "#Tuple\n",
        "b = (1, 2, 3, 4)\n",
        "b[0] = 100\n",
        "print(b)"
      ],
      "metadata": {
        "id": "ljyKm0RnkTKw",
        "outputId": "cee3c034-c533-49df-8a15-24ed9ae7d948",
        "colab": {
          "base_uri": "https://localhost:8080/",
          "height": 193
        }
      },
      "execution_count": 27,
      "outputs": [
        {
          "output_type": "error",
          "ename": "TypeError",
          "evalue": "'tuple' object does not support item assignment",
          "traceback": [
            "\u001b[0;31m---------------------------------------------------------------------------\u001b[0m",
            "\u001b[0;31mTypeError\u001b[0m                                 Traceback (most recent call last)",
            "\u001b[0;32m<ipython-input-27-034879464d32>\u001b[0m in \u001b[0;36m<cell line: 3>\u001b[0;34m()\u001b[0m\n\u001b[1;32m      1\u001b[0m \u001b[0;31m#Tuple\u001b[0m\u001b[0;34m\u001b[0m\u001b[0;34m\u001b[0m\u001b[0m\n\u001b[1;32m      2\u001b[0m \u001b[0mb\u001b[0m \u001b[0;34m=\u001b[0m \u001b[0;34m(\u001b[0m\u001b[0;36m1\u001b[0m\u001b[0;34m,\u001b[0m \u001b[0;36m2\u001b[0m\u001b[0;34m,\u001b[0m \u001b[0;36m3\u001b[0m\u001b[0;34m,\u001b[0m \u001b[0;36m4\u001b[0m\u001b[0;34m)\u001b[0m\u001b[0;34m\u001b[0m\u001b[0;34m\u001b[0m\u001b[0m\n\u001b[0;32m----> 3\u001b[0;31m \u001b[0mb\u001b[0m\u001b[0;34m[\u001b[0m\u001b[0;36m0\u001b[0m\u001b[0;34m]\u001b[0m \u001b[0;34m=\u001b[0m \u001b[0;36m100\u001b[0m\u001b[0;34m\u001b[0m\u001b[0;34m\u001b[0m\u001b[0m\n\u001b[0m\u001b[1;32m      4\u001b[0m \u001b[0mprint\u001b[0m\u001b[0;34m(\u001b[0m\u001b[0mb\u001b[0m\u001b[0;34m)\u001b[0m\u001b[0;34m\u001b[0m\u001b[0;34m\u001b[0m\u001b[0m\n",
            "\u001b[0;31mTypeError\u001b[0m: 'tuple' object does not support item assignment"
          ]
        }
      ]
    },
    {
      "cell_type": "markdown",
      "source": [
        "# MAPPING DataType\n",
        "\n",
        "1. Dictionary - Data is indexed via keys, Data is unordered"
      ],
      "metadata": {
        "id": "pW5Wr1cEmA6p"
      }
    },
    {
      "cell_type": "code",
      "source": [
        "a = {\n",
        "  \"Name\" : \"Umesh\",\n",
        "  \"Place\" : \"Mumbai\",\n",
        "  \"Age\" : 32\n",
        "}\n",
        "\n",
        "a[\"Name\"]"
      ],
      "metadata": {
        "id": "WbiRF4Y2mHfN",
        "outputId": "1eecd546-a2ec-4ff4-f0c0-9b13dd11d97f",
        "colab": {
          "base_uri": "https://localhost:8080/",
          "height": 36
        }
      },
      "execution_count": 32,
      "outputs": [
        {
          "output_type": "execute_result",
          "data": {
            "text/plain": [
              "'Umesh'"
            ],
            "application/vnd.google.colaboratory.intrinsic+json": {
              "type": "string"
            }
          },
          "metadata": {},
          "execution_count": 32
        }
      ]
    },
    {
      "cell_type": "markdown",
      "source": [
        "# OPERATORS"
      ],
      "metadata": {
        "id": "1ZqZN7GwAFjw"
      }
    },
    {
      "cell_type": "markdown",
      "source": [
        "## Arithmetic Operators\n",
        "- +\n",
        "- -\n",
        "- *\n",
        "- /\n",
        "- %\n",
        "- // - Floored Division\n",
        "- **"
      ],
      "metadata": {
        "id": "Go_QTodcAHeJ"
      }
    },
    {
      "cell_type": "code",
      "source": [
        "5 + 5"
      ],
      "metadata": {
        "id": "zCaatE4NAYqe",
        "outputId": "acb4d909-c165-4567-f4da-0042018faba7",
        "colab": {
          "base_uri": "https://localhost:8080/"
        }
      },
      "execution_count": 33,
      "outputs": [
        {
          "output_type": "execute_result",
          "data": {
            "text/plain": [
              "10"
            ]
          },
          "metadata": {},
          "execution_count": 33
        }
      ]
    },
    {
      "cell_type": "code",
      "source": [
        "10 - 5"
      ],
      "metadata": {
        "id": "lHDVfC0BAsxD",
        "outputId": "760546d6-eb95-4de9-d2ed-ea791e5f1a90",
        "colab": {
          "base_uri": "https://localhost:8080/"
        }
      },
      "execution_count": 34,
      "outputs": [
        {
          "output_type": "execute_result",
          "data": {
            "text/plain": [
              "5"
            ]
          },
          "metadata": {},
          "execution_count": 34
        }
      ]
    },
    {
      "cell_type": "code",
      "source": [
        "2 * 5"
      ],
      "metadata": {
        "id": "fIhH6K81AvG1",
        "outputId": "1365c096-4018-4546-9442-446cbcfa4b5b",
        "colab": {
          "base_uri": "https://localhost:8080/"
        }
      },
      "execution_count": 35,
      "outputs": [
        {
          "output_type": "execute_result",
          "data": {
            "text/plain": [
              "10"
            ]
          },
          "metadata": {},
          "execution_count": 35
        }
      ]
    },
    {
      "cell_type": "code",
      "source": [
        "11 / 4"
      ],
      "metadata": {
        "id": "KlQGDZDPAvY1",
        "outputId": "3c7b067b-1091-4309-8481-4e4c6b48a097",
        "colab": {
          "base_uri": "https://localhost:8080/"
        }
      },
      "execution_count": 41,
      "outputs": [
        {
          "output_type": "execute_result",
          "data": {
            "text/plain": [
              "2.75"
            ]
          },
          "metadata": {},
          "execution_count": 41
        }
      ]
    },
    {
      "cell_type": "code",
      "source": [
        "11 // 4"
      ],
      "metadata": {
        "id": "1hoIuT-sAvqQ",
        "outputId": "8e16e3f6-8327-4336-cf39-f9bfddde2b71",
        "colab": {
          "base_uri": "https://localhost:8080/"
        }
      },
      "execution_count": 40,
      "outputs": [
        {
          "output_type": "execute_result",
          "data": {
            "text/plain": [
              "2"
            ]
          },
          "metadata": {},
          "execution_count": 40
        }
      ]
    },
    {
      "cell_type": "code",
      "source": [
        "10 % 3"
      ],
      "metadata": {
        "id": "7K_gSclxBx0F",
        "outputId": "7e62b5e0-3e97-4f0c-c550-0de9d84d9b01",
        "colab": {
          "base_uri": "https://localhost:8080/"
        }
      },
      "execution_count": 43,
      "outputs": [
        {
          "output_type": "execute_result",
          "data": {
            "text/plain": [
              "1"
            ]
          },
          "metadata": {},
          "execution_count": 43
        }
      ]
    },
    {
      "cell_type": "code",
      "source": [
        " 2**5"
      ],
      "metadata": {
        "id": "-2w1lFlYCJFe",
        "outputId": "5f5e8a8d-9dce-4d47-d45b-b799a337d484",
        "colab": {
          "base_uri": "https://localhost:8080/"
        }
      },
      "execution_count": 44,
      "outputs": [
        {
          "output_type": "execute_result",
          "data": {
            "text/plain": [
              "32"
            ]
          },
          "metadata": {},
          "execution_count": 44
        }
      ]
    },
    {
      "cell_type": "markdown",
      "source": [
        "## Concatenation"
      ],
      "metadata": {
        "id": "OV7pF03yCWX2"
      }
    },
    {
      "cell_type": "code",
      "source": [
        "\"Hello\" + \" World\""
      ],
      "metadata": {
        "id": "7M_0SkFDCYzJ",
        "outputId": "dcba7b01-0822-4fbd-ecd2-6b71df351f71",
        "colab": {
          "base_uri": "https://localhost:8080/",
          "height": 36
        }
      },
      "execution_count": 45,
      "outputs": [
        {
          "output_type": "execute_result",
          "data": {
            "text/plain": [
              "'Hello World'"
            ],
            "application/vnd.google.colaboratory.intrinsic+json": {
              "type": "string"
            }
          },
          "metadata": {},
          "execution_count": 45
        }
      ]
    },
    {
      "cell_type": "code",
      "source": [
        "\"abc\" * 4"
      ],
      "metadata": {
        "id": "4egbBa7hCgZm",
        "outputId": "512635f2-c8e4-427c-8801-05143ba9ce9b",
        "colab": {
          "base_uri": "https://localhost:8080/",
          "height": 36
        }
      },
      "execution_count": 46,
      "outputs": [
        {
          "output_type": "execute_result",
          "data": {
            "text/plain": [
              "'abcabcabcabc'"
            ],
            "application/vnd.google.colaboratory.intrinsic+json": {
              "type": "string"
            }
          },
          "metadata": {},
          "execution_count": 46
        }
      ]
    },
    {
      "cell_type": "code",
      "source": [
        "\"abc\" + 4"
      ],
      "metadata": {
        "id": "iKCxEWS_CxWR",
        "outputId": "60530d11-aae4-4915-d7ac-553e9aad7a38",
        "colab": {
          "base_uri": "https://localhost:8080/",
          "height": 141
        }
      },
      "execution_count": 48,
      "outputs": [
        {
          "output_type": "error",
          "ename": "TypeError",
          "evalue": "can only concatenate str (not \"int\") to str",
          "traceback": [
            "\u001b[0;31m---------------------------------------------------------------------------\u001b[0m",
            "\u001b[0;31mTypeError\u001b[0m                                 Traceback (most recent call last)",
            "\u001b[0;32m<ipython-input-48-e96236b2ce40>\u001b[0m in \u001b[0;36m<cell line: 1>\u001b[0;34m()\u001b[0m\n\u001b[0;32m----> 1\u001b[0;31m \u001b[0;34m\"abc\"\u001b[0m \u001b[0;34m+\u001b[0m \u001b[0;36m4\u001b[0m\u001b[0;34m\u001b[0m\u001b[0;34m\u001b[0m\u001b[0m\n\u001b[0m",
            "\u001b[0;31mTypeError\u001b[0m: can only concatenate str (not \"int\") to str"
          ]
        }
      ]
    },
    {
      "cell_type": "code",
      "source": [
        "\"abc\" / 4"
      ],
      "metadata": {
        "id": "Tdj3Ho9KCz_d",
        "outputId": "d82f6c76-a5f7-45fa-9213-9ce695e94589",
        "colab": {
          "base_uri": "https://localhost:8080/",
          "height": 141
        }
      },
      "execution_count": 49,
      "outputs": [
        {
          "output_type": "error",
          "ename": "TypeError",
          "evalue": "unsupported operand type(s) for /: 'str' and 'int'",
          "traceback": [
            "\u001b[0;31m---------------------------------------------------------------------------\u001b[0m",
            "\u001b[0;31mTypeError\u001b[0m                                 Traceback (most recent call last)",
            "\u001b[0;32m<ipython-input-49-1ff8aaa409b3>\u001b[0m in \u001b[0;36m<cell line: 1>\u001b[0;34m()\u001b[0m\n\u001b[0;32m----> 1\u001b[0;31m \u001b[0;34m\"abc\"\u001b[0m \u001b[0;34m/\u001b[0m \u001b[0;36m4\u001b[0m\u001b[0;34m\u001b[0m\u001b[0;34m\u001b[0m\u001b[0m\n\u001b[0m",
            "\u001b[0;31mTypeError\u001b[0m: unsupported operand type(s) for /: 'str' and 'int'"
          ]
        }
      ]
    },
    {
      "cell_type": "markdown",
      "source": [
        "## Comparison Operator\n",
        "- \"<\"\n",
        "- \">\"\n",
        "- \"<=\"\n",
        "- \">=\"\n",
        "- \"==\"\n",
        "- \"!=\""
      ],
      "metadata": {
        "id": "LGXldycNGTvQ"
      }
    },
    {
      "cell_type": "code",
      "source": [
        "5 < 6"
      ],
      "metadata": {
        "id": "-pIreUKPGjAw",
        "outputId": "d79ae745-8ed1-4dc8-9f01-3f329cea15fb",
        "colab": {
          "base_uri": "https://localhost:8080/"
        }
      },
      "execution_count": 50,
      "outputs": [
        {
          "output_type": "execute_result",
          "data": {
            "text/plain": [
              "True"
            ]
          },
          "metadata": {},
          "execution_count": 50
        }
      ]
    },
    {
      "cell_type": "code",
      "source": [
        "5 > 6"
      ],
      "metadata": {
        "id": "UTJU820-G3Pk",
        "outputId": "d877ab30-b34c-41dd-d3f6-1c6eb7a4de91",
        "colab": {
          "base_uri": "https://localhost:8080/"
        }
      },
      "execution_count": 51,
      "outputs": [
        {
          "output_type": "execute_result",
          "data": {
            "text/plain": [
              "False"
            ]
          },
          "metadata": {},
          "execution_count": 51
        }
      ]
    },
    {
      "cell_type": "code",
      "source": [
        "5 >= 6"
      ],
      "metadata": {
        "id": "SrRIuJnWG3SA",
        "outputId": "faf503b9-51df-4d19-b6a3-66f859124039",
        "colab": {
          "base_uri": "https://localhost:8080/"
        }
      },
      "execution_count": 52,
      "outputs": [
        {
          "output_type": "execute_result",
          "data": {
            "text/plain": [
              "False"
            ]
          },
          "metadata": {},
          "execution_count": 52
        }
      ]
    },
    {
      "cell_type": "code",
      "source": [
        "5 <= 6"
      ],
      "metadata": {
        "id": "xJNk0MBnG3Tt",
        "outputId": "eafb9b04-d197-4742-e6e3-5a8a74620804",
        "colab": {
          "base_uri": "https://localhost:8080/"
        }
      },
      "execution_count": 53,
      "outputs": [
        {
          "output_type": "execute_result",
          "data": {
            "text/plain": [
              "True"
            ]
          },
          "metadata": {},
          "execution_count": 53
        }
      ]
    },
    {
      "cell_type": "code",
      "source": [
        "5 == 6"
      ],
      "metadata": {
        "id": "5ij9SDmcG3Vg",
        "outputId": "35386123-d5ab-43ec-ff7f-3770424a210c",
        "colab": {
          "base_uri": "https://localhost:8080/"
        }
      },
      "execution_count": 54,
      "outputs": [
        {
          "output_type": "execute_result",
          "data": {
            "text/plain": [
              "False"
            ]
          },
          "metadata": {},
          "execution_count": 54
        }
      ]
    },
    {
      "cell_type": "code",
      "source": [
        "5 != 6"
      ],
      "metadata": {
        "id": "n3C_5IJHG3ZO",
        "outputId": "33d6d481-9926-441b-9ae2-6dbe746ffef3",
        "colab": {
          "base_uri": "https://localhost:8080/"
        }
      },
      "execution_count": 55,
      "outputs": [
        {
          "output_type": "execute_result",
          "data": {
            "text/plain": [
              "True"
            ]
          },
          "metadata": {},
          "execution_count": 55
        }
      ]
    },
    {
      "cell_type": "code",
      "source": [
        "'z' < 'abc'"
      ],
      "metadata": {
        "id": "268SufCDG3bM",
        "outputId": "d3c10d8e-6198-4724-b0a1-f5a296c57cdb",
        "colab": {
          "base_uri": "https://localhost:8080/"
        }
      },
      "execution_count": 56,
      "outputs": [
        {
          "output_type": "execute_result",
          "data": {
            "text/plain": [
              "False"
            ]
          },
          "metadata": {},
          "execution_count": 56
        }
      ]
    },
    {
      "cell_type": "code",
      "source": [
        "\"abcD\" < \"abcd\""
      ],
      "metadata": {
        "id": "dCnIB4vBG3en",
        "outputId": "e639fd15-eb07-4410-b3e5-dadfa6e1389d",
        "colab": {
          "base_uri": "https://localhost:8080/"
        }
      },
      "execution_count": 60,
      "outputs": [
        {
          "output_type": "execute_result",
          "data": {
            "text/plain": [
              "True"
            ]
          },
          "metadata": {},
          "execution_count": 60
        }
      ]
    },
    {
      "cell_type": "code",
      "source": [
        "print(ord(\"a\"))\n",
        "print(ord(\"A\"))"
      ],
      "metadata": {
        "id": "V3PBYfp4Jqex",
        "outputId": "1230a568-62ca-4ed1-d739-595c49f24cc5",
        "colab": {
          "base_uri": "https://localhost:8080/"
        }
      },
      "execution_count": 64,
      "outputs": [
        {
          "output_type": "stream",
          "name": "stdout",
          "text": [
            "97\n",
            "65\n"
          ]
        }
      ]
    },
    {
      "cell_type": "markdown",
      "source": [
        "## Assignment Operator\n",
        "\n",
        "- =\n",
        "- +=\n",
        "- *=\n",
        "- /="
      ],
      "metadata": {
        "id": "Ki2FZAmdKfUT"
      }
    },
    {
      "cell_type": "code",
      "source": [
        "a = 5"
      ],
      "metadata": {
        "id": "qMyWe6b1KrwI"
      },
      "execution_count": 72,
      "outputs": []
    },
    {
      "cell_type": "code",
      "source": [
        "a += 5\n",
        "print(a)"
      ],
      "metadata": {
        "id": "QotlxvZ6KtZ5",
        "outputId": "40cfd11f-9bcd-42b0-cbf4-cd0d7da1a474",
        "colab": {
          "base_uri": "https://localhost:8080/"
        }
      },
      "execution_count": 73,
      "outputs": [
        {
          "output_type": "stream",
          "name": "stdout",
          "text": [
            "10\n"
          ]
        }
      ]
    },
    {
      "cell_type": "code",
      "source": [
        "a *= 5\n",
        "print(a)"
      ],
      "metadata": {
        "id": "i9XfEf7AKxgQ",
        "outputId": "2a20b11c-50ee-46fc-bfb3-188ce209a915",
        "colab": {
          "base_uri": "https://localhost:8080/"
        }
      },
      "execution_count": 74,
      "outputs": [
        {
          "output_type": "stream",
          "name": "stdout",
          "text": [
            "50\n"
          ]
        }
      ]
    },
    {
      "cell_type": "code",
      "source": [
        "a /= 5\n",
        "print(a)"
      ],
      "metadata": {
        "id": "z_l8q5AJKxm8",
        "outputId": "19f37538-6918-455e-a1d0-e07c21aae66d",
        "colab": {
          "base_uri": "https://localhost:8080/"
        }
      },
      "execution_count": 75,
      "outputs": [
        {
          "output_type": "stream",
          "name": "stdout",
          "text": [
            "10.0\n"
          ]
        }
      ]
    },
    {
      "cell_type": "code",
      "source": [
        "a -= 5\n",
        "print(a)"
      ],
      "metadata": {
        "id": "nW3EhzsMKxtB",
        "outputId": "6b96932a-5012-431a-a83d-541b178e85b7",
        "colab": {
          "base_uri": "https://localhost:8080/"
        }
      },
      "execution_count": 76,
      "outputs": [
        {
          "output_type": "stream",
          "name": "stdout",
          "text": [
            "5.0\n"
          ]
        }
      ]
    },
    {
      "cell_type": "markdown",
      "source": [
        "## Logical Operators\n",
        "\n",
        "- AND\n",
        "- OR\n",
        "- NOT\n"
      ],
      "metadata": {
        "id": "M692YmL4LUpx"
      }
    },
    {
      "cell_type": "code",
      "source": [
        "True and False"
      ],
      "metadata": {
        "id": "_jFDF7WrMg2o",
        "outputId": "a83f29e8-697a-4f4f-9e74-722b434c6746",
        "colab": {
          "base_uri": "https://localhost:8080/"
        }
      },
      "execution_count": 79,
      "outputs": [
        {
          "output_type": "execute_result",
          "data": {
            "text/plain": [
              "False"
            ]
          },
          "metadata": {},
          "execution_count": 79
        }
      ]
    },
    {
      "cell_type": "code",
      "source": [
        "True or False"
      ],
      "metadata": {
        "id": "soaprbL5MhLk",
        "outputId": "6ca6908d-567d-41b1-8c25-33d703024818",
        "colab": {
          "base_uri": "https://localhost:8080/"
        }
      },
      "execution_count": 80,
      "outputs": [
        {
          "output_type": "execute_result",
          "data": {
            "text/plain": [
              "True"
            ]
          },
          "metadata": {},
          "execution_count": 80
        }
      ]
    },
    {
      "cell_type": "markdown",
      "source": [
        "Truthy Values - The values when converted to boolean returns TRUE\n",
        "\n",
        "Falsy Values - The values when converted to boolean returns FALSE"
      ],
      "metadata": {
        "id": "0q49JcrHQFwd"
      }
    },
    {
      "cell_type": "code",
      "source": [
        "5 or 0"
      ],
      "metadata": {
        "id": "_aJknvjrLhVx",
        "outputId": "338f5345-704c-40fa-f500-3a98845203ae",
        "colab": {
          "base_uri": "https://localhost:8080/"
        }
      },
      "execution_count": 77,
      "outputs": [
        {
          "output_type": "execute_result",
          "data": {
            "text/plain": [
              "5"
            ]
          },
          "metadata": {},
          "execution_count": 77
        }
      ]
    },
    {
      "cell_type": "code",
      "source": [
        "0 and 7"
      ],
      "metadata": {
        "id": "olR5pdDFMd8q",
        "outputId": "f44f65f2-5ca3-4db4-d5a2-5cb3867566b7",
        "colab": {
          "base_uri": "https://localhost:8080/"
        }
      },
      "execution_count": 84,
      "outputs": [
        {
          "output_type": "execute_result",
          "data": {
            "text/plain": [
              "0"
            ]
          },
          "metadata": {},
          "execution_count": 84
        }
      ]
    },
    {
      "cell_type": "code",
      "source": [
        "bool(\"\")"
      ],
      "metadata": {
        "id": "7DON3mqkPD0b",
        "outputId": "49d4d99a-d1e1-4c4d-8334-ebb3cb02abae",
        "colab": {
          "base_uri": "https://localhost:8080/"
        }
      },
      "execution_count": 81,
      "outputs": [
        {
          "output_type": "execute_result",
          "data": {
            "text/plain": [
              "False"
            ]
          },
          "metadata": {},
          "execution_count": 81
        }
      ]
    },
    {
      "cell_type": "code",
      "source": [
        "bool(5)"
      ],
      "metadata": {
        "id": "iyqnqf47PD7c",
        "outputId": "bd2ce104-49b0-4cfb-dc05-379f069bfb45",
        "colab": {
          "base_uri": "https://localhost:8080/"
        }
      },
      "execution_count": 82,
      "outputs": [
        {
          "output_type": "execute_result",
          "data": {
            "text/plain": [
              "True"
            ]
          },
          "metadata": {},
          "execution_count": 82
        }
      ]
    },
    {
      "cell_type": "code",
      "source": [
        "bool(0)"
      ],
      "metadata": {
        "id": "s8fGpwgFPEM2",
        "outputId": "426ebd45-97fe-49ca-b0ba-d6136e898a11",
        "colab": {
          "base_uri": "https://localhost:8080/"
        }
      },
      "execution_count": 83,
      "outputs": [
        {
          "output_type": "execute_result",
          "data": {
            "text/plain": [
              "False"
            ]
          },
          "metadata": {},
          "execution_count": 83
        }
      ]
    },
    {
      "cell_type": "code",
      "source": [
        "\"Umesh\" and 6"
      ],
      "metadata": {
        "id": "dQtyzTWaQZ4t",
        "outputId": "13d27492-3a50-4982-a1d0-37833f1f8bb4",
        "colab": {
          "base_uri": "https://localhost:8080/"
        }
      },
      "execution_count": 85,
      "outputs": [
        {
          "output_type": "execute_result",
          "data": {
            "text/plain": [
              "6"
            ]
          },
          "metadata": {},
          "execution_count": 85
        }
      ]
    }
  ]
}