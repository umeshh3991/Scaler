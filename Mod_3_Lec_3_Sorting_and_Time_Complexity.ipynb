{
  "nbformat": 4,
  "nbformat_minor": 0,
  "metadata": {
    "colab": {
      "provenance": [],
      "authorship_tag": "ABX9TyNoTkdwm3aDO+5LwkmJTRmP",
      "include_colab_link": true
    },
    "kernelspec": {
      "name": "python3",
      "display_name": "Python 3"
    },
    "language_info": {
      "name": "python"
    }
  },
  "cells": [
    {
      "cell_type": "markdown",
      "metadata": {
        "id": "view-in-github",
        "colab_type": "text"
      },
      "source": [
        "<a href=\"https://colab.research.google.com/github/umeshh3991/Scaler/blob/Module-3/Mod_3_Lec_3_Sorting_and_Time_Complexity.ipynb\" target=\"_parent\"><img src=\"https://colab.research.google.com/assets/colab-badge.svg\" alt=\"Open In Colab\"/></a>"
      ]
    },
    {
      "cell_type": "markdown",
      "source": [
        "## Bubble Sort"
      ],
      "metadata": {
        "id": "_u4QjtzAn_Qg"
      }
    },
    {
      "cell_type": "markdown",
      "source": [
        "Q. WAP to sort list of integers using Bubble Sort"
      ],
      "metadata": {
        "id": "15MGC-j4t9uh"
      }
    },
    {
      "cell_type": "code",
      "execution_count": null,
      "metadata": {
        "id": "GGSC0cKXmf0Q"
      },
      "outputs": [],
      "source": [
        "def bubble_sort(array):\n",
        "\n",
        "  start = 0\n",
        "  end = len(array)\n",
        "  count = 0\n",
        "\n",
        "  while start < end:\n",
        "    for i in range(end-1):\n",
        "      count += 1\n",
        "      print(\"Iteration #\",count)\n",
        "      if (array[i] > array[i+1]):\n",
        "        temp = array[i+1]\n",
        "        array[i+1] = array[i]\n",
        "        array[i] = temp\n",
        "    end -= 1\n",
        "\n",
        "  return(array)"
      ]
    },
    {
      "cell_type": "code",
      "source": [
        "my_array = [5, 1, 2, 4, 7, 3]"
      ],
      "metadata": {
        "id": "UmoWCvwJn-YO"
      },
      "execution_count": null,
      "outputs": []
    },
    {
      "cell_type": "code",
      "source": [
        "bubble_sort(my_array)"
      ],
      "metadata": {
        "id": "dOudeKf4wimJ",
        "outputId": "95c63f86-abc4-4c96-f357-9c01f59370be",
        "colab": {
          "base_uri": "https://localhost:8080/"
        }
      },
      "execution_count": null,
      "outputs": [
        {
          "output_type": "stream",
          "name": "stdout",
          "text": [
            "Iteration # 1\n",
            "Iteration # 2\n",
            "Iteration # 3\n",
            "Iteration # 4\n",
            "Iteration # 5\n",
            "Iteration # 6\n",
            "Iteration # 7\n",
            "Iteration # 8\n",
            "Iteration # 9\n",
            "Iteration # 10\n",
            "Iteration # 11\n",
            "Iteration # 12\n",
            "Iteration # 13\n",
            "Iteration # 14\n",
            "Iteration # 15\n"
          ]
        },
        {
          "output_type": "execute_result",
          "data": {
            "text/plain": [
              "[1, 2, 3, 4, 5, 7]"
            ]
          },
          "metadata": {},
          "execution_count": 15
        }
      ]
    },
    {
      "cell_type": "markdown",
      "source": [
        "- Some optimization on above code"
      ],
      "metadata": {
        "id": "PSsEcisRn9bQ"
      }
    },
    {
      "cell_type": "code",
      "source": [
        "def bubble_sort1(array1):\n",
        "\n",
        "  start = 0\n",
        "  end = len(array1)\n",
        "  count = 0\n",
        "\n",
        "  while start < end:\n",
        "    for i in range(end-1):\n",
        "      count += 1\n",
        "      print(\"Iteration #\",count)\n",
        "      if (array1[i] > array1[i+1]):\n",
        "        array1[i], array1[i+1] = array1[i+1], array1[i] # swapping in python\n",
        "    end -= 1\n",
        "\n",
        "  return(array1)"
      ],
      "metadata": {
        "id": "pFw9RNNdzEEl"
      },
      "execution_count": null,
      "outputs": []
    },
    {
      "cell_type": "code",
      "source": [
        "my_array1 = [5, 1, 2, 4, 7, 3]"
      ],
      "metadata": {
        "id": "TTfAJwPtzZq-"
      },
      "execution_count": null,
      "outputs": []
    },
    {
      "cell_type": "code",
      "source": [
        "bubble_sort1(my_array1)"
      ],
      "metadata": {
        "id": "W1BCZwgEzen2",
        "outputId": "880788dd-0a64-499e-d8a9-e2a3855a49ec",
        "colab": {
          "base_uri": "https://localhost:8080/"
        }
      },
      "execution_count": null,
      "outputs": [
        {
          "output_type": "stream",
          "name": "stdout",
          "text": [
            "Iteration # 1\n",
            "Iteration # 2\n",
            "Iteration # 3\n",
            "Iteration # 4\n",
            "Iteration # 5\n",
            "Iteration # 6\n",
            "Iteration # 7\n",
            "Iteration # 8\n",
            "Iteration # 9\n",
            "Iteration # 10\n",
            "Iteration # 11\n",
            "Iteration # 12\n",
            "Iteration # 13\n",
            "Iteration # 14\n",
            "Iteration # 15\n"
          ]
        },
        {
          "output_type": "execute_result",
          "data": {
            "text/plain": [
              "[1, 2, 3, 4, 5, 7]"
            ]
          },
          "metadata": {},
          "execution_count": 36
        }
      ]
    },
    {
      "cell_type": "code",
      "source": [
        "my_array_new = [1, 3, 9, 12, 4, 6, 32]"
      ],
      "metadata": {
        "id": "OttRElCyYbNX"
      },
      "execution_count": null,
      "outputs": []
    },
    {
      "cell_type": "code",
      "source": [
        "bubble_sort1(my_array_new)"
      ],
      "metadata": {
        "id": "IPsNjZGgYmT0",
        "outputId": "39d0ee7b-7fd6-40a6-ad10-7c37ef5d79e6",
        "colab": {
          "base_uri": "https://localhost:8080/"
        }
      },
      "execution_count": null,
      "outputs": [
        {
          "output_type": "stream",
          "name": "stdout",
          "text": [
            "Iteration # 1\n",
            "Iteration # 2\n",
            "Iteration # 3\n",
            "Iteration # 4\n",
            "Iteration # 5\n",
            "Iteration # 6\n",
            "Iteration # 7\n",
            "Iteration # 8\n",
            "Iteration # 9\n",
            "Iteration # 10\n",
            "Iteration # 11\n",
            "Iteration # 12\n",
            "Iteration # 13\n",
            "Iteration # 14\n",
            "Iteration # 15\n",
            "Iteration # 16\n",
            "Iteration # 17\n",
            "Iteration # 18\n",
            "Iteration # 19\n",
            "Iteration # 20\n",
            "Iteration # 21\n"
          ]
        },
        {
          "output_type": "execute_result",
          "data": {
            "text/plain": [
              "[1, 3, 4, 6, 9, 12, 32]"
            ]
          },
          "metadata": {},
          "execution_count": 33
        }
      ]
    },
    {
      "cell_type": "markdown",
      "source": [
        "- As in above code we can observe after 4 got sorted then sorting was completed, so the rest of the swap coul be skipped. Hence, below code showcase it how it needs to be done"
      ],
      "metadata": {
        "id": "U1VMlbx02mzB"
      }
    },
    {
      "cell_type": "code",
      "source": [
        "def bubble_sort2(array2):\n",
        "\n",
        "  start = 0\n",
        "  end = len(array2)\n",
        "  count = 0\n",
        "\n",
        "  while start < end:\n",
        "    swap = False\n",
        "    for i in range(end-1):\n",
        "      count += 1\n",
        "      print(\"Iteration #\",count)\n",
        "      if (array2[i] > array2[i+1]):\n",
        "        array2[i], array2[i+1] = array2[i+1], array2[i] # swapping in python\n",
        "        swap = True\n",
        "\n",
        "    if not swap:\n",
        "        break\n",
        "\n",
        "    end -= 1\n",
        "\n",
        "  return(array2)"
      ],
      "metadata": {
        "id": "59wg4-kX3aFe"
      },
      "execution_count": null,
      "outputs": []
    },
    {
      "cell_type": "code",
      "source": [
        "my_array2 = [5, 1, 2, 4, 7, 3]"
      ],
      "metadata": {
        "id": "G7-6bKG13rcz"
      },
      "execution_count": null,
      "outputs": []
    },
    {
      "cell_type": "code",
      "source": [
        "bubble_sort2(my_array2)"
      ],
      "metadata": {
        "id": "FTuBvEgh3vsl",
        "outputId": "bdfc5102-9f77-4739-9810-39ea352e2e53",
        "colab": {
          "base_uri": "https://localhost:8080/"
        }
      },
      "execution_count": null,
      "outputs": [
        {
          "output_type": "stream",
          "name": "stdout",
          "text": [
            "Iteration # 1\n",
            "Iteration # 2\n",
            "Iteration # 3\n",
            "Iteration # 4\n",
            "Iteration # 5\n",
            "Iteration # 6\n",
            "Iteration # 7\n",
            "Iteration # 8\n",
            "Iteration # 9\n",
            "Iteration # 10\n",
            "Iteration # 11\n",
            "Iteration # 12\n",
            "Iteration # 13\n",
            "Iteration # 14\n"
          ]
        },
        {
          "output_type": "execute_result",
          "data": {
            "text/plain": [
              "[1, 2, 3, 4, 5, 7]"
            ]
          },
          "metadata": {},
          "execution_count": 60
        }
      ]
    },
    {
      "cell_type": "markdown",
      "source": [
        "## Time Complexity Notations"
      ],
      "metadata": {
        "id": "pKMmaR3qriBs"
      }
    },
    {
      "cell_type": "markdown",
      "source": [
        "## BIG O Notation"
      ],
      "metadata": {
        "id": "mATZlXMbrpEe"
      }
    },
    {
      "cell_type": "markdown",
      "source": [
        "1. O(n)"
      ],
      "metadata": {
        "id": "PgerFfjJr1qq"
      }
    },
    {
      "cell_type": "code",
      "source": [
        "def linear_function(n):\n",
        "  count = 0\n",
        "\n",
        "  for i in range (n):\n",
        "    count += 1\n",
        "    print(count)\n",
        "\n",
        "linear_function(5)"
      ],
      "metadata": {
        "collapsed": true,
        "id": "qaRcuVYzrx5S",
        "outputId": "6494c911-c308-40f4-aa9d-c6f0c5cd6499",
        "colab": {
          "base_uri": "https://localhost:8080/"
        }
      },
      "execution_count": null,
      "outputs": [
        {
          "output_type": "stream",
          "name": "stdout",
          "text": [
            "1\n",
            "2\n",
            "3\n",
            "4\n",
            "5\n"
          ]
        }
      ]
    },
    {
      "cell_type": "markdown",
      "source": [
        "2. O(n**2)"
      ],
      "metadata": {
        "id": "E55S48b5srlX"
      }
    },
    {
      "cell_type": "code",
      "source": [
        "def quadratic_function(n):\n",
        "\n",
        "  count = 0\n",
        "\n",
        "  for i in range(n):\n",
        "    for j in range(n):\n",
        "      count += 1\n",
        "      print(count)\n",
        "\n",
        "quadratic_function(5)"
      ],
      "metadata": {
        "id": "8P2gJ8unspvy",
        "outputId": "3a4fe2b7-d090-4590-b682-67c4a5d4445d",
        "colab": {
          "base_uri": "https://localhost:8080/"
        }
      },
      "execution_count": null,
      "outputs": [
        {
          "output_type": "stream",
          "name": "stdout",
          "text": [
            "1\n",
            "2\n",
            "3\n",
            "4\n",
            "5\n",
            "6\n",
            "7\n",
            "8\n",
            "9\n",
            "10\n",
            "11\n",
            "12\n",
            "13\n",
            "14\n",
            "15\n",
            "16\n",
            "17\n",
            "18\n",
            "19\n",
            "20\n",
            "21\n",
            "22\n",
            "23\n",
            "24\n",
            "25\n"
          ]
        }
      ]
    },
    {
      "cell_type": "markdown",
      "source": [
        "3. O(1)"
      ],
      "metadata": {
        "id": "KqNruov8wyJZ"
      }
    },
    {
      "cell_type": "code",
      "source": [
        "def constant_function(n):\n",
        "  count = 0\n",
        "\n",
        "  for i in range (10):\n",
        "    count += 1\n",
        "    print(count)\n",
        "\n",
        "constant_function(500000)"
      ],
      "metadata": {
        "id": "AI1pdl4owxa5",
        "outputId": "9a2e1f9e-f510-42c0-af61-a767fbddcb00",
        "colab": {
          "base_uri": "https://localhost:8080/"
        }
      },
      "execution_count": null,
      "outputs": [
        {
          "output_type": "stream",
          "name": "stdout",
          "text": [
            "1\n",
            "2\n",
            "3\n",
            "4\n",
            "5\n",
            "6\n",
            "7\n",
            "8\n",
            "9\n",
            "10\n"
          ]
        }
      ]
    },
    {
      "cell_type": "markdown",
      "source": [
        "4. Log(n)"
      ],
      "metadata": {
        "id": "Vux1z8fAzVdc"
      }
    },
    {
      "cell_type": "code",
      "source": [
        "def log_function(n):\n",
        "\n",
        "  i = 1\n",
        "  count = 1\n",
        "\n",
        "  while i < n:\n",
        "    print(\"Iteration #\",count)\n",
        "    count += 1\n",
        "\n",
        "    i *= 2\n",
        "    print(i)\n",
        "\n",
        "log_function(32)\n"
      ],
      "metadata": {
        "id": "alA3lI0wzZCj",
        "outputId": "8d6854ed-7241-4377-ac37-2d7317374618",
        "colab": {
          "base_uri": "https://localhost:8080/"
        }
      },
      "execution_count": null,
      "outputs": [
        {
          "output_type": "stream",
          "name": "stdout",
          "text": [
            "Iteration # 1\n",
            "2\n",
            "Iteration # 2\n",
            "4\n",
            "Iteration # 3\n",
            "8\n",
            "Iteration # 4\n",
            "16\n",
            "Iteration # 5\n",
            "32\n"
          ]
        }
      ]
    },
    {
      "cell_type": "markdown",
      "source": [
        "## Merge Sort"
      ],
      "metadata": {
        "id": "Bb74uEY8JcUX"
      }
    },
    {
      "cell_type": "markdown",
      "source": [
        "Q. WAP to sort the elements using Merge Sort"
      ],
      "metadata": {
        "id": "sZTyO3XmJe30"
      }
    },
    {
      "cell_type": "code",
      "source": [
        "def merge_sort(arr1, arr2):\n",
        "  i = 0\n",
        "  j = 0\n",
        "  result = []\n",
        "  count = 0\n",
        "\n",
        "  while(i < len(arr1) and j < len(arr2)):\n",
        "\n",
        "    count += 1\n",
        "    print(\"Iterations #\",count)\n",
        "\n",
        "    if (arr1[i] < arr2[j]):\n",
        "      result.append(arr1[i])\n",
        "      i += 1\n",
        "\n",
        "    else:\n",
        "      result.append(arr2[j])\n",
        "      j += 1\n",
        "\n",
        "  if (i < len(arr1)):\n",
        "      result = result + arr1[i:]\n",
        "\n",
        "  if (j < len(arr2)):\n",
        "      result = result + arr2[j:]\n",
        "\n",
        "  return(result)\n",
        "\n",
        "my_arr1 = [1, 3, 9, 12]\n",
        "my_arr2 = [4, 6, 32]\n",
        "\n",
        "merge_sort(my_arr1, my_arr2)"
      ],
      "metadata": {
        "id": "vNUruZs_JjgC",
        "outputId": "aba58980-528b-49e1-84d0-a03bcaf690f3",
        "colab": {
          "base_uri": "https://localhost:8080/"
        }
      },
      "execution_count": null,
      "outputs": [
        {
          "output_type": "stream",
          "name": "stdout",
          "text": [
            "Iterations # 1\n",
            "Iterations # 2\n",
            "Iterations # 3\n",
            "Iterations # 4\n",
            "Iterations # 5\n",
            "Iterations # 6\n"
          ]
        },
        {
          "output_type": "execute_result",
          "data": {
            "text/plain": [
              "[1, 3, 4, 6, 9, 12, 32]"
            ]
          },
          "metadata": {},
          "execution_count": 28
        }
      ]
    },
    {
      "cell_type": "markdown",
      "source": [
        "## Selection Sort"
      ],
      "metadata": {
        "id": "yRL1tmk8X6yu"
      }
    },
    {
      "cell_type": "markdown",
      "source": [
        "Q. WAP to sort the elements using Selection Sort"
      ],
      "metadata": {
        "id": "L9_zkhlKX9k1"
      }
    },
    {
      "cell_type": "code",
      "source": [
        "def selection_sort(arr):\n",
        "\n",
        "  n = len(arr)\n",
        "  count = 0\n",
        "\n",
        "  for i in range (n-1):\n",
        "    print(arr)\n",
        "    for j in range(n-i-1):\n",
        "      count += 1\n",
        "\n",
        "      if arr[i] > arr[j+i+1]:\n",
        "        arr[i], arr[j+i+1] = arr[j+i+1], arr[i]\n",
        "\n",
        "  print(\"Total Iterations \",count)\n",
        "  return(arr)"
      ],
      "metadata": {
        "id": "gIP60RCGYJL_"
      },
      "execution_count": null,
      "outputs": []
    },
    {
      "cell_type": "code",
      "source": [
        "my_sel_arr = [13, 52, 9, 16, 25]"
      ],
      "metadata": {
        "id": "3ioTJ-3iYJvB"
      },
      "execution_count": null,
      "outputs": []
    },
    {
      "cell_type": "code",
      "source": [
        "selection_sort(my_sel_arr)"
      ],
      "metadata": {
        "id": "lJMQY26SdKA7",
        "outputId": "95b87f05-085c-4df6-ab9f-c9b33c769504",
        "colab": {
          "base_uri": "https://localhost:8080/"
        }
      },
      "execution_count": null,
      "outputs": [
        {
          "output_type": "stream",
          "name": "stdout",
          "text": [
            "[13, 52, 9, 16, 25]\n",
            "[9, 52, 13, 16, 25]\n",
            "[9, 13, 52, 16, 25]\n",
            "[9, 13, 16, 52, 25]\n"
          ]
        },
        {
          "output_type": "execute_result",
          "data": {
            "text/plain": [
              "[9, 13, 16, 25, 52]"
            ]
          },
          "metadata": {},
          "execution_count": 33
        }
      ]
    },
    {
      "cell_type": "code",
      "source": [
        "my_sel_arr1 = [42, 34, 22, 67, 45, 12, 36, 10, 12]"
      ],
      "metadata": {
        "id": "u9edHr2HxUYI"
      },
      "execution_count": null,
      "outputs": []
    },
    {
      "cell_type": "code",
      "source": [
        "selection_sort(my_sel_arr1)"
      ],
      "metadata": {
        "id": "EydyxixcxdW2",
        "outputId": "e9e24e94-d0a6-4420-e477-d5374c134711",
        "colab": {
          "base_uri": "https://localhost:8080/"
        }
      },
      "execution_count": null,
      "outputs": [
        {
          "output_type": "stream",
          "name": "stdout",
          "text": [
            "[42, 34, 22, 67, 45, 12, 36, 10, 12]\n",
            "[10, 42, 34, 67, 45, 22, 36, 12, 12]\n",
            "[10, 12, 42, 67, 45, 34, 36, 22, 12]\n",
            "[10, 12, 12, 67, 45, 42, 36, 34, 22]\n",
            "[10, 12, 12, 22, 67, 45, 42, 36, 34]\n",
            "[10, 12, 12, 22, 34, 67, 45, 42, 36]\n",
            "[10, 12, 12, 22, 34, 36, 67, 45, 42]\n",
            "[10, 12, 12, 22, 34, 36, 42, 67, 45]\n",
            "Total Iterations  36\n"
          ]
        },
        {
          "output_type": "execute_result",
          "data": {
            "text/plain": [
              "[10, 12, 12, 22, 34, 36, 42, 45, 67]"
            ]
          },
          "metadata": {},
          "execution_count": 45
        }
      ]
    },
    {
      "cell_type": "markdown",
      "source": [
        "## Insertion Sort"
      ],
      "metadata": {
        "id": "cDSI32wyita9"
      }
    },
    {
      "cell_type": "markdown",
      "source": [
        "Q. WAP to sort the elements using Insertion Sort"
      ],
      "metadata": {
        "id": "E_i3L6zdivYd"
      }
    },
    {
      "cell_type": "code",
      "source": [
        "def insertion_sort(arr):\n",
        "\n",
        "  n = len(arr)\n",
        "\n",
        "  for i in range(1, n):\n",
        "\n",
        "    print(arr)\n",
        "    j = i\n",
        "\n",
        "    while j > 0 and arr[j-1] > arr[j]:\n",
        "      arr[j], arr[j-1] = arr[j-1], arr[j]\n",
        "      j -= 1\n",
        "\n",
        "  return(arr)"
      ],
      "metadata": {
        "id": "6EGryKv0i26q"
      },
      "execution_count": 4,
      "outputs": []
    },
    {
      "cell_type": "code",
      "source": [
        "my_ins_arr = [13, 52, 9, 16, 25]"
      ],
      "metadata": {
        "id": "HrZmatxdi88R"
      },
      "execution_count": 5,
      "outputs": []
    },
    {
      "cell_type": "code",
      "source": [
        "insertion_sort(my_ins_arr)"
      ],
      "metadata": {
        "id": "rGQOpBA0kF7e",
        "outputId": "c0052e03-92fb-4027-8050-29380e6bacc8",
        "colab": {
          "base_uri": "https://localhost:8080/"
        }
      },
      "execution_count": 6,
      "outputs": [
        {
          "output_type": "stream",
          "name": "stdout",
          "text": [
            "[13, 52, 9, 16, 25]\n",
            "[13, 52, 9, 16, 25]\n",
            "[9, 13, 52, 16, 25]\n",
            "[9, 13, 16, 52, 25]\n"
          ]
        },
        {
          "output_type": "execute_result",
          "data": {
            "text/plain": [
              "[9, 13, 16, 25, 52]"
            ]
          },
          "metadata": {},
          "execution_count": 6
        }
      ]
    }
  ]
}