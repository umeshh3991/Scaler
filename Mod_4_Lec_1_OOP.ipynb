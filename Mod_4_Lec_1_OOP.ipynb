{
  "nbformat": 4,
  "nbformat_minor": 0,
  "metadata": {
    "colab": {
      "provenance": [],
      "authorship_tag": "ABX9TyPMR8th+3E3jl3Hx43iLoul",
      "include_colab_link": true
    },
    "kernelspec": {
      "name": "python3",
      "display_name": "Python 3"
    },
    "language_info": {
      "name": "python"
    }
  },
  "cells": [
    {
      "cell_type": "markdown",
      "metadata": {
        "id": "view-in-github",
        "colab_type": "text"
      },
      "source": [
        "<a href=\"https://colab.research.google.com/github/umeshh3991/Scaler/blob/Module-4/Mod_4_Lec_1_OOP.ipynb\" target=\"_parent\"><img src=\"https://colab.research.google.com/assets/colab-badge.svg\" alt=\"Open In Colab\"/></a>"
      ]
    },
    {
      "cell_type": "code",
      "execution_count": 1,
      "metadata": {
        "id": "OUzpWvaDM1iR"
      },
      "outputs": [],
      "source": [
        "a = [5, 3, 4, 2, 1]"
      ]
    },
    {
      "cell_type": "code",
      "source": [
        "a.sort() # Object Oriented approach"
      ],
      "metadata": {
        "id": "_vWeLHSRNHol"
      },
      "execution_count": 2,
      "outputs": []
    },
    {
      "cell_type": "code",
      "source": [
        "a"
      ],
      "metadata": {
        "id": "HCN2bHp6NN4P",
        "outputId": "31ce29ec-8dae-4576-8575-9a3292e2449e",
        "colab": {
          "base_uri": "https://localhost:8080/"
        }
      },
      "execution_count": 3,
      "outputs": [
        {
          "output_type": "execute_result",
          "data": {
            "text/plain": [
              "[1, 2, 3, 4, 5]"
            ]
          },
          "metadata": {},
          "execution_count": 3
        }
      ]
    },
    {
      "cell_type": "code",
      "source": [
        "b = [5, 3, 4, 2, 1]"
      ],
      "metadata": {
        "id": "1nUylv9qNR36"
      },
      "execution_count": 5,
      "outputs": []
    },
    {
      "cell_type": "code",
      "source": [
        "sorted(b) # Functional approach"
      ],
      "metadata": {
        "id": "62N8e0viNSC6",
        "outputId": "82b4e145-5fad-40ed-c99b-b3979fe765ed",
        "colab": {
          "base_uri": "https://localhost:8080/"
        }
      },
      "execution_count": 6,
      "outputs": [
        {
          "output_type": "execute_result",
          "data": {
            "text/plain": [
              "[1, 2, 3, 4, 5]"
            ]
          },
          "metadata": {},
          "execution_count": 6
        }
      ]
    },
    {
      "cell_type": "markdown",
      "source": [
        "## CREATE AN OBJECT"
      ],
      "metadata": {
        "id": "kS2tiqaRWmJw"
      }
    },
    {
      "cell_type": "code",
      "source": [
        "class Dog:\n",
        "  def speak():    ## Method or behaviour of class\n",
        "    print (\"Bark Bark\")"
      ],
      "metadata": {
        "id": "TR0_0FmZWo3O"
      },
      "execution_count": 11,
      "outputs": []
    },
    {
      "cell_type": "code",
      "source": [
        "d1 = Dog() # Creating object of a class\n",
        "d1.speak() # Method of Object d1"
      ],
      "metadata": {
        "id": "d_looPmhNT6h",
        "outputId": "c43c5a70-853e-4a0e-b8b8-893037c2c72e",
        "colab": {
          "base_uri": "https://localhost:8080/",
          "height": 158
        }
      },
      "execution_count": 13,
      "outputs": [
        {
          "output_type": "error",
          "ename": "TypeError",
          "evalue": "Dog.speak() takes 0 positional arguments but 1 was given",
          "traceback": [
            "\u001b[0;31m---------------------------------------------------------------------------\u001b[0m",
            "\u001b[0;31mTypeError\u001b[0m                                 Traceback (most recent call last)",
            "\u001b[0;32m<ipython-input-13-a3faa5a130a1>\u001b[0m in \u001b[0;36m<cell line: 2>\u001b[0;34m()\u001b[0m\n\u001b[1;32m      1\u001b[0m \u001b[0md1\u001b[0m \u001b[0;34m=\u001b[0m \u001b[0mDog\u001b[0m\u001b[0;34m(\u001b[0m\u001b[0;34m)\u001b[0m \u001b[0;31m# Creating object of a class\u001b[0m\u001b[0;34m\u001b[0m\u001b[0;34m\u001b[0m\u001b[0m\n\u001b[0;32m----> 2\u001b[0;31m \u001b[0md1\u001b[0m\u001b[0;34m.\u001b[0m\u001b[0mspeak\u001b[0m\u001b[0;34m(\u001b[0m\u001b[0;34m)\u001b[0m\u001b[0;34m\u001b[0m\u001b[0;34m\u001b[0m\u001b[0m\n\u001b[0m",
            "\u001b[0;31mTypeError\u001b[0m: Dog.speak() takes 0 positional arguments but 1 was given"
          ]
        }
      ]
    },
    {
      "cell_type": "code",
      "source": [
        "d1"
      ],
      "metadata": {
        "id": "fKy9USTgXM-e",
        "outputId": "ffb21bd0-5b2a-4033-8f86-9e7669bce8d2",
        "colab": {
          "base_uri": "https://localhost:8080/"
        }
      },
      "execution_count": 10,
      "outputs": [
        {
          "output_type": "execute_result",
          "data": {
            "text/plain": [
              "<__main__.Dog at 0x7b2094d9abc0>"
            ]
          },
          "metadata": {},
          "execution_count": 10
        }
      ]
    },
    {
      "cell_type": "markdown",
      "source": [
        "## Creating object without error"
      ],
      "metadata": {
        "id": "d4ECnBXvaL-W"
      }
    },
    {
      "cell_type": "code",
      "source": [
        "class Cat:\n",
        "  def speak(self): ## self is c1 which is passed as the first argument as c1 is performing this method\n",
        "    print (\"Meow Meow\")"
      ],
      "metadata": {
        "id": "3uxkNpolaQ9J"
      },
      "execution_count": 32,
      "outputs": []
    },
    {
      "cell_type": "code",
      "source": [
        "c1 = Cat()"
      ],
      "metadata": {
        "id": "__cOQolaabDT"
      },
      "execution_count": 34,
      "outputs": []
    },
    {
      "cell_type": "code",
      "source": [
        "c1.speak()"
      ],
      "metadata": {
        "id": "onhCytYDawx6",
        "outputId": "ac8b0994-74a5-4f34-b602-915425fee190",
        "colab": {
          "base_uri": "https://localhost:8080/"
        }
      },
      "execution_count": 35,
      "outputs": [
        {
          "output_type": "stream",
          "name": "stdout",
          "text": [
            "Meow Meow\n"
          ]
        }
      ]
    },
    {
      "cell_type": "markdown",
      "source": [
        "## DUNDERS"
      ],
      "metadata": {
        "id": "TKv0f6NQfxhA"
      }
    },
    {
      "cell_type": "code",
      "source": [
        "class Dog:\n",
        "  def __init__(self):\n",
        "    print(\"Created a Dog Object\")"
      ],
      "metadata": {
        "id": "cNgS1S76fy5s"
      },
      "execution_count": 39,
      "outputs": []
    },
    {
      "cell_type": "code",
      "source": [
        "d1 = Dog()"
      ],
      "metadata": {
        "id": "uzLY2whnf-G7",
        "outputId": "2231ae9c-44be-4924-a657-371c0cd9723d",
        "colab": {
          "base_uri": "https://localhost:8080/"
        }
      },
      "execution_count": 40,
      "outputs": [
        {
          "output_type": "stream",
          "name": "stdout",
          "text": [
            "Created a Dog Object\n"
          ]
        }
      ]
    },
    {
      "cell_type": "markdown",
      "source": [
        "HW https://docs.python.org/3/reference/datamodel.html#basic-customization -- check this"
      ],
      "metadata": {
        "id": "1WUgEkHphE3j"
      }
    }
  ]
}