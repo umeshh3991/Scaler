{
  "nbformat": 4,
  "nbformat_minor": 0,
  "metadata": {
    "colab": {
      "provenance": [],
      "authorship_tag": "ABX9TyPm43oiXP5/s6kTORiaOzMM",
      "include_colab_link": true
    },
    "kernelspec": {
      "name": "python3",
      "display_name": "Python 3"
    },
    "language_info": {
      "name": "python"
    }
  },
  "cells": [
    {
      "cell_type": "markdown",
      "metadata": {
        "id": "view-in-github",
        "colab_type": "text"
      },
      "source": [
        "<a href=\"https://colab.research.google.com/github/umeshh3991/Scaler/blob/Module-4/Mod_4_Lec_1_OOP.ipynb\" target=\"_parent\"><img src=\"https://colab.research.google.com/assets/colab-badge.svg\" alt=\"Open In Colab\"/></a>"
      ]
    },
    {
      "cell_type": "code",
      "execution_count": null,
      "metadata": {
        "id": "OUzpWvaDM1iR"
      },
      "outputs": [],
      "source": [
        "a = [5, 3, 4, 2, 1]"
      ]
    },
    {
      "cell_type": "code",
      "source": [
        "a.sort() # Object Oriented approach"
      ],
      "metadata": {
        "id": "_vWeLHSRNHol"
      },
      "execution_count": null,
      "outputs": []
    },
    {
      "cell_type": "code",
      "source": [
        "a"
      ],
      "metadata": {
        "id": "HCN2bHp6NN4P",
        "outputId": "31ce29ec-8dae-4576-8575-9a3292e2449e",
        "colab": {
          "base_uri": "https://localhost:8080/"
        }
      },
      "execution_count": null,
      "outputs": [
        {
          "output_type": "execute_result",
          "data": {
            "text/plain": [
              "[1, 2, 3, 4, 5]"
            ]
          },
          "metadata": {},
          "execution_count": 3
        }
      ]
    },
    {
      "cell_type": "code",
      "source": [
        "b = [5, 3, 4, 2, 1]"
      ],
      "metadata": {
        "id": "1nUylv9qNR36"
      },
      "execution_count": null,
      "outputs": []
    },
    {
      "cell_type": "code",
      "source": [
        "sorted(b) # Functional approach"
      ],
      "metadata": {
        "id": "62N8e0viNSC6",
        "outputId": "82b4e145-5fad-40ed-c99b-b3979fe765ed",
        "colab": {
          "base_uri": "https://localhost:8080/"
        }
      },
      "execution_count": null,
      "outputs": [
        {
          "output_type": "execute_result",
          "data": {
            "text/plain": [
              "[1, 2, 3, 4, 5]"
            ]
          },
          "metadata": {},
          "execution_count": 6
        }
      ]
    },
    {
      "cell_type": "markdown",
      "source": [
        "## CREATE AN OBJECT"
      ],
      "metadata": {
        "id": "kS2tiqaRWmJw"
      }
    },
    {
      "cell_type": "code",
      "source": [
        "class Dog:\n",
        "  def speak():    ## Method or behaviour of class\n",
        "    print (\"Bark Bark\")"
      ],
      "metadata": {
        "id": "TR0_0FmZWo3O"
      },
      "execution_count": null,
      "outputs": []
    },
    {
      "cell_type": "code",
      "source": [
        "d1 = Dog() # Creating object of a class\n",
        "d1.speak() # Method of Object d1"
      ],
      "metadata": {
        "id": "d_looPmhNT6h",
        "outputId": "c43c5a70-853e-4a0e-b8b8-893037c2c72e",
        "colab": {
          "base_uri": "https://localhost:8080/",
          "height": 158
        }
      },
      "execution_count": null,
      "outputs": [
        {
          "output_type": "error",
          "ename": "TypeError",
          "evalue": "Dog.speak() takes 0 positional arguments but 1 was given",
          "traceback": [
            "\u001b[0;31m---------------------------------------------------------------------------\u001b[0m",
            "\u001b[0;31mTypeError\u001b[0m                                 Traceback (most recent call last)",
            "\u001b[0;32m<ipython-input-13-a3faa5a130a1>\u001b[0m in \u001b[0;36m<cell line: 2>\u001b[0;34m()\u001b[0m\n\u001b[1;32m      1\u001b[0m \u001b[0md1\u001b[0m \u001b[0;34m=\u001b[0m \u001b[0mDog\u001b[0m\u001b[0;34m(\u001b[0m\u001b[0;34m)\u001b[0m \u001b[0;31m# Creating object of a class\u001b[0m\u001b[0;34m\u001b[0m\u001b[0;34m\u001b[0m\u001b[0m\n\u001b[0;32m----> 2\u001b[0;31m \u001b[0md1\u001b[0m\u001b[0;34m.\u001b[0m\u001b[0mspeak\u001b[0m\u001b[0;34m(\u001b[0m\u001b[0;34m)\u001b[0m\u001b[0;34m\u001b[0m\u001b[0;34m\u001b[0m\u001b[0m\n\u001b[0m",
            "\u001b[0;31mTypeError\u001b[0m: Dog.speak() takes 0 positional arguments but 1 was given"
          ]
        }
      ]
    },
    {
      "cell_type": "code",
      "source": [
        "d1"
      ],
      "metadata": {
        "id": "fKy9USTgXM-e",
        "outputId": "ffb21bd0-5b2a-4033-8f86-9e7669bce8d2",
        "colab": {
          "base_uri": "https://localhost:8080/"
        }
      },
      "execution_count": null,
      "outputs": [
        {
          "output_type": "execute_result",
          "data": {
            "text/plain": [
              "<__main__.Dog at 0x7b2094d9abc0>"
            ]
          },
          "metadata": {},
          "execution_count": 10
        }
      ]
    },
    {
      "cell_type": "markdown",
      "source": [
        "## Creating object without error"
      ],
      "metadata": {
        "id": "d4ECnBXvaL-W"
      }
    },
    {
      "cell_type": "code",
      "source": [
        "class Cat:\n",
        "  def speak(self): ## self is c1 which is passed as the first argument as c1 is performing this method\n",
        "    print (\"Meow Meow\")"
      ],
      "metadata": {
        "id": "3uxkNpolaQ9J"
      },
      "execution_count": null,
      "outputs": []
    },
    {
      "cell_type": "code",
      "source": [
        "c1 = Cat()"
      ],
      "metadata": {
        "id": "__cOQolaabDT"
      },
      "execution_count": null,
      "outputs": []
    },
    {
      "cell_type": "code",
      "source": [
        "c1.speak()"
      ],
      "metadata": {
        "id": "onhCytYDawx6",
        "outputId": "ac8b0994-74a5-4f34-b602-915425fee190",
        "colab": {
          "base_uri": "https://localhost:8080/"
        }
      },
      "execution_count": null,
      "outputs": [
        {
          "output_type": "stream",
          "name": "stdout",
          "text": [
            "Meow Meow\n"
          ]
        }
      ]
    },
    {
      "cell_type": "markdown",
      "source": [
        "## DUNDERS"
      ],
      "metadata": {
        "id": "TKv0f6NQfxhA"
      }
    },
    {
      "cell_type": "code",
      "source": [
        "class Dog:\n",
        "  def __init__(self):\n",
        "    print(\"Created a Dog Object\")"
      ],
      "metadata": {
        "id": "cNgS1S76fy5s"
      },
      "execution_count": null,
      "outputs": []
    },
    {
      "cell_type": "code",
      "source": [
        "d1 = Dog()"
      ],
      "metadata": {
        "id": "uzLY2whnf-G7",
        "outputId": "2231ae9c-44be-4924-a657-371c0cd9723d",
        "colab": {
          "base_uri": "https://localhost:8080/"
        }
      },
      "execution_count": null,
      "outputs": [
        {
          "output_type": "stream",
          "name": "stdout",
          "text": [
            "Created a Dog Object\n"
          ]
        }
      ]
    },
    {
      "cell_type": "markdown",
      "source": [
        "HW https://docs.python.org/3/reference/datamodel.html#basic-customization -- check this"
      ],
      "metadata": {
        "id": "1WUgEkHphE3j"
      }
    },
    {
      "cell_type": "markdown",
      "source": [
        "Q. WAP to return a list with square of even numbers using class"
      ],
      "metadata": {
        "id": "hXZsCIpmPtZc"
      }
    },
    {
      "cell_type": "code",
      "source": [
        "a = [1, 2, 3, 4]"
      ],
      "metadata": {
        "id": "WAg85cyLP1fF"
      },
      "execution_count": null,
      "outputs": []
    },
    {
      "cell_type": "markdown",
      "source": [
        "In Below code we don't know how even number filtered out and we got square"
      ],
      "metadata": {
        "id": "qmAObTPGTYpZ"
      }
    },
    {
      "cell_type": "code",
      "source": [
        "def even_square(arr):\n",
        "  result = []\n",
        "  for i in arr:\n",
        "    if i % 2 == 0:\n",
        "      result.append(i ** 2)\n",
        "  return result\n",
        "\n",
        "even_square(a) # Highly Abstracted"
      ],
      "metadata": {
        "id": "NWXOtEZ-P6mA",
        "outputId": "2efe5d68-4cf4-4bd6-b3c9-23a0a1152a13",
        "colab": {
          "base_uri": "https://localhost:8080/"
        }
      },
      "execution_count": null,
      "outputs": [
        {
          "output_type": "execute_result",
          "data": {
            "text/plain": [
              "[4, 16]"
            ]
          },
          "metadata": {},
          "execution_count": 7
        }
      ]
    },
    {
      "cell_type": "markdown",
      "source": [
        "In Below code we know how even number filtered out and we got square"
      ],
      "metadata": {
        "id": "iUzlnDvYW2Vj"
      }
    },
    {
      "cell_type": "code",
      "source": [
        "def get_even_numbers(arr):\n",
        "  result = []\n",
        "  for i in arr:\n",
        "    if (i % 2 == 0):\n",
        "      result.append(i)\n",
        "  return result\n",
        "\n",
        "def square_even(arr):\n",
        "  result_even = []\n",
        "  for i in arr:\n",
        "    result_even.append(i ** 2)\n",
        "  return result_even\n",
        "\n",
        "square_even(get_even_numbers(a)) # Low abstract"
      ],
      "metadata": {
        "id": "LuPmndM5SUKF",
        "outputId": "404d76f9-58d2-484f-99e8-217b76897995",
        "colab": {
          "base_uri": "https://localhost:8080/"
        }
      },
      "execution_count": null,
      "outputs": [
        {
          "output_type": "execute_result",
          "data": {
            "text/plain": [
              "[4, 16]"
            ]
          },
          "metadata": {},
          "execution_count": 17
        }
      ]
    },
    {
      "cell_type": "markdown",
      "source": [
        "## Encapsulation"
      ],
      "metadata": {
        "id": "M0RkcTRlWuhx"
      }
    },
    {
      "cell_type": "code",
      "source": [
        "names = [\"Umesh\",\"Rajiv\",\"Riya\",\"Gaurav\"] # List different so very difficult to maintain\n",
        "marks = [89, 99, 23, 45]\n",
        "\n",
        "names.index(\"Rajiv\")"
      ],
      "metadata": {
        "colab": {
          "base_uri": "https://localhost:8080/"
        },
        "id": "TyoaGdquWqCa",
        "outputId": "18d69415-321a-4c60-ca10-23eaf0acb124"
      },
      "execution_count": 1,
      "outputs": [
        {
          "output_type": "execute_result",
          "data": {
            "text/plain": [
              "1"
            ]
          },
          "metadata": {},
          "execution_count": 1
        }
      ]
    },
    {
      "cell_type": "code",
      "source": [
        "marks[1]"
      ],
      "metadata": {
        "colab": {
          "base_uri": "https://localhost:8080/"
        },
        "id": "gbkFkrvzXFsU",
        "outputId": "70be7828-0b71-4b55-a1e5-57354bab6113"
      },
      "execution_count": 2,
      "outputs": [
        {
          "output_type": "execute_result",
          "data": {
            "text/plain": [
              "99"
            ]
          },
          "metadata": {},
          "execution_count": 2
        }
      ]
    },
    {
      "cell_type": "code",
      "source": [
        "students = [\n",
        "          {\"name\" : \"Umesh\", \"marks\" : 89},\n",
        "          {\"name\" : \"Rajiv\", \"marks\" : 99},\n",
        "          {\"name\" : \"Riya\", \"marks\" : 23},\n",
        "          {\"name\" : \"Gaurav\", \"marks\" : 45}\n",
        "          ]                                     # Encapsulated the data in a proper way"
      ],
      "metadata": {
        "id": "1LHCDHrHXX9L"
      },
      "execution_count": 4,
      "outputs": []
    },
    {
      "cell_type": "code",
      "source": [
        "type(students)"
      ],
      "metadata": {
        "colab": {
          "base_uri": "https://localhost:8080/"
        },
        "id": "nsbbmgmbYxkE",
        "outputId": "f93eeb4d-a187-47dc-9035-20cda69980d0"
      },
      "execution_count": 5,
      "outputs": [
        {
          "output_type": "execute_result",
          "data": {
            "text/plain": [
              "list"
            ]
          },
          "metadata": {},
          "execution_count": 5
        }
      ]
    },
    {
      "cell_type": "code",
      "source": [
        "class Member:\n",
        "  name = \"\""
      ],
      "metadata": {
        "id": "0GPtSKp_aDCr"
      },
      "execution_count": 115,
      "outputs": []
    },
    {
      "cell_type": "code",
      "source": [
        "m1 = Member\n",
        "m1.name = \"Umesh\" # this code will work without self as method is not present in class\n",
        "print(m1.name)"
      ],
      "metadata": {
        "colab": {
          "base_uri": "https://localhost:8080/"
        },
        "id": "ynTPa4vgaTma",
        "outputId": "838cc025-abd9-45f1-a67d-73172145a288"
      },
      "execution_count": 116,
      "outputs": [
        {
          "output_type": "stream",
          "name": "stdout",
          "text": [
            "Umesh\n"
          ]
        }
      ]
    },
    {
      "cell_type": "code",
      "source": [
        "m2 = Member\n",
        "print(m2.name)"
      ],
      "metadata": {
        "colab": {
          "base_uri": "https://localhost:8080/"
        },
        "id": "e9qfi0Qeavts",
        "outputId": "cdd0e4ee-7f4f-4dfd-a7e5-d801dab09736"
      },
      "execution_count": 119,
      "outputs": [
        {
          "output_type": "stream",
          "name": "stdout",
          "text": [
            "Jatin\n"
          ]
        }
      ]
    },
    {
      "cell_type": "code",
      "source": [
        "m2.name = \"Jatin\"\n",
        "print(m2.name)"
      ],
      "metadata": {
        "colab": {
          "base_uri": "https://localhost:8080/"
        },
        "id": "_Rr5yioubJg2",
        "outputId": "5bd7bf5b-181b-4251-80ab-0a5315f7b282"
      },
      "execution_count": 118,
      "outputs": [
        {
          "output_type": "stream",
          "name": "stdout",
          "text": [
            "Jatin\n"
          ]
        }
      ]
    },
    {
      "cell_type": "markdown",
      "source": [
        "Another example"
      ],
      "metadata": {
        "id": "njC_yxZ40CbZ"
      }
    },
    {
      "cell_type": "code",
      "source": [
        "class Member:\n",
        "  name = \"Jatin\""
      ],
      "metadata": {
        "id": "ziHAUJl60KS0"
      },
      "execution_count": 123,
      "outputs": []
    },
    {
      "cell_type": "code",
      "source": [
        "m1 = Member\n",
        "m2 = Member\n",
        "m1.name = \"Umesh\" # this code will work without self as method is not present in class\n",
        "print(m1.name, m2.name)"
      ],
      "metadata": {
        "colab": {
          "base_uri": "https://localhost:8080/"
        },
        "id": "QfrHK8n50GSA",
        "outputId": "4f0775d1-50be-4a55-fd2a-ffc1a04f2aa4"
      },
      "execution_count": 121,
      "outputs": [
        {
          "output_type": "stream",
          "name": "stdout",
          "text": [
            "Umesh Umesh\n"
          ]
        }
      ]
    },
    {
      "cell_type": "code",
      "source": [
        "m1 = Member()\n",
        "m2 = Member()\n",
        "m1.name = \"Umesh\" # this code will work without self as method is not present in class\n",
        "print(m1.name, m2.name)"
      ],
      "metadata": {
        "colab": {
          "base_uri": "https://localhost:8080/"
        },
        "id": "XWW96x6H00ii",
        "outputId": "c1ed8242-523a-4d97-d15d-4f425c94bbb5"
      },
      "execution_count": 124,
      "outputs": [
        {
          "output_type": "stream",
          "name": "stdout",
          "text": [
            "Umesh Jatin\n"
          ]
        }
      ]
    },
    {
      "cell_type": "markdown",
      "source": [
        "## __INIT__ method"
      ],
      "metadata": {
        "id": "XlxgWIBKcuoa"
      }
    },
    {
      "cell_type": "code",
      "source": [
        "class Member:\n",
        "  def __init__(self):\n",
        "    print(\"Initialized\")\n",
        "    name = \"abc\""
      ],
      "metadata": {
        "id": "94D1hWpfcecc"
      },
      "execution_count": 47,
      "outputs": []
    },
    {
      "cell_type": "code",
      "source": [
        "m1 = Member()\n",
        "print(m1.name)"
      ],
      "metadata": {
        "colab": {
          "base_uri": "https://localhost:8080/",
          "height": 176
        },
        "id": "0TUgwUoqdAbA",
        "outputId": "1450f5a7-54d3-42e8-b4dd-4a8bbf5b581a"
      },
      "execution_count": 48,
      "outputs": [
        {
          "output_type": "stream",
          "name": "stdout",
          "text": [
            "Initialized\n"
          ]
        },
        {
          "output_type": "error",
          "ename": "AttributeError",
          "evalue": "'Member' object has no attribute 'name'",
          "traceback": [
            "\u001b[0;31m---------------------------------------------------------------------------\u001b[0m",
            "\u001b[0;31mAttributeError\u001b[0m                            Traceback (most recent call last)",
            "\u001b[0;32m<ipython-input-48-9f6ea2c8808e>\u001b[0m in \u001b[0;36m<cell line: 2>\u001b[0;34m()\u001b[0m\n\u001b[1;32m      1\u001b[0m \u001b[0mm1\u001b[0m \u001b[0;34m=\u001b[0m \u001b[0mMember\u001b[0m\u001b[0;34m(\u001b[0m\u001b[0;34m)\u001b[0m\u001b[0;34m\u001b[0m\u001b[0;34m\u001b[0m\u001b[0m\n\u001b[0;32m----> 2\u001b[0;31m \u001b[0mprint\u001b[0m\u001b[0;34m(\u001b[0m\u001b[0mm1\u001b[0m\u001b[0;34m.\u001b[0m\u001b[0mname\u001b[0m\u001b[0;34m)\u001b[0m\u001b[0;34m\u001b[0m\u001b[0;34m\u001b[0m\u001b[0m\n\u001b[0m",
            "\u001b[0;31mAttributeError\u001b[0m: 'Member' object has no attribute 'name'"
          ]
        }
      ]
    },
    {
      "cell_type": "code",
      "source": [
        "class Member:\n",
        "  def __init__(self):\n",
        "    print(\"Initialized\")\n",
        "    self.name = \"abc\""
      ],
      "metadata": {
        "id": "1t3f2e7FgNMm"
      },
      "execution_count": 49,
      "outputs": []
    },
    {
      "cell_type": "code",
      "source": [
        "m1 = Member()\n",
        "print(m1.name)"
      ],
      "metadata": {
        "colab": {
          "base_uri": "https://localhost:8080/"
        },
        "id": "1uruGsgHgRah",
        "outputId": "5480ff91-6d6a-4969-e9bd-e9e5eec4f19d"
      },
      "execution_count": 50,
      "outputs": [
        {
          "output_type": "stream",
          "name": "stdout",
          "text": [
            "Initialized\n",
            "abc\n"
          ]
        }
      ]
    },
    {
      "cell_type": "markdown",
      "source": [
        "## Adding extra attributes in INIT() method"
      ],
      "metadata": {
        "id": "6MnIrhOEgtf4"
      }
    },
    {
      "cell_type": "code",
      "source": [
        "class Member:\n",
        "  def __init__(self, name): # arguments, here name is argument\n",
        "    print(\"Initialized\")\n",
        "    self.name = name # self.name, here name is attribute"
      ],
      "metadata": {
        "id": "Amqb5XmWgx0C"
      },
      "execution_count": 54,
      "outputs": []
    },
    {
      "cell_type": "code",
      "source": [
        "m1 = Member(\"Rakesh\")\n",
        "print(m1.name)"
      ],
      "metadata": {
        "colab": {
          "base_uri": "https://localhost:8080/"
        },
        "id": "q0RqeR-2hAcS",
        "outputId": "6aebf74d-bff9-482a-ee5a-6c2bc3225f54"
      },
      "execution_count": 55,
      "outputs": [
        {
          "output_type": "stream",
          "name": "stdout",
          "text": [
            "Initialized\n",
            "Rakesh\n"
          ]
        }
      ]
    },
    {
      "cell_type": "code",
      "source": [
        "m2 = Member()"
      ],
      "metadata": {
        "colab": {
          "base_uri": "https://localhost:8080/",
          "height": 141
        },
        "id": "8ngtzrAQhWZY",
        "outputId": "101d7d54-aa19-40e1-cb66-d4225edd91a5"
      },
      "execution_count": 56,
      "outputs": [
        {
          "output_type": "error",
          "ename": "TypeError",
          "evalue": "Member.__init__() missing 1 required positional argument: 'name'",
          "traceback": [
            "\u001b[0;31m---------------------------------------------------------------------------\u001b[0m",
            "\u001b[0;31mTypeError\u001b[0m                                 Traceback (most recent call last)",
            "\u001b[0;32m<ipython-input-56-8aa03e3ef2f5>\u001b[0m in \u001b[0;36m<cell line: 1>\u001b[0;34m()\u001b[0m\n\u001b[0;32m----> 1\u001b[0;31m \u001b[0mm2\u001b[0m \u001b[0;34m=\u001b[0m \u001b[0mMember\u001b[0m\u001b[0;34m(\u001b[0m\u001b[0;34m)\u001b[0m\u001b[0;34m\u001b[0m\u001b[0;34m\u001b[0m\u001b[0m\n\u001b[0m",
            "\u001b[0;31mTypeError\u001b[0m: Member.__init__() missing 1 required positional argument: 'name'"
          ]
        }
      ]
    },
    {
      "cell_type": "markdown",
      "source": [
        "## Next concept - INHERITENCE and POLYMORPHISM; METHOD OVERRIDING"
      ],
      "metadata": {
        "id": "P0eSv6GNiyOg"
      }
    },
    {
      "cell_type": "code",
      "source": [
        "class Member:\n",
        "  def __init__(self, given_name):\n",
        "    self.name = given_name\n",
        "\n",
        "  def intro(self):\n",
        "    print(\"Hello my name is\",self.name)\n",
        "\n",
        "class Teacher(Member):\n",
        "  def __init__(self, given_name, given_subject):\n",
        "    self.name = given_name\n",
        "    self.subject = given_subject\n",
        "\n",
        "  def intro(self):\n",
        "    print(\"I am your teacher don't ask me my Intro\")"
      ],
      "metadata": {
        "id": "HHO2JmH2i1pY"
      },
      "execution_count": 84,
      "outputs": []
    },
    {
      "cell_type": "code",
      "source": [
        "m1 = Member\n",
        "m1.intro(\"Umesh\")"
      ],
      "metadata": {
        "colab": {
          "base_uri": "https://localhost:8080/"
        },
        "id": "CT4JMxjXmt3_",
        "outputId": "0a3a2c21-b0e1-43fb-fa91-3d9e909f40ad"
      },
      "execution_count": 66,
      "outputs": [
        {
          "output_type": "stream",
          "name": "stdout",
          "text": [
            "Hello my name is Umesh\n"
          ]
        }
      ]
    },
    {
      "cell_type": "code",
      "source": [
        "t1 = Teacher(\"Umesh\", \"Python\")\n",
        "print(t1.name)\n",
        "t1.intro()"
      ],
      "metadata": {
        "colab": {
          "base_uri": "https://localhost:8080/"
        },
        "id": "E9tqz68mnkQ1",
        "outputId": "2e95b518-d4c7-4122-903e-25b814bf09c8"
      },
      "execution_count": 85,
      "outputs": [
        {
          "output_type": "stream",
          "name": "stdout",
          "text": [
            "Umesh\n",
            "I am your teacher don't ask me my Intro\n"
          ]
        }
      ]
    },
    {
      "cell_type": "markdown",
      "source": [
        "- In above eg we are creating init() again and again, so what if we want member class to handle the name part and other attributes can be taken care in sub class like teacher and student. Let us get introduce to SUPER"
      ],
      "metadata": {
        "id": "GW2qdrx-uNUY"
      }
    },
    {
      "cell_type": "code",
      "source": [
        "class Member:\n",
        "  def __init__(self, given_name):\n",
        "    self.name = \"Sir/Mam \" + given_name\n",
        "\n",
        "  def intro(self):\n",
        "    print(\"Hello my name is\",self.name)\n",
        "\n",
        "class Teacher(Member):\n",
        "  def __init__(self, given_name, given_subject):\n",
        "    super().__init__(given_name)\n",
        "    #self.name = given_name\n",
        "    self.subject = given_subject\n",
        "\n",
        "class Student(Member):\n",
        "  def __init__(self, given_name, given_course):\n",
        "    super().__init__(given_name)\n",
        "    #self.name = given_name\n",
        "    self.course = given_course"
      ],
      "metadata": {
        "id": "x6n7IyzbujsZ"
      },
      "execution_count": 90,
      "outputs": []
    },
    {
      "cell_type": "code",
      "source": [
        "s1 = Student(\"Jayesh\", \"Advance Mechanics\")\n",
        "print(s1.name)\n",
        "s1.course"
      ],
      "metadata": {
        "colab": {
          "base_uri": "https://localhost:8080/",
          "height": 53
        },
        "id": "IhY-wgkbv59_",
        "outputId": "dae29f12-b2a8-4754-c075-4d1611b70a1a"
      },
      "execution_count": 93,
      "outputs": [
        {
          "output_type": "stream",
          "name": "stdout",
          "text": [
            "Sir/Mam Jayesh\n"
          ]
        },
        {
          "output_type": "execute_result",
          "data": {
            "text/plain": [
              "'Advance Mechanics'"
            ],
            "application/vnd.google.colaboratory.intrinsic+json": {
              "type": "string"
            }
          },
          "metadata": {},
          "execution_count": 93
        }
      ]
    }
  ]
}