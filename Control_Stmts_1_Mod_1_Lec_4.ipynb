{
  "nbformat": 4,
  "nbformat_minor": 0,
  "metadata": {
    "colab": {
      "provenance": [],
      "authorship_tag": "ABX9TyNOJsEwF/0FJrSirGN0F61N",
      "include_colab_link": true
    },
    "kernelspec": {
      "name": "python3",
      "display_name": "Python 3"
    },
    "language_info": {
      "name": "python"
    }
  },
  "cells": [
    {
      "cell_type": "markdown",
      "metadata": {
        "id": "view-in-github",
        "colab_type": "text"
      },
      "source": [
        "<a href=\"https://colab.research.google.com/github/umeshh3991/Scaler/blob/main/Control_Stmts_1_Mod_1_Lec_4.ipynb\" target=\"_parent\"><img src=\"https://colab.research.google.com/assets/colab-badge.svg\" alt=\"Open In Colab\"/></a>"
      ]
    },
    {
      "cell_type": "markdown",
      "source": [
        "## Decision Statements"
      ],
      "metadata": {
        "id": "7nLLOKM0NAjy"
      }
    },
    {
      "cell_type": "markdown",
      "source": [
        "- IF Statement"
      ],
      "metadata": {
        "id": "rToN4uKRNFhs"
      }
    },
    {
      "cell_type": "code",
      "source": [
        "number = 3\n",
        "\n",
        "if (number % 2 == 0):\n",
        "  print(\"The number is even\")\n",
        "\n",
        "print(\"End of Program\")"
      ],
      "metadata": {
        "id": "CTyVM_2SNMVT",
        "outputId": "9185453c-0920-447f-f97a-6cc99346c055",
        "colab": {
          "base_uri": "https://localhost:8080/"
        }
      },
      "execution_count": null,
      "outputs": [
        {
          "output_type": "stream",
          "name": "stdout",
          "text": [
            "End of Program\n"
          ]
        }
      ]
    },
    {
      "cell_type": "code",
      "source": [
        "weight = 0\n",
        "\n",
        "if (weight < 1):\n",
        "  weight = 2\n",
        "\n",
        "if (weight == 0):\n",
        "  weight = 3\n",
        "\n",
        "if (weight >= 2):\n",
        "  weight = 1\n",
        "\n",
        "print(weight)"
      ],
      "metadata": {
        "id": "xFAV55XfQUKD",
        "outputId": "02ec0038-eeeb-4fb9-e44f-d27842ba4fa5",
        "colab": {
          "base_uri": "https://localhost:8080/"
        }
      },
      "execution_count": null,
      "outputs": [
        {
          "output_type": "stream",
          "name": "stdout",
          "text": [
            "1\n"
          ]
        }
      ]
    },
    {
      "cell_type": "markdown",
      "source": [
        "- Find the Grade of the student using percentage\n",
        "  - P >= 85      then Grade A\n",
        "  - 70 <= P < 85 then Grade B\n",
        "  - 55 <= P < 70 then Grade C\n",
        "  - P < 55       then Grade D"
      ],
      "metadata": {
        "id": "O9U4LyipTs8e"
      }
    },
    {
      "cell_type": "code",
      "source": [
        "Percentage = float(input())\n",
        "\n",
        "if(Percentage >= 85):\n",
        "  print(\"Grade A\")\n",
        "\n",
        "elif (Percentage >= 70):\n",
        "  print(\"Grade B\")\n",
        "\n",
        "elif(Percentage >= 55):\n",
        "  print(\"Grade C\")\n",
        "\n",
        "else:\n",
        "  print(\"Grade D\")"
      ],
      "metadata": {
        "id": "Cn43qoQjTrLY",
        "outputId": "dac7dc3f-ccdc-4c7d-bbb4-c3b0332b817a",
        "colab": {
          "base_uri": "https://localhost:8080/"
        }
      },
      "execution_count": null,
      "outputs": [
        {
          "output_type": "stream",
          "name": "stdout",
          "text": [
            "90\n",
            "Grade A\n"
          ]
        }
      ]
    },
    {
      "cell_type": "markdown",
      "source": [
        "## PROBLEM SOLVING"
      ],
      "metadata": {
        "id": "gHTB_IKzRjyf"
      }
    },
    {
      "cell_type": "markdown",
      "source": [
        "- A bartender is trying to determine whether he should serve drinks to someone. He only serves drinks to people 18 and older and when he's not on break. Given the person's age, and whether break time is in session"
      ],
      "metadata": {
        "id": "bjSsanqmWaBa"
      }
    },
    {
      "cell_type": "code",
      "source": [
        "on_break =  input(\"Is bartender on break ? \") == \"true\"\n",
        "\n",
        "age = int(input(\"Enter the age of person \"))\n",
        "\n",
        "if (on_break == False and age >= 18):\n",
        "  print(\"Serve the drink and let him enjoy\")\n",
        "else:\n",
        "  print(\"Check Mocktail menu\")"
      ],
      "metadata": {
        "id": "CIgEusFARnV5",
        "outputId": "f9256974-fb0b-4812-fcf4-5e007b00df2e",
        "colab": {
          "base_uri": "https://localhost:8080/"
        }
      },
      "execution_count": 88,
      "outputs": [
        {
          "output_type": "stream",
          "name": "stdout",
          "text": [
            "Is bartender on break ? false\n",
            "Enter the age of person 12\n",
            "Check Mocktail menu\n"
          ]
        }
      ]
    },
    {
      "cell_type": "markdown",
      "source": [
        "- Let's say you are recording the score for a certain course. The total is 100 with 50 points for theoretical work and 50 for practicals. You want to display an error message or warning if the score exceeds 100 otherwise print the total score"
      ],
      "metadata": {
        "id": "VaihXs6irHc5"
      }
    },
    {
      "cell_type": "code",
      "source": [
        "theor_score = int(input(\"Enter theory marks out of 50 : \"))\n",
        "prac_score = int(input(\"Enter practical marks out of 50 : \"))\n",
        "\n",
        "total_marks = theor_score + prac_score\n",
        "\n",
        "if (theor_score <= 50 and prac_score <= 50):\n",
        "  print(total_marks)\n",
        "else:\n",
        "  print(\"Score is invalid.\")"
      ],
      "metadata": {
        "id": "Cc4q9DTUrb6j",
        "outputId": "12dfdccd-1bbc-44fc-e7b6-7af6d104492a",
        "colab": {
          "base_uri": "https://localhost:8080/"
        }
      },
      "execution_count": 57,
      "outputs": [
        {
          "output_type": "stream",
          "name": "stdout",
          "text": [
            "Enter theory marks out of 50 : 56\n",
            "Enter practical marks out of 50 : 23\n",
            "Score is invalid.\n"
          ]
        }
      ]
    },
    {
      "cell_type": "markdown",
      "source": [
        "- Given the two strings (P1 P2 - which represents two player) as input and prints the string stating the winner in game of Rock, paper, scissors.\n",
        "Each input will contain single string: \"Rock\" \"paper\" \"scissors\". Return the winner according to the following rules:\n",
        "\n",
        "Rocks beats scissors\n",
        "\n",
        "Scissors beats paper\n",
        "\n",
        "Paper beats rock\n",
        "\n",
        "If P1 wins print the string \"The winner is P1\"\n",
        "\n",
        "If P2 wins print the string \"The winner is P2\"\n",
        "\n",
        "And if P1 and P2 are same print \"It's a draw\""
      ],
      "metadata": {
        "id": "qLRl32oI_yR1"
      }
    },
    {
      "cell_type": "code",
      "source": [
        "P1 = input(\"Enter Player 1 move : \")\n",
        "P2 = input(\"Enter Player 2 move : \")\n",
        "\n",
        "if (P1 == \"R\" and P2 == \"S\") or (P1 == \"S\" and P2 == \"P\") or (P1 == \"P\" and P2 == \"R\"):\n",
        "  print(\"P1 wins\")\n",
        "elif (P2 == \"R\" and P1 == \"S\") or (P2 == \"S\" and P1 == \"P\") or (P2 == \"P\" and P1 == \"R\"):\n",
        "  print(\"P2 wins\")\n",
        "elif(P1 == P2):\n",
        "  print(\"Its a Draw\")\n",
        "else:\n",
        "  print(\"Some player has typed value other than R, P or S\")"
      ],
      "metadata": {
        "id": "43mQm4YKA9cH",
        "outputId": "ed435de4-4caa-4f43-b0a0-1b051cf94025",
        "colab": {
          "base_uri": "https://localhost:8080/"
        }
      },
      "execution_count": 63,
      "outputs": [
        {
          "output_type": "stream",
          "name": "stdout",
          "text": [
            "Enter Player 1 move : R\n",
            "Enter Player 2 move : R\n",
            "Its a Draw\n"
          ]
        }
      ]
    },
    {
      "cell_type": "markdown",
      "source": [
        "- Given three numbers find the largest of them"
      ],
      "metadata": {
        "id": "vqpR0KPVG7cQ"
      }
    },
    {
      "cell_type": "code",
      "source": [
        "n1 = int(input(\"Enter the first number : \"))\n",
        "n2 = int(input(\"Enter the second number : \"))\n",
        "n3 = int(input(\"Enter the third number : \"))\n",
        "\n",
        "if (n1>n2 and n1>n3):\n",
        "  print(n1,\"is the largest number\")\n",
        "elif(n2>n3):\n",
        "  print(n2,\"is the largest number\")\n",
        "else:\n",
        "  print(n3,\"is the largest number\")"
      ],
      "metadata": {
        "id": "FCGBhvTVG_gj",
        "outputId": "70f18f1f-cb64-408a-feb0-89a101ffabed",
        "colab": {
          "base_uri": "https://localhost:8080/"
        }
      },
      "execution_count": 68,
      "outputs": [
        {
          "output_type": "stream",
          "name": "stdout",
          "text": [
            "Enter the first number : 69\n",
            "Enter the second number : 78\n",
            "Enter the third number : 78\n",
            "78 is the largest number\n"
          ]
        }
      ]
    },
    {
      "cell_type": "markdown",
      "source": [
        "- Write a program to find whether a year is leap year or not"
      ],
      "metadata": {
        "id": "NTc7CvZnJH9u"
      }
    },
    {
      "cell_type": "code",
      "source": [
        "year = int(input(\"Please enter the year : \"))\n",
        "\n",
        "if ((year % 4 == 0) and (year % 100 != 0) or (year % 400 == 0)):\n",
        "  print(year, \"is leap year\")\n",
        "else:\n",
        "  print(year, \"is not a leap year\")"
      ],
      "metadata": {
        "id": "SMMskediJR3a",
        "outputId": "d182112e-0769-4ce9-9aae-7783aa1c5b6b",
        "colab": {
          "base_uri": "https://localhost:8080/"
        }
      },
      "execution_count": 75,
      "outputs": [
        {
          "output_type": "stream",
          "name": "stdout",
          "text": [
            "Please enter the year : 2024\n",
            "2024 is leap year\n"
          ]
        }
      ]
    }
  ]
}