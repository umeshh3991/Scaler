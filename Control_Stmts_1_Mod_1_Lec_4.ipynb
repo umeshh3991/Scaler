{
  "nbformat": 4,
  "nbformat_minor": 0,
  "metadata": {
    "colab": {
      "provenance": [],
      "authorship_tag": "ABX9TyP1XSv9l/NqDPncM5eFgkIh",
      "include_colab_link": true
    },
    "kernelspec": {
      "name": "python3",
      "display_name": "Python 3"
    },
    "language_info": {
      "name": "python"
    }
  },
  "cells": [
    {
      "cell_type": "markdown",
      "metadata": {
        "id": "view-in-github",
        "colab_type": "text"
      },
      "source": [
        "<a href=\"https://colab.research.google.com/github/umeshh3991/Scaler/blob/main/Control_Stmts_1_Mod_1_Lec_4.ipynb\" target=\"_parent\"><img src=\"https://colab.research.google.com/assets/colab-badge.svg\" alt=\"Open In Colab\"/></a>"
      ]
    },
    {
      "cell_type": "markdown",
      "source": [
        "## Decision Statements"
      ],
      "metadata": {
        "id": "7nLLOKM0NAjy"
      }
    },
    {
      "cell_type": "markdown",
      "source": [
        "- IF Statement"
      ],
      "metadata": {
        "id": "rToN4uKRNFhs"
      }
    },
    {
      "cell_type": "code",
      "source": [
        "number = 3\n",
        "\n",
        "if (number % 2 == 0):\n",
        "  print(\"The number is even\")\n",
        "\n",
        "print(\"End of Program\")"
      ],
      "metadata": {
        "id": "CTyVM_2SNMVT",
        "outputId": "9185453c-0920-447f-f97a-6cc99346c055",
        "colab": {
          "base_uri": "https://localhost:8080/"
        }
      },
      "execution_count": 11,
      "outputs": [
        {
          "output_type": "stream",
          "name": "stdout",
          "text": [
            "End of Program\n"
          ]
        }
      ]
    },
    {
      "cell_type": "code",
      "source": [
        "weight = 0\n",
        "\n",
        "if (weight < 1):\n",
        "  weight = 2\n",
        "\n",
        "if (weight == 0):\n",
        "  weight = 3\n",
        "\n",
        "if (weight >= 2):\n",
        "  weight = 1\n",
        "\n",
        "print(weight)"
      ],
      "metadata": {
        "id": "xFAV55XfQUKD",
        "outputId": "02ec0038-eeeb-4fb9-e44f-d27842ba4fa5",
        "colab": {
          "base_uri": "https://localhost:8080/"
        }
      },
      "execution_count": 12,
      "outputs": [
        {
          "output_type": "stream",
          "name": "stdout",
          "text": [
            "1\n"
          ]
        }
      ]
    },
    {
      "cell_type": "markdown",
      "source": [
        "- Find the Grade of the student using percentage\n",
        "  - P >= 85      then Grade A\n",
        "  - 70 <= P < 85 then Grade B\n",
        "  - 55 <= P < 70 then Grade C\n",
        "  - P < 55       then Grade D"
      ],
      "metadata": {
        "id": "O9U4LyipTs8e"
      }
    },
    {
      "cell_type": "code",
      "source": [
        "Percentage = float(input())\n",
        "\n",
        "if(Percentage >= 85):\n",
        "  print(\"Grade A\")\n",
        "\n",
        "elif (Percentage >= 70):\n",
        "  print(\"Grade B\")\n",
        "\n",
        "elif(Percentage >= 55):\n",
        "  print(\"Grade C\")\n",
        "\n",
        "else:\n",
        "  print(\"Grade D\")"
      ],
      "metadata": {
        "id": "Cn43qoQjTrLY",
        "outputId": "dac7dc3f-ccdc-4c7d-bbb4-c3b0332b817a",
        "colab": {
          "base_uri": "https://localhost:8080/"
        }
      },
      "execution_count": 13,
      "outputs": [
        {
          "output_type": "stream",
          "name": "stdout",
          "text": [
            "90\n",
            "Grade A\n"
          ]
        }
      ]
    }
  ]
}