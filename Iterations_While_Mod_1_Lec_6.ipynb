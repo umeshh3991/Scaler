{
  "nbformat": 4,
  "nbformat_minor": 0,
  "metadata": {
    "colab": {
      "provenance": [],
      "authorship_tag": "ABX9TyMDrm7pbbBO3SGp5YY/kazV",
      "include_colab_link": true
    },
    "kernelspec": {
      "name": "python3",
      "display_name": "Python 3"
    },
    "language_info": {
      "name": "python"
    }
  },
  "cells": [
    {
      "cell_type": "markdown",
      "metadata": {
        "id": "view-in-github",
        "colab_type": "text"
      },
      "source": [
        "<a href=\"https://colab.research.google.com/github/umeshh3991/Scaler/blob/main/Iterations_While_Mod_1_Lec_6.ipynb\" target=\"_parent\"><img src=\"https://colab.research.google.com/assets/colab-badge.svg\" alt=\"Open In Colab\"/></a>"
      ]
    },
    {
      "cell_type": "markdown",
      "source": [
        "## Iterations"
      ],
      "metadata": {
        "id": "KnsxPd5RaHUC"
      }
    },
    {
      "cell_type": "markdown",
      "source": [
        "1. While"
      ],
      "metadata": {
        "id": "TKOAYx8fdZkT"
      }
    },
    {
      "cell_type": "markdown",
      "source": [
        "- Write a program to add number until N"
      ],
      "metadata": {
        "id": "HdUZwFDKdKhx"
      }
    },
    {
      "cell_type": "code",
      "source": [
        "N = int(input(\"Enter the number N : \"))\n",
        "i=1\n",
        "s=0\n",
        "\n",
        "while(i <= N):\n",
        "  s += i\n",
        "  i += 1\n",
        "\n",
        "print(s)\n",
        "\n"
      ],
      "metadata": {
        "id": "ZSKtNdC7aNuq",
        "outputId": "44fd9873-d078-4069-fd9a-faed427c9e88",
        "colab": {
          "base_uri": "https://localhost:8080/"
        }
      },
      "execution_count": 6,
      "outputs": [
        {
          "output_type": "stream",
          "name": "stdout",
          "text": [
            "Enter the number N : 4\n",
            "10\n"
          ]
        }
      ]
    },
    {
      "cell_type": "markdown",
      "source": [
        "- Find the sum of range [a,b]"
      ],
      "metadata": {
        "id": "WQYHQBTld_rI"
      }
    },
    {
      "cell_type": "code",
      "source": [
        "n1 = int(input(\"Enter the starting point : \"))\n",
        "n2 = int(input(\"Enter the ending point : \"))\n",
        "\n",
        "i = n1\n",
        "\n",
        "while(i < n2):\n",
        "  i += 1\n",
        "  n1 += i\n",
        "\n",
        "print(n1)"
      ],
      "metadata": {
        "id": "vmKWiHTIeD7y",
        "outputId": "8ded8484-bdc9-409a-ebc6-ff80d67fceda",
        "colab": {
          "base_uri": "https://localhost:8080/"
        }
      },
      "execution_count": 13,
      "outputs": [
        {
          "output_type": "stream",
          "name": "stdout",
          "text": [
            "Enter the starting point : 10\n",
            "Enter the ending point : 11\n",
            "21\n"
          ]
        }
      ]
    },
    {
      "cell_type": "markdown",
      "source": [
        "Few decremental while loops e.g\n"
      ],
      "metadata": {
        "id": "ud5_o2MDsMel"
      }
    },
    {
      "cell_type": "code",
      "source": [
        "i = 10\n",
        "\n",
        "while (i > 0):\n",
        "  print(i)\n",
        "  i -= 1"
      ],
      "metadata": {
        "id": "sXiEeV1psTZQ",
        "outputId": "8727f513-7f57-4c3c-c1b0-2fa4c092aab9",
        "colab": {
          "base_uri": "https://localhost:8080/"
        }
      },
      "execution_count": 16,
      "outputs": [
        {
          "output_type": "stream",
          "name": "stdout",
          "text": [
            "10\n",
            "9\n",
            "8\n",
            "7\n",
            "6\n",
            "5\n",
            "4\n",
            "3\n",
            "2\n",
            "1\n"
          ]
        }
      ]
    },
    {
      "cell_type": "code",
      "source": [
        "i = 10\n",
        "\n",
        "while(i > 0):\n",
        "  print(i)\n",
        "  i -= 2"
      ],
      "metadata": {
        "id": "1T_58qr2sxiK",
        "outputId": "3f021097-82fa-47fa-e207-6629be9b5c96",
        "colab": {
          "base_uri": "https://localhost:8080/"
        }
      },
      "execution_count": 18,
      "outputs": [
        {
          "output_type": "stream",
          "name": "stdout",
          "text": [
            "10\n",
            "8\n",
            "6\n",
            "4\n",
            "2\n"
          ]
        }
      ]
    },
    {
      "cell_type": "markdown",
      "source": [
        "- The code which will never stop"
      ],
      "metadata": {
        "id": "9XP_C6aUtv0j"
      }
    },
    {
      "cell_type": "code",
      "source": [
        "i = 0\n",
        "\n",
        "while True:\n",
        "  print(i)\n",
        "  i += 1"
      ],
      "metadata": {
        "id": "cEC8V_F5tzxA"
      },
      "execution_count": null,
      "outputs": []
    },
    {
      "cell_type": "markdown",
      "source": [
        "- The code will never execute"
      ],
      "metadata": {
        "id": "rgpB0AGnt7u5"
      }
    },
    {
      "cell_type": "code",
      "source": [
        "i = 0\n",
        "\n",
        "while False:\n",
        "  print(i)\n",
        "  i += 1"
      ],
      "metadata": {
        "id": "zU9Tg5bst-9N"
      },
      "execution_count": 19,
      "outputs": []
    },
    {
      "cell_type": "markdown",
      "source": [
        "2. Continue"
      ],
      "metadata": {
        "id": "IUOQL8UguPmu"
      }
    },
    {
      "cell_type": "markdown",
      "source": [
        "- Find the sum of all the even numbers in [a,b]. But this is a very bad example for continue statement"
      ],
      "metadata": {
        "id": "YuATgfA5y0Wf"
      }
    },
    {
      "cell_type": "code",
      "source": [
        "n1 = int(input(\"Enter the first number : \"))\n",
        "n2 = int(input(\"Enter the second number : \"))\n",
        "\n",
        "i = n1\n",
        "s = 0\n",
        "\n",
        "while(i <= n2):\n",
        "  if (i % 2 == 0):\n",
        "    s += i\n",
        "  i += 1\n",
        "\n",
        "print(s)"
      ],
      "metadata": {
        "id": "VJ3L_qfPuRSa",
        "outputId": "5f1f64fe-be16-40a6-d9b0-2f0da5d64e0c",
        "colab": {
          "base_uri": "https://localhost:8080/"
        }
      },
      "execution_count": 23,
      "outputs": [
        {
          "output_type": "stream",
          "name": "stdout",
          "text": [
            "Enter the first number : 5\n",
            "Enter the second number : 10\n",
            "24\n"
          ]
        }
      ]
    },
    {
      "cell_type": "markdown",
      "source": [
        "- Example for continue statement"
      ],
      "metadata": {
        "id": "i24Ku-q17fzW"
      }
    },
    {
      "cell_type": "code",
      "source": [
        "i = 0\n",
        "\n",
        "while (i < 5):\n",
        "  i += 1\n",
        "  if (i == 3):\n",
        "    continue\n",
        "  print(i)"
      ],
      "metadata": {
        "id": "MBCv2dwB7lbF",
        "outputId": "341668ea-5fb3-4f01-f816-97680ced7f34",
        "colab": {
          "base_uri": "https://localhost:8080/"
        }
      },
      "execution_count": 25,
      "outputs": [
        {
          "output_type": "stream",
          "name": "stdout",
          "text": [
            "1\n",
            "2\n",
            "4\n",
            "5\n"
          ]
        }
      ]
    },
    {
      "cell_type": "markdown",
      "source": [
        "3. Break"
      ],
      "metadata": {
        "id": "sEHMPYTEAU_O"
      }
    },
    {
      "cell_type": "code",
      "source": [
        "i = 0\n",
        "\n",
        "while (i < 5):\n",
        "  i += 1\n",
        "  if (i == 3):\n",
        "    break\n",
        "  print(i)"
      ],
      "metadata": {
        "id": "naaD_HUX7jmG",
        "outputId": "f236b799-1e11-4f8c-8563-b1b7fbe3701a",
        "colab": {
          "base_uri": "https://localhost:8080/"
        }
      },
      "execution_count": 26,
      "outputs": [
        {
          "output_type": "stream",
          "name": "stdout",
          "text": [
            "1\n",
            "2\n"
          ]
        }
      ]
    },
    {
      "cell_type": "markdown",
      "source": [
        "4. Pass"
      ],
      "metadata": {
        "id": "2yDDrDrPBOrq"
      }
    },
    {
      "cell_type": "code",
      "source": [
        "i = 4\n",
        "\n",
        "if (i % 2 == 0):\n",
        "  pass\n",
        "else:\n",
        "  print(\"Number is odd\")"
      ],
      "metadata": {
        "id": "go5qDd73BQXM"
      },
      "execution_count": 28,
      "outputs": []
    }
  ]
}