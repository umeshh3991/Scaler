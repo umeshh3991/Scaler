{
  "nbformat": 4,
  "nbformat_minor": 0,
  "metadata": {
    "colab": {
      "provenance": [],
      "authorship_tag": "ABX9TyPZxYiH+8vkyi8d7wjLI3lj",
      "include_colab_link": true
    },
    "kernelspec": {
      "name": "python3",
      "display_name": "Python 3"
    },
    "language_info": {
      "name": "python"
    }
  },
  "cells": [
    {
      "cell_type": "markdown",
      "metadata": {
        "id": "view-in-github",
        "colab_type": "text"
      },
      "source": [
        "<a href=\"https://colab.research.google.com/github/umeshh3991/Scaler/blob/Module-3/Mod_4_Lec_2_Searching.ipynb\" target=\"_parent\"><img src=\"https://colab.research.google.com/assets/colab-badge.svg\" alt=\"Open In Colab\"/></a>"
      ]
    },
    {
      "cell_type": "markdown",
      "source": [
        "Q. Given a list of students and a target student.\n",
        "  - Write a function which prints the index of the target in the list\n",
        "  - If target is not present, it should print -1"
      ],
      "metadata": {
        "id": "NzFu_0zac2Fm"
      }
    },
    {
      "cell_type": "markdown",
      "source": [
        "## Linear Search"
      ],
      "metadata": {
        "id": "oJBCRjVreZ1U"
      }
    },
    {
      "cell_type": "code",
      "execution_count": null,
      "metadata": {
        "id": "mHrWo0gXPiSs",
        "outputId": "12012eed-8884-4556-9e1f-659fbf8b6fa7",
        "colab": {
          "base_uri": "https://localhost:8080/"
        }
      },
      "outputs": [
        {
          "output_type": "execute_result",
          "data": {
            "text/plain": [
              "[1]"
            ]
          },
          "metadata": {},
          "execution_count": 15
        }
      ],
      "source": [
        "name = [\"Sunitha\",\"Kapil\",\"Vishnu\",\"Suraj\",\"Anup\",\"Pranav\"]\n",
        "\n",
        "[i for i in range(len(name)) if name[i] == \"Kapil\"]"
      ]
    },
    {
      "cell_type": "markdown",
      "source": [
        "Use Function for above question"
      ],
      "metadata": {
        "id": "y3Ott7XTgj4l"
      }
    },
    {
      "cell_type": "code",
      "source": [
        "def linear_search(name,tar):\n",
        "  [print(i) for i in range(len(name)) if name[i] == tar]\n",
        "\n",
        "linear_search([\"Sunitha\",\"Kapil\",\"Vishnu\",\"Suraj\",\"Anup\",\"Pranav\"],\"Kapil\")"
      ],
      "metadata": {
        "id": "-FSropMdgnCy",
        "outputId": "2c009a9a-a789-4a65-a75a-42fdff911ab3",
        "colab": {
          "base_uri": "https://localhost:8080/"
        }
      },
      "execution_count": null,
      "outputs": [
        {
          "output_type": "stream",
          "name": "stdout",
          "text": [
            "1\n"
          ]
        }
      ]
    },
    {
      "cell_type": "markdown",
      "source": [
        "## Enumerate() Function"
      ],
      "metadata": {
        "id": "WIc7-zEmldyF"
      }
    },
    {
      "cell_type": "code",
      "source": [
        "stud = [\"Sunitha\",\"Kapil\",\"Vishnu\",\"Suraj\",\"Anup\",\"Pranav\"]\n",
        "\n",
        "for x in enumerate(stud):\n",
        "  print(x)"
      ],
      "metadata": {
        "id": "_njSjP2klg83",
        "outputId": "6892d6ad-c0f5-4286-811a-ee8faeb3540c",
        "colab": {
          "base_uri": "https://localhost:8080/"
        }
      },
      "execution_count": null,
      "outputs": [
        {
          "output_type": "stream",
          "name": "stdout",
          "text": [
            "(0, 'Sunitha')\n",
            "(1, 'Kapil')\n",
            "(2, 'Vishnu')\n",
            "(3, 'Suraj')\n",
            "(4, 'Anup')\n",
            "(5, 'Pranav')\n"
          ]
        }
      ]
    },
    {
      "cell_type": "markdown",
      "source": [
        "- Same linear search question usinf enumerate()"
      ],
      "metadata": {
        "id": "JQkUKOyWl9ld"
      }
    },
    {
      "cell_type": "code",
      "source": [
        "def linear_search(name,tar):\n",
        "  [print(i) for i, value in enumerate(name) if value == tar]\n",
        "\n",
        "linear_search([\"Sunitha\",\"Kapil\",\"Vishnu\",\"Suraj\",\"Anup\",\"Pranav\"],\"Kapil\")"
      ],
      "metadata": {
        "id": "pPRkWrp2l6RW",
        "outputId": "841a5c4b-c518-4e19-b141-106f0b0080c3",
        "colab": {
          "base_uri": "https://localhost:8080/"
        }
      },
      "execution_count": null,
      "outputs": [
        {
          "output_type": "stream",
          "name": "stdout",
          "text": [
            "1\n"
          ]
        }
      ]
    },
    {
      "cell_type": "markdown",
      "source": [
        "## Binary Search"
      ],
      "metadata": {
        "id": "pWv_JbMx2mT6"
      }
    },
    {
      "cell_type": "markdown",
      "source": [
        "Q. Find the target element from the list using Binary Search"
      ],
      "metadata": {
        "id": "uMNy9mng8P0R"
      }
    },
    {
      "cell_type": "code",
      "source": [
        "def binary_search(arr,target):\n",
        "  start = 0\n",
        "  end = len(arr)\n",
        "  middle_element = len(arr)//2\n",
        "\n",
        "  while(start != end):\n",
        "    if target == arr[middle_element]:\n",
        "      return middle_element\n",
        "    elif target > arr[middle_element]:\n",
        "      start = middle_element\n",
        "      end = len(arr)\n",
        "      middle_element = (start+end)//2\n",
        "    else:\n",
        "      start = 0\n",
        "      end = middle_element\n",
        "      middle_element = (start+end)//2\n",
        "\n",
        "my_arr = [7, 16, 25, 38, 92, 105, 210, 420]\n",
        "my_target = 105\n",
        "\n",
        "binary_search(my_arr,my_target)"
      ],
      "metadata": {
        "id": "uz5K2cX62oDV",
        "outputId": "46c78ef0-5d28-4bfe-98ee-beeae6e67304",
        "colab": {
          "base_uri": "https://localhost:8080/"
        }
      },
      "execution_count": null,
      "outputs": [
        {
          "output_type": "execute_result",
          "data": {
            "text/plain": [
              "5"
            ]
          },
          "metadata": {},
          "execution_count": 110
        }
      ]
    },
    {
      "cell_type": "code",
      "source": [
        "def binary_search1(arr,target):\n",
        "  start = 0\n",
        "  end = len(arr)\n",
        "\n",
        "  while (start <= end):\n",
        "    mid = (start + end)//2\n",
        "    if target == arr[mid]:\n",
        "      return mid\n",
        "    elif target > arr[mid]:\n",
        "      start = mid + 1\n",
        "    else:\n",
        "      end = mid - 1\n",
        "\n",
        "  return -1\n",
        "\n",
        "my_arr1 = [4, 5, 9, 16, 25, 78, 90]\n",
        "mytarget1 = 67\n",
        "\n",
        "binary_search1(my_arr1,mytarget1)"
      ],
      "metadata": {
        "id": "yV_v-H8KVDSY",
        "outputId": "3d009108-3ca4-40d1-90e3-93570cb7cd01",
        "colab": {
          "base_uri": "https://localhost:8080/"
        }
      },
      "execution_count": 1,
      "outputs": [
        {
          "output_type": "execute_result",
          "data": {
            "text/plain": [
              "-1"
            ]
          },
          "metadata": {},
          "execution_count": 1
        }
      ]
    },
    {
      "cell_type": "markdown",
      "source": [
        "Q. Find the target element from the list using Binary Search where the array is sorted in descending order. Also provide the number of Iterations\n"
      ],
      "metadata": {
        "id": "yX3S156Jp9sk"
      }
    },
    {
      "cell_type": "code",
      "source": [
        "def binary_searh_des(desc_arr,target):\n",
        "  start = 0\n",
        "  end = len(desc_arr)\n",
        "  count = 0\n",
        "\n",
        "  while start < end:\n",
        "    count += 1\n",
        "    print(\"Iteration # : \",count)\n",
        "\n",
        "    mid_element = (start + end)//2\n",
        "\n",
        "    if target  == desc_arr[mid_element]:\n",
        "      return mid_element\n",
        "\n",
        "    elif target > desc_arr[mid_element]:\n",
        "      end = mid_element - 1\n",
        "\n",
        "    else:\n",
        "      start = mid_element + 1\n",
        "\n",
        "  return -1\n",
        "\n",
        "my_array = [100, 90, 78, 56, 34, 12, 7, 4, 3, 1]\n",
        "my_target_ele = 1\n",
        "\n",
        "binary_searh_des(my_array,my_target_ele)"
      ],
      "metadata": {
        "id": "oLXrbwOwVTiD",
        "outputId": "2b227c60-88ec-43f0-ea82-3c71e0ef7f82",
        "colab": {
          "base_uri": "https://localhost:8080/"
        }
      },
      "execution_count": 22,
      "outputs": [
        {
          "output_type": "stream",
          "name": "stdout",
          "text": [
            "Iteration # :  1\n",
            "Iteration # :  2\n",
            "Iteration # :  3\n"
          ]
        },
        {
          "output_type": "execute_result",
          "data": {
            "text/plain": [
              "9"
            ]
          },
          "metadata": {},
          "execution_count": 22
        }
      ]
    },
    {
      "cell_type": "markdown",
      "source": [
        "Q. Find the target name from the list using Binary Search. Also provide the number of Iterations\n"
      ],
      "metadata": {
        "id": "zDzRTEmgyJST"
      }
    },
    {
      "cell_type": "code",
      "source": [
        "def binary_search_name(name,target_name):\n",
        "\n",
        "  start = 0\n",
        "  end = len(name)\n",
        "  count = 0\n",
        "\n",
        "  while start <= end:\n",
        "\n",
        "    count += 1\n",
        "    print(\"Iteration #\",count)\n",
        "\n",
        "    mid = (start + end)//2\n",
        "\n",
        "    if target_name == name[mid]:\n",
        "      return mid\n",
        "\n",
        "    elif target_name > name[mid]:\n",
        "      start = mid + 1\n",
        "\n",
        "    else:\n",
        "      end = mid - 1\n",
        "\n",
        "  return -1"
      ],
      "metadata": {
        "id": "ksduV-hEyQ54"
      },
      "execution_count": 53,
      "outputs": []
    },
    {
      "cell_type": "code",
      "source": [
        "name_list = sorted([\"Pravin\", \"Rushi\", \"Dipesh\", \"sushant\", \"Hrithik\", \"Prakhil\", \"Ajay\", \"Anup\", \"Alok\", \"Dharam\", \"Sunny\", \"Bobby\", \"Mukesh\", \"Umesh\"])\n",
        "print(name_list)\n",
        "my_searh_name = \"Alok\""
      ],
      "metadata": {
        "id": "OJs5Z91b8uYg",
        "outputId": "1fd44430-7434-4ad8-9947-a928eb0279c6",
        "colab": {
          "base_uri": "https://localhost:8080/"
        }
      },
      "execution_count": 56,
      "outputs": [
        {
          "output_type": "stream",
          "name": "stdout",
          "text": [
            "['Ajay', 'Alok', 'Anup', 'Bobby', 'Dharam', 'Dipesh', 'Hrithik', 'Mukesh', 'Prakhil', 'Pravin', 'Rushi', 'Sunny', 'Umesh', 'sushant']\n"
          ]
        }
      ]
    },
    {
      "cell_type": "code",
      "source": [
        "binary_search_name(name_list,my_searh_name)"
      ],
      "metadata": {
        "id": "SLbP2NII8xPj",
        "outputId": "9bfc4456-11fe-456d-aa20-6bd8ff5972c9",
        "colab": {
          "base_uri": "https://localhost:8080/"
        }
      },
      "execution_count": 57,
      "outputs": [
        {
          "output_type": "stream",
          "name": "stdout",
          "text": [
            "Iteration # 1\n",
            "Iteration # 2\n",
            "Iteration # 3\n"
          ]
        },
        {
          "output_type": "execute_result",
          "data": {
            "text/plain": [
              "1"
            ]
          },
          "metadata": {},
          "execution_count": 57
        }
      ]
    }
  ]
}