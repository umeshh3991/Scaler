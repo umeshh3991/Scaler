{
  "nbformat": 4,
  "nbformat_minor": 0,
  "metadata": {
    "colab": {
      "provenance": [],
      "authorship_tag": "ABX9TyPYHSC0wPffuSzBSqiMw4ov",
      "include_colab_link": true
    },
    "kernelspec": {
      "name": "python3",
      "display_name": "Python 3"
    },
    "language_info": {
      "name": "python"
    }
  },
  "cells": [
    {
      "cell_type": "markdown",
      "metadata": {
        "id": "view-in-github",
        "colab_type": "text"
      },
      "source": [
        "<a href=\"https://colab.research.google.com/github/umeshh3991/Scaler/blob/Module-3/Mod_4_Lec_2_Searching.ipynb\" target=\"_parent\"><img src=\"https://colab.research.google.com/assets/colab-badge.svg\" alt=\"Open In Colab\"/></a>"
      ]
    },
    {
      "cell_type": "markdown",
      "source": [
        "Q. Given a list of students and a target student.\n",
        "  - Write a function which prints the index of the target in the list\n",
        "  - If target is not present, it should print -1"
      ],
      "metadata": {
        "id": "NzFu_0zac2Fm"
      }
    },
    {
      "cell_type": "markdown",
      "source": [
        "## Linear Search"
      ],
      "metadata": {
        "id": "oJBCRjVreZ1U"
      }
    },
    {
      "cell_type": "code",
      "execution_count": 15,
      "metadata": {
        "id": "mHrWo0gXPiSs",
        "outputId": "12012eed-8884-4556-9e1f-659fbf8b6fa7",
        "colab": {
          "base_uri": "https://localhost:8080/"
        }
      },
      "outputs": [
        {
          "output_type": "execute_result",
          "data": {
            "text/plain": [
              "[1]"
            ]
          },
          "metadata": {},
          "execution_count": 15
        }
      ],
      "source": [
        "name = [\"Sunitha\",\"Kapil\",\"Vishnu\",\"Suraj\",\"Anup\",\"Pranav\"]\n",
        "\n",
        "[i for i in range(len(name)) if name[i] == \"Kapil\"]"
      ]
    },
    {
      "cell_type": "markdown",
      "source": [
        "Use Function for above question"
      ],
      "metadata": {
        "id": "y3Ott7XTgj4l"
      }
    },
    {
      "cell_type": "code",
      "source": [
        "def linear_search(name,tar):\n",
        "  [print(i) for i in range(len(name)) if name[i] == tar]\n",
        "\n",
        "linear_search([\"Sunitha\",\"Kapil\",\"Vishnu\",\"Suraj\",\"Anup\",\"Pranav\"],\"Kapil\")"
      ],
      "metadata": {
        "id": "-FSropMdgnCy",
        "outputId": "2c009a9a-a789-4a65-a75a-42fdff911ab3",
        "colab": {
          "base_uri": "https://localhost:8080/"
        }
      },
      "execution_count": 32,
      "outputs": [
        {
          "output_type": "stream",
          "name": "stdout",
          "text": [
            "1\n"
          ]
        }
      ]
    },
    {
      "cell_type": "markdown",
      "source": [
        "## Enumerate() Function"
      ],
      "metadata": {
        "id": "WIc7-zEmldyF"
      }
    },
    {
      "cell_type": "code",
      "source": [
        "stud = [\"Sunitha\",\"Kapil\",\"Vishnu\",\"Suraj\",\"Anup\",\"Pranav\"]\n",
        "\n",
        "for x in enumerate(stud):\n",
        "  print(x)"
      ],
      "metadata": {
        "id": "_njSjP2klg83",
        "outputId": "6892d6ad-c0f5-4286-811a-ee8faeb3540c",
        "colab": {
          "base_uri": "https://localhost:8080/"
        }
      },
      "execution_count": 33,
      "outputs": [
        {
          "output_type": "stream",
          "name": "stdout",
          "text": [
            "(0, 'Sunitha')\n",
            "(1, 'Kapil')\n",
            "(2, 'Vishnu')\n",
            "(3, 'Suraj')\n",
            "(4, 'Anup')\n",
            "(5, 'Pranav')\n"
          ]
        }
      ]
    },
    {
      "cell_type": "markdown",
      "source": [
        "- Same linear search question usinf enumerate()"
      ],
      "metadata": {
        "id": "JQkUKOyWl9ld"
      }
    },
    {
      "cell_type": "code",
      "source": [
        "def linear_search(name,tar):\n",
        "  [print(i) for i, value in enumerate(name) if value == tar]\n",
        "\n",
        "linear_search([\"Sunitha\",\"Kapil\",\"Vishnu\",\"Suraj\",\"Anup\",\"Pranav\"],\"Kapil\")"
      ],
      "metadata": {
        "id": "pPRkWrp2l6RW",
        "outputId": "841a5c4b-c518-4e19-b141-106f0b0080c3",
        "colab": {
          "base_uri": "https://localhost:8080/"
        }
      },
      "execution_count": 35,
      "outputs": [
        {
          "output_type": "stream",
          "name": "stdout",
          "text": [
            "1\n"
          ]
        }
      ]
    },
    {
      "cell_type": "markdown",
      "source": [
        "## Binary Search"
      ],
      "metadata": {
        "id": "pWv_JbMx2mT6"
      }
    },
    {
      "cell_type": "code",
      "source": [],
      "metadata": {
        "id": "uz5K2cX62oDV"
      },
      "execution_count": null,
      "outputs": []
    }
  ]
}