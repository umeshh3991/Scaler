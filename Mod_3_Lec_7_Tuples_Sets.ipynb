{
  "nbformat": 4,
  "nbformat_minor": 0,
  "metadata": {
    "colab": {
      "provenance": [],
      "authorship_tag": "ABX9TyMAnNMM296PXmUZrta7HrR5",
      "include_colab_link": true
    },
    "kernelspec": {
      "name": "python3",
      "display_name": "Python 3"
    },
    "language_info": {
      "name": "python"
    }
  },
  "cells": [
    {
      "cell_type": "markdown",
      "metadata": {
        "id": "view-in-github",
        "colab_type": "text"
      },
      "source": [
        "<a href=\"https://colab.research.google.com/github/umeshh3991/Scaler/blob/Module-2/Mod_3_Lec_7_Tuples_Sets.ipynb\" target=\"_parent\"><img src=\"https://colab.research.google.com/assets/colab-badge.svg\" alt=\"Open In Colab\"/></a>"
      ]
    },
    {
      "cell_type": "markdown",
      "source": [
        "## Tuple"
      ],
      "metadata": {
        "id": "7FzPFqSpfLtv"
      }
    },
    {
      "cell_type": "code",
      "source": [
        "a = (5,9)\n",
        "\n",
        "c,d = a\n",
        "\n",
        "print(c)\n",
        "print(d)"
      ],
      "metadata": {
        "id": "0zwMXmyvfOY2",
        "outputId": "1f313b23-65f3-402c-8681-fe602fc32b66",
        "colab": {
          "base_uri": "https://localhost:8080/"
        }
      },
      "execution_count": 2,
      "outputs": [
        {
          "output_type": "stream",
          "name": "stdout",
          "text": [
            "5\n",
            "9\n"
          ]
        }
      ]
    },
    {
      "cell_type": "code",
      "execution_count": 4,
      "metadata": {
        "id": "uxqOlSz9dKH6",
        "outputId": "e4b94821-aa30-400f-b294-93ab2f5d58c0",
        "colab": {
          "base_uri": "https://localhost:8080/"
        }
      },
      "outputs": [
        {
          "output_type": "execute_result",
          "data": {
            "text/plain": [
              "(1, 2, 3, 4)"
            ]
          },
          "metadata": {},
          "execution_count": 4
        }
      ],
      "source": [
        "a = [1,2,3,4]\n",
        "\n",
        "b = tuple(a)\n",
        "b"
      ]
    },
    {
      "cell_type": "code",
      "source": [
        "str = \"scaler\"\n",
        "\n",
        "tup = tuple(str)\n",
        "tup"
      ],
      "metadata": {
        "id": "F3x73sVMfip1",
        "outputId": "f715e97d-f57f-450f-a597-c392bee1befb",
        "colab": {
          "base_uri": "https://localhost:8080/"
        }
      },
      "execution_count": 5,
      "outputs": [
        {
          "output_type": "execute_result",
          "data": {
            "text/plain": [
              "('s', 'c', 'a', 'l', 'e', 'r')"
            ]
          },
          "metadata": {},
          "execution_count": 5
        }
      ]
    },
    {
      "cell_type": "code",
      "source": [
        "len(tuple(range(1,10,2)))"
      ],
      "metadata": {
        "id": "GVVWp_mtf3ug",
        "outputId": "0d0ba00e-933e-4ccb-d715-d83b6e711d1f",
        "colab": {
          "base_uri": "https://localhost:8080/"
        }
      },
      "execution_count": 6,
      "outputs": [
        {
          "output_type": "execute_result",
          "data": {
            "text/plain": [
              "5"
            ]
          },
          "metadata": {},
          "execution_count": 6
        }
      ]
    },
    {
      "cell_type": "code",
      "source": [
        "tuple(range(1,10,2))"
      ],
      "metadata": {
        "id": "KVRaQRnsf-6_",
        "outputId": "a81ccbef-7b4f-4e8a-8c62-f5506e1eaca4",
        "colab": {
          "base_uri": "https://localhost:8080/"
        }
      },
      "execution_count": 7,
      "outputs": [
        {
          "output_type": "execute_result",
          "data": {
            "text/plain": [
              "(1, 3, 5, 7, 9)"
            ]
          },
          "metadata": {},
          "execution_count": 7
        }
      ]
    },
    {
      "cell_type": "code",
      "source": [
        "a = (1, 2, 3)\n",
        "b = (4, 5)\n",
        "print(id(a))\n",
        "\n",
        "a += b\n",
        "print(id(a))\n",
        "\n",
        "print(a)"
      ],
      "metadata": {
        "id": "-69vP22NgRMP",
        "outputId": "4a1996eb-8f23-48ab-e93a-fb887b001add",
        "colab": {
          "base_uri": "https://localhost:8080/"
        }
      },
      "execution_count": 10,
      "outputs": [
        {
          "output_type": "stream",
          "name": "stdout",
          "text": [
            "140356119930048\n",
            "140356119863808\n",
            "(1, 2, 3, 4, 5)\n"
          ]
        }
      ]
    },
    {
      "cell_type": "code",
      "source": [
        "# Here we are trying to append 4 on same address/container. Hence as tuple is immutable, code won't work\n",
        "\n",
        "a = (1,2,3)\n",
        "print(id(a))\n",
        "\n",
        "a.append(4)\n",
        "print(a)\n",
        "print(id(a))"
      ],
      "metadata": {
        "id": "ntRbxt5mibMu",
        "outputId": "665744d7-28c0-41a0-9715-7c82b883e7f5",
        "colab": {
          "base_uri": "https://localhost:8080/",
          "height": 228
        }
      },
      "execution_count": 11,
      "outputs": [
        {
          "output_type": "stream",
          "name": "stdout",
          "text": [
            "140356120364096\n"
          ]
        },
        {
          "output_type": "error",
          "ename": "AttributeError",
          "evalue": "'tuple' object has no attribute 'append'",
          "traceback": [
            "\u001b[0;31m---------------------------------------------------------------------------\u001b[0m",
            "\u001b[0;31mAttributeError\u001b[0m                            Traceback (most recent call last)",
            "\u001b[0;32m<ipython-input-11-9e95e15485b4>\u001b[0m in \u001b[0;36m<cell line: 4>\u001b[0;34m()\u001b[0m\n\u001b[1;32m      2\u001b[0m \u001b[0mprint\u001b[0m\u001b[0;34m(\u001b[0m\u001b[0mid\u001b[0m\u001b[0;34m(\u001b[0m\u001b[0ma\u001b[0m\u001b[0;34m)\u001b[0m\u001b[0;34m)\u001b[0m\u001b[0;34m\u001b[0m\u001b[0;34m\u001b[0m\u001b[0m\n\u001b[1;32m      3\u001b[0m \u001b[0;34m\u001b[0m\u001b[0m\n\u001b[0;32m----> 4\u001b[0;31m \u001b[0ma\u001b[0m\u001b[0;34m.\u001b[0m\u001b[0mappend\u001b[0m\u001b[0;34m(\u001b[0m\u001b[0;36m4\u001b[0m\u001b[0;34m)\u001b[0m\u001b[0;34m\u001b[0m\u001b[0;34m\u001b[0m\u001b[0m\n\u001b[0m\u001b[1;32m      5\u001b[0m \u001b[0mprint\u001b[0m\u001b[0;34m(\u001b[0m\u001b[0ma\u001b[0m\u001b[0;34m)\u001b[0m\u001b[0;34m\u001b[0m\u001b[0;34m\u001b[0m\u001b[0m\n\u001b[1;32m      6\u001b[0m \u001b[0mprint\u001b[0m\u001b[0;34m(\u001b[0m\u001b[0mid\u001b[0m\u001b[0;34m(\u001b[0m\u001b[0ma\u001b[0m\u001b[0;34m)\u001b[0m\u001b[0;34m)\u001b[0m\u001b[0;34m\u001b[0m\u001b[0;34m\u001b[0m\u001b[0m\n",
            "\u001b[0;31mAttributeError\u001b[0m: 'tuple' object has no attribute 'append'"
          ]
        }
      ]
    },
    {
      "cell_type": "code",
      "source": [
        "# Here we are trying to append 4 on same address/container. Hence as List is immutable, code will work\n",
        "\n",
        "a = [1,2,3]\n",
        "print(id(a))\n",
        "\n",
        "a.append(4)\n",
        "print(id(a))\n",
        "print(a)"
      ],
      "metadata": {
        "id": "YCQW204bjI5Y",
        "outputId": "9d33930e-2a74-48c6-b137-45309e694e22",
        "colab": {
          "base_uri": "https://localhost:8080/"
        }
      },
      "execution_count": 13,
      "outputs": [
        {
          "output_type": "stream",
          "name": "stdout",
          "text": [
            "140356119969536\n",
            "140356119969536\n",
            "[1, 2, 3, 4]\n"
          ]
        }
      ]
    },
    {
      "cell_type": "code",
      "source": [
        "# Trick question\n",
        "\n",
        "def foo(a):\n",
        "  a[0] = 100\n",
        "  print(a)\n",
        "  print(id(a))\n",
        "\n",
        "x = [1, 2, 3]\n",
        "foo(x)\n",
        "\n",
        "print(x)\n",
        "print(id(x))"
      ],
      "metadata": {
        "id": "6CkM2PzSnBbH",
        "outputId": "40faad21-2f84-4cf7-b32b-7cc66637b805",
        "colab": {
          "base_uri": "https://localhost:8080/"
        }
      },
      "execution_count": 17,
      "outputs": [
        {
          "output_type": "stream",
          "name": "stdout",
          "text": [
            "[100, 2, 3]\n",
            "140356119726592\n",
            "[100, 2, 3]\n",
            "140356119726592\n"
          ]
        }
      ]
    },
    {
      "cell_type": "markdown",
      "source": [
        "## SETS"
      ],
      "metadata": {
        "id": "GMVFIB6grWLq"
      }
    },
    {
      "cell_type": "code",
      "source": [
        "a = {1, 2, 3, 4, 4}\n",
        "a"
      ],
      "metadata": {
        "id": "aKViJ4w2rXOr",
        "outputId": "6ffa089d-7a91-416e-f190-fa9ac0059beb",
        "colab": {
          "base_uri": "https://localhost:8080/"
        }
      },
      "execution_count": 20,
      "outputs": [
        {
          "output_type": "execute_result",
          "data": {
            "text/plain": [
              "{1, 2, 3, 4}"
            ]
          },
          "metadata": {},
          "execution_count": 20
        }
      ]
    },
    {
      "cell_type": "code",
      "source": [
        "type(a)"
      ],
      "metadata": {
        "id": "7CBdtyhqrZJg",
        "outputId": "713f0433-7b0f-4975-ff07-8ae6cac57642",
        "colab": {
          "base_uri": "https://localhost:8080/"
        }
      },
      "execution_count": 19,
      "outputs": [
        {
          "output_type": "execute_result",
          "data": {
            "text/plain": [
              "set"
            ]
          },
          "metadata": {},
          "execution_count": 19
        }
      ]
    },
    {
      "cell_type": "code",
      "source": [
        "a = {1, 1, 1, 2}\n",
        "print(a)"
      ],
      "metadata": {
        "id": "NqfTiX_srZVI",
        "outputId": "b5b2a10c-60eb-49a6-bb92-b7b855657c10",
        "colab": {
          "base_uri": "https://localhost:8080/"
        }
      },
      "execution_count": 21,
      "outputs": [
        {
          "output_type": "stream",
          "name": "stdout",
          "text": [
            "{1, 2}\n"
          ]
        }
      ]
    },
    {
      "cell_type": "code",
      "source": [
        "a = {1, 2, 3}\n",
        "print(a[1])"
      ],
      "metadata": {
        "id": "UgzTFfR3rZeR",
        "outputId": "925a8850-cb31-4f58-ef69-8c24bf2ba59d",
        "colab": {
          "base_uri": "https://localhost:8080/",
          "height": 158
        }
      },
      "execution_count": 23,
      "outputs": [
        {
          "output_type": "error",
          "ename": "TypeError",
          "evalue": "'set' object is not subscriptable",
          "traceback": [
            "\u001b[0;31m---------------------------------------------------------------------------\u001b[0m",
            "\u001b[0;31mTypeError\u001b[0m                                 Traceback (most recent call last)",
            "\u001b[0;32m<ipython-input-23-13c7a6864475>\u001b[0m in \u001b[0;36m<cell line: 2>\u001b[0;34m()\u001b[0m\n\u001b[1;32m      1\u001b[0m \u001b[0ma\u001b[0m \u001b[0;34m=\u001b[0m \u001b[0;34m{\u001b[0m\u001b[0;36m1\u001b[0m\u001b[0;34m,\u001b[0m \u001b[0;36m2\u001b[0m\u001b[0;34m,\u001b[0m \u001b[0;36m3\u001b[0m\u001b[0;34m}\u001b[0m\u001b[0;34m\u001b[0m\u001b[0;34m\u001b[0m\u001b[0m\n\u001b[0;32m----> 2\u001b[0;31m \u001b[0mprint\u001b[0m\u001b[0;34m(\u001b[0m\u001b[0ma\u001b[0m\u001b[0;34m[\u001b[0m\u001b[0;36m1\u001b[0m\u001b[0;34m]\u001b[0m\u001b[0;34m)\u001b[0m\u001b[0;34m\u001b[0m\u001b[0;34m\u001b[0m\u001b[0m\n\u001b[0m",
            "\u001b[0;31mTypeError\u001b[0m: 'set' object is not subscriptable"
          ]
        }
      ]
    },
    {
      "cell_type": "code",
      "source": [
        "x = {1, 3, 9, 5, 2, 1}\n",
        "\n",
        "for i in x:\n",
        "  print(i)"
      ],
      "metadata": {
        "id": "3n2CCgyVsWrE",
        "outputId": "992c3168-509f-45eb-e60c-9448be62a114",
        "colab": {
          "base_uri": "https://localhost:8080/"
        }
      },
      "execution_count": 25,
      "outputs": [
        {
          "output_type": "stream",
          "name": "stdout",
          "text": [
            "1\n",
            "2\n",
            "3\n",
            "5\n",
            "9\n"
          ]
        }
      ]
    },
    {
      "cell_type": "markdown",
      "source": [
        "## Operations on Set"
      ],
      "metadata": {
        "id": "HxV16ItorZ5H"
      }
    },
    {
      "cell_type": "markdown",
      "source": [
        "1. Add()"
      ],
      "metadata": {
        "id": "F2twTIvJw_3K"
      }
    },
    {
      "cell_type": "code",
      "source": [
        "a = {1,2,3,4,5}"
      ],
      "metadata": {
        "id": "taDfeTVwxCsa"
      },
      "execution_count": 26,
      "outputs": []
    },
    {
      "cell_type": "code",
      "source": [
        "a.add(5)"
      ],
      "metadata": {
        "id": "vn7nae0OxJ3O"
      },
      "execution_count": 27,
      "outputs": []
    },
    {
      "cell_type": "markdown",
      "source": [
        "2. Clear()"
      ],
      "metadata": {
        "id": "2wjfrJrkxMEG"
      }
    },
    {
      "cell_type": "code",
      "source": [
        "a.clear()\n",
        "print(a)"
      ],
      "metadata": {
        "id": "jjjg-0HXxOMG",
        "outputId": "3e8d98db-2d03-44f4-f02a-89b6eab69bc0",
        "colab": {
          "base_uri": "https://localhost:8080/"
        }
      },
      "execution_count": 29,
      "outputs": [
        {
          "output_type": "stream",
          "name": "stdout",
          "text": [
            "set()\n"
          ]
        }
      ]
    },
    {
      "cell_type": "markdown",
      "source": [
        "3. Remove() and Len()"
      ],
      "metadata": {
        "id": "QT2WQa2vxX_G"
      }
    },
    {
      "cell_type": "code",
      "source": [
        "a = {123, 543, 123, 123123, 4567}\n",
        "print(len(a))"
      ],
      "metadata": {
        "id": "IdDjm14WxexA",
        "outputId": "4bc77b28-4554-4b82-974a-fb7d2353faf1",
        "colab": {
          "base_uri": "https://localhost:8080/"
        }
      },
      "execution_count": 33,
      "outputs": [
        {
          "output_type": "stream",
          "name": "stdout",
          "text": [
            "4\n"
          ]
        }
      ]
    },
    {
      "cell_type": "code",
      "source": [
        "a.remove(123)\n",
        "print(a)\n",
        "print(len(a))"
      ],
      "metadata": {
        "id": "3UdCEUAYxchR",
        "outputId": "69457c6b-20af-40bc-f88f-a48f4c1729dd",
        "colab": {
          "base_uri": "https://localhost:8080/"
        }
      },
      "execution_count": 34,
      "outputs": [
        {
          "output_type": "stream",
          "name": "stdout",
          "text": [
            "{123123, 543, 4567}\n",
            "3\n"
          ]
        }
      ]
    },
    {
      "cell_type": "code",
      "source": [
        "a = {1, 2, 3, 4}\n",
        "b = {3, 4, 5, 6}"
      ],
      "metadata": {
        "id": "2F45dBQQx8eP",
        "outputId": "22d34262-550c-41ba-84f7-129e0e471fda",
        "colab": {
          "base_uri": "https://localhost:8080/"
        }
      },
      "execution_count": 35,
      "outputs": [
        {
          "output_type": "execute_result",
          "data": {
            "text/plain": [
              "{3, 4}"
            ]
          },
          "metadata": {},
          "execution_count": 35
        }
      ]
    },
    {
      "cell_type": "markdown",
      "source": [
        "4. Intersection()"
      ],
      "metadata": {
        "id": "98FSHD4cyrb6"
      }
    },
    {
      "cell_type": "code",
      "source": [
        "a.intersection(b)\n",
        "\n",
        "a & b"
      ],
      "metadata": {
        "id": "OJo_lI9tx8mT",
        "outputId": "219ad632-c255-422d-d6cd-189500f7879b",
        "colab": {
          "base_uri": "https://localhost:8080/"
        }
      },
      "execution_count": 38,
      "outputs": [
        {
          "output_type": "execute_result",
          "data": {
            "text/plain": [
              "{3, 4}"
            ]
          },
          "metadata": {},
          "execution_count": 38
        }
      ]
    },
    {
      "cell_type": "markdown",
      "source": [
        "5. Union()"
      ],
      "metadata": {
        "id": "5NcQH78_yw7-"
      }
    },
    {
      "cell_type": "code",
      "source": [
        "a.union(b)\n",
        "\n",
        "a | b"
      ],
      "metadata": {
        "id": "zelKR2uHyyYw",
        "outputId": "9ba00a05-f320-40a2-f5c4-73b6f4ec6a48",
        "colab": {
          "base_uri": "https://localhost:8080/"
        }
      },
      "execution_count": 37,
      "outputs": [
        {
          "output_type": "execute_result",
          "data": {
            "text/plain": [
              "{1, 2, 3, 4, 5, 6}"
            ]
          },
          "metadata": {},
          "execution_count": 37
        }
      ]
    },
    {
      "cell_type": "markdown",
      "source": [
        "6. A-B"
      ],
      "metadata": {
        "id": "EhNtKq-0y1Au"
      }
    },
    {
      "cell_type": "code",
      "source": [
        "a-b"
      ],
      "metadata": {
        "id": "qhY2hgMty1Ox",
        "outputId": "d9602f41-0c50-418f-84a3-16dccb30aa82",
        "colab": {
          "base_uri": "https://localhost:8080/"
        }
      },
      "execution_count": 39,
      "outputs": [
        {
          "output_type": "execute_result",
          "data": {
            "text/plain": [
              "{1, 2}"
            ]
          },
          "metadata": {},
          "execution_count": 39
        }
      ]
    },
    {
      "cell_type": "code",
      "source": [
        "all_user_ids = [1, 2, 3, 4, 5, 6]\n",
        "trans_user_ids = [3, 2, 3, 2, 1, 5, 3, 1, 2, 3, 2]\n",
        "\n",
        "set(all_user_ids) - set(trans_user_ids)"
      ],
      "metadata": {
        "id": "IfLuonQJz0lu",
        "outputId": "360f2e8a-b78d-4975-dc21-f6fcec293a97",
        "colab": {
          "base_uri": "https://localhost:8080/"
        }
      },
      "execution_count": 41,
      "outputs": [
        {
          "output_type": "execute_result",
          "data": {
            "text/plain": [
              "{4, 6}"
            ]
          },
          "metadata": {},
          "execution_count": 41
        }
      ]
    }
  ]
}