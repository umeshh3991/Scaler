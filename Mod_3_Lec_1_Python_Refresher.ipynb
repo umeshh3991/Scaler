{
  "nbformat": 4,
  "nbformat_minor": 0,
  "metadata": {
    "colab": {
      "provenance": [],
      "authorship_tag": "ABX9TyM+krGsFmStwfxr+4gyzZX9",
      "include_colab_link": true
    },
    "kernelspec": {
      "name": "python3",
      "display_name": "Python 3"
    },
    "language_info": {
      "name": "python"
    }
  },
  "cells": [
    {
      "cell_type": "markdown",
      "metadata": {
        "id": "view-in-github",
        "colab_type": "text"
      },
      "source": [
        "<a href=\"https://colab.research.google.com/github/umeshh3991/Scaler/blob/Module-3/Mod_3_Lec_1_Python_Refresher.ipynb\" target=\"_parent\"><img src=\"https://colab.research.google.com/assets/colab-badge.svg\" alt=\"Open In Colab\"/></a>"
      ]
    },
    {
      "cell_type": "markdown",
      "source": [
        "## Comprehension"
      ],
      "metadata": {
        "id": "O296zNFhQAoJ"
      }
    },
    {
      "cell_type": "markdown",
      "source": [
        "Q. Print the squares of number from 1 to 10"
      ],
      "metadata": {
        "id": "U9TRu9_LQDpk"
      }
    },
    {
      "cell_type": "code",
      "source": [
        "arr = []\n",
        "\n",
        "for i in range(1,11):\n",
        "  arr.append(i**2)\n",
        "\n",
        "arr"
      ],
      "metadata": {
        "id": "F2JMoqcjQNXd",
        "outputId": "26863c94-3144-4668-81b8-7bf2246a8b07",
        "colab": {
          "base_uri": "https://localhost:8080/"
        }
      },
      "execution_count": 2,
      "outputs": [
        {
          "output_type": "execute_result",
          "data": {
            "text/plain": [
              "[1, 4, 9, 16, 25, 36, 49, 64, 81, 100]"
            ]
          },
          "metadata": {},
          "execution_count": 2
        }
      ]
    },
    {
      "cell_type": "markdown",
      "source": [
        "Q. Print the squares of number from 1 to 10 using List Comprehension"
      ],
      "metadata": {
        "id": "UZHleFLEQeXh"
      }
    },
    {
      "cell_type": "code",
      "execution_count": 4,
      "metadata": {
        "id": "kWQkDL9jPuQy",
        "outputId": "267926f6-d250-4ffc-baf5-14efba2bcf5a",
        "colab": {
          "base_uri": "https://localhost:8080/"
        }
      },
      "outputs": [
        {
          "output_type": "execute_result",
          "data": {
            "text/plain": [
              "[1, 4, 9, 16, 25, 36, 49, 64, 81, 100]"
            ]
          },
          "metadata": {},
          "execution_count": 4
        }
      ],
      "source": [
        "arr = [ i ** 2 for i in range (1,11)]\n",
        "\n",
        "arr"
      ]
    },
    {
      "cell_type": "markdown",
      "source": [
        "Q. Print the squares of number from 1 to 10 using Set Comprehension"
      ],
      "metadata": {
        "id": "0McZKvabSF1D"
      }
    },
    {
      "cell_type": "code",
      "source": [
        "arr = { i ** 2 for i in range (1,11)}\n",
        "\n",
        "arr"
      ],
      "metadata": {
        "id": "--UsJD7VSGfe",
        "outputId": "8fe82be1-adf0-4c17-a927-83291806dfd9",
        "colab": {
          "base_uri": "https://localhost:8080/"
        }
      },
      "execution_count": 5,
      "outputs": [
        {
          "output_type": "execute_result",
          "data": {
            "text/plain": [
              "{1, 4, 9, 16, 25, 36, 49, 64, 81, 100}"
            ]
          },
          "metadata": {},
          "execution_count": 5
        }
      ]
    },
    {
      "cell_type": "markdown",
      "source": [
        "Q. Print the squares of number from 1 to 10 using Dictionary Comprehension"
      ],
      "metadata": {
        "id": "P2vxXhg1SdRQ"
      }
    },
    {
      "cell_type": "code",
      "source": [
        "arr = { i : i ** 2 for i in range (1,11)}\n",
        "\n",
        "arr"
      ],
      "metadata": {
        "id": "dUB7t2d-Sds2",
        "outputId": "468b235c-6c98-4450-95e3-547a0cbf79f1",
        "colab": {
          "base_uri": "https://localhost:8080/"
        }
      },
      "execution_count": 6,
      "outputs": [
        {
          "output_type": "execute_result",
          "data": {
            "text/plain": [
              "{1: 1, 2: 4, 3: 9, 4: 16, 5: 25, 6: 36, 7: 49, 8: 64, 9: 81, 10: 100}"
            ]
          },
          "metadata": {},
          "execution_count": 6
        }
      ]
    },
    {
      "cell_type": "markdown",
      "source": [
        "Q. Print the squares of number from 1 to 10 using Generator Comprehension"
      ],
      "metadata": {
        "id": "UTQ-qNNoS09W"
      }
    },
    {
      "cell_type": "code",
      "source": [
        "arr =  (i ** 2 for i in range (1,11))\n",
        "\n",
        "print(arr)\n",
        "print(type(arr))"
      ],
      "metadata": {
        "id": "AalMTcgyS5IB",
        "outputId": "26994f4d-8105-4e17-a6c1-439df99c162b",
        "colab": {
          "base_uri": "https://localhost:8080/"
        }
      },
      "execution_count": 9,
      "outputs": [
        {
          "output_type": "stream",
          "name": "stdout",
          "text": [
            "<generator object <genexpr> at 0x7eda5b0983c0>\n",
            "<class 'generator'>\n"
          ]
        }
      ]
    },
    {
      "cell_type": "markdown",
      "source": [
        "## Iter()"
      ],
      "metadata": {
        "id": "CEHs_EErUDRH"
      }
    },
    {
      "cell_type": "code",
      "source": [
        "arr = [1, 2, 3]"
      ],
      "metadata": {
        "id": "XSDENKefUDp8"
      },
      "execution_count": 10,
      "outputs": []
    },
    {
      "cell_type": "code",
      "source": [
        "iter(arr)"
      ],
      "metadata": {
        "id": "uwU8EMkKUM8M",
        "outputId": "fb2dea71-a82d-4758-891d-f2a53c97b0ee",
        "colab": {
          "base_uri": "https://localhost:8080/"
        }
      },
      "execution_count": 11,
      "outputs": [
        {
          "output_type": "execute_result",
          "data": {
            "text/plain": [
              "<list_iterator at 0x7eda8c14f880>"
            ]
          },
          "metadata": {},
          "execution_count": 11
        }
      ]
    },
    {
      "cell_type": "markdown",
      "source": [
        "## Next()"
      ],
      "metadata": {
        "id": "oMoc3WI6UvkI"
      }
    },
    {
      "cell_type": "code",
      "source": [
        "arr = [1, 2, 3]\n",
        "\n",
        "it = iter(arr)"
      ],
      "metadata": {
        "id": "qCDnWWh5UmES"
      },
      "execution_count": 12,
      "outputs": []
    },
    {
      "cell_type": "code",
      "source": [
        "next(it)"
      ],
      "metadata": {
        "id": "jm-Uj_XBU6rl",
        "outputId": "86d00ed7-c71b-4b13-e866-67af2b34f1b6",
        "colab": {
          "base_uri": "https://localhost:8080/"
        }
      },
      "execution_count": 13,
      "outputs": [
        {
          "output_type": "execute_result",
          "data": {
            "text/plain": [
              "1"
            ]
          },
          "metadata": {},
          "execution_count": 13
        }
      ]
    },
    {
      "cell_type": "code",
      "source": [
        "next(it)"
      ],
      "metadata": {
        "id": "kwlTR45TU85w",
        "outputId": "645521ad-36ed-4644-ef34-e5bc826b4f99",
        "colab": {
          "base_uri": "https://localhost:8080/"
        }
      },
      "execution_count": 14,
      "outputs": [
        {
          "output_type": "execute_result",
          "data": {
            "text/plain": [
              "2"
            ]
          },
          "metadata": {},
          "execution_count": 14
        }
      ]
    },
    {
      "cell_type": "code",
      "source": [
        "next(it)"
      ],
      "metadata": {
        "id": "Jy5KGQnUU-jo",
        "outputId": "7339d401-79ea-4a30-d2ae-e7d2fe354462",
        "colab": {
          "base_uri": "https://localhost:8080/"
        }
      },
      "execution_count": 15,
      "outputs": [
        {
          "output_type": "execute_result",
          "data": {
            "text/plain": [
              "3"
            ]
          },
          "metadata": {},
          "execution_count": 15
        }
      ]
    }
  ]
}