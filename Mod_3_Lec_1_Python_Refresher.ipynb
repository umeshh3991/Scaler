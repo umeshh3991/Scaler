{
  "nbformat": 4,
  "nbformat_minor": 0,
  "metadata": {
    "colab": {
      "provenance": [],
      "authorship_tag": "ABX9TyM5IcepNaJAPIw0u9GBJ/VM",
      "include_colab_link": true
    },
    "kernelspec": {
      "name": "python3",
      "display_name": "Python 3"
    },
    "language_info": {
      "name": "python"
    }
  },
  "cells": [
    {
      "cell_type": "markdown",
      "metadata": {
        "id": "view-in-github",
        "colab_type": "text"
      },
      "source": [
        "<a href=\"https://colab.research.google.com/github/umeshh3991/Scaler/blob/Module-3/Mod_3_Lec_1_Python_Refresher.ipynb\" target=\"_parent\"><img src=\"https://colab.research.google.com/assets/colab-badge.svg\" alt=\"Open In Colab\"/></a>"
      ]
    },
    {
      "cell_type": "markdown",
      "source": [
        "## Comprehension"
      ],
      "metadata": {
        "id": "O296zNFhQAoJ"
      }
    },
    {
      "cell_type": "markdown",
      "source": [
        "Q. Print the squares of number from 1 to 10"
      ],
      "metadata": {
        "id": "U9TRu9_LQDpk"
      }
    },
    {
      "cell_type": "code",
      "source": [
        "arr = []\n",
        "\n",
        "for i in range(1,11):\n",
        "  arr.append(i**2)\n",
        "\n",
        "arr"
      ],
      "metadata": {
        "id": "F2JMoqcjQNXd",
        "outputId": "26863c94-3144-4668-81b8-7bf2246a8b07",
        "colab": {
          "base_uri": "https://localhost:8080/"
        }
      },
      "execution_count": null,
      "outputs": [
        {
          "output_type": "execute_result",
          "data": {
            "text/plain": [
              "[1, 4, 9, 16, 25, 36, 49, 64, 81, 100]"
            ]
          },
          "metadata": {},
          "execution_count": 2
        }
      ]
    },
    {
      "cell_type": "markdown",
      "source": [
        "Q. Print the squares of number from 1 to 10 using List Comprehension"
      ],
      "metadata": {
        "id": "UZHleFLEQeXh"
      }
    },
    {
      "cell_type": "code",
      "execution_count": null,
      "metadata": {
        "id": "kWQkDL9jPuQy",
        "outputId": "267926f6-d250-4ffc-baf5-14efba2bcf5a",
        "colab": {
          "base_uri": "https://localhost:8080/"
        }
      },
      "outputs": [
        {
          "output_type": "execute_result",
          "data": {
            "text/plain": [
              "[1, 4, 9, 16, 25, 36, 49, 64, 81, 100]"
            ]
          },
          "metadata": {},
          "execution_count": 4
        }
      ],
      "source": [
        "arr = [ i ** 2 for i in range (1,11)]\n",
        "\n",
        "arr"
      ]
    },
    {
      "cell_type": "markdown",
      "source": [
        "Q. Print the squares of number from 1 to 10 using Set Comprehension"
      ],
      "metadata": {
        "id": "0McZKvabSF1D"
      }
    },
    {
      "cell_type": "code",
      "source": [
        "arr = { i ** 2 for i in range (1,11)}\n",
        "\n",
        "arr"
      ],
      "metadata": {
        "id": "--UsJD7VSGfe",
        "outputId": "8fe82be1-adf0-4c17-a927-83291806dfd9",
        "colab": {
          "base_uri": "https://localhost:8080/"
        }
      },
      "execution_count": null,
      "outputs": [
        {
          "output_type": "execute_result",
          "data": {
            "text/plain": [
              "{1, 4, 9, 16, 25, 36, 49, 64, 81, 100}"
            ]
          },
          "metadata": {},
          "execution_count": 5
        }
      ]
    },
    {
      "cell_type": "markdown",
      "source": [
        "Q. Print the squares of number from 1 to 10 using Dictionary Comprehension"
      ],
      "metadata": {
        "id": "P2vxXhg1SdRQ"
      }
    },
    {
      "cell_type": "code",
      "source": [
        "arr = { i : i ** 2 for i in range (1,11)}\n",
        "\n",
        "arr"
      ],
      "metadata": {
        "id": "dUB7t2d-Sds2",
        "outputId": "468b235c-6c98-4450-95e3-547a0cbf79f1",
        "colab": {
          "base_uri": "https://localhost:8080/"
        }
      },
      "execution_count": null,
      "outputs": [
        {
          "output_type": "execute_result",
          "data": {
            "text/plain": [
              "{1: 1, 2: 4, 3: 9, 4: 16, 5: 25, 6: 36, 7: 49, 8: 64, 9: 81, 10: 100}"
            ]
          },
          "metadata": {},
          "execution_count": 6
        }
      ]
    },
    {
      "cell_type": "markdown",
      "source": [
        "Q. Print the squares of number from 1 to 10 using Generator Comprehension"
      ],
      "metadata": {
        "id": "UTQ-qNNoS09W"
      }
    },
    {
      "cell_type": "code",
      "source": [
        "arr =  (i ** 2 for i in range (1,11))\n",
        "\n",
        "print(arr)\n",
        "print(type(arr))"
      ],
      "metadata": {
        "id": "AalMTcgyS5IB",
        "outputId": "26994f4d-8105-4e17-a6c1-439df99c162b",
        "colab": {
          "base_uri": "https://localhost:8080/"
        }
      },
      "execution_count": null,
      "outputs": [
        {
          "output_type": "stream",
          "name": "stdout",
          "text": [
            "<generator object <genexpr> at 0x7eda5b0983c0>\n",
            "<class 'generator'>\n"
          ]
        }
      ]
    },
    {
      "cell_type": "markdown",
      "source": [
        "## Iter()"
      ],
      "metadata": {
        "id": "CEHs_EErUDRH"
      }
    },
    {
      "cell_type": "code",
      "source": [
        "arr = [1, 2, 3]"
      ],
      "metadata": {
        "id": "XSDENKefUDp8"
      },
      "execution_count": null,
      "outputs": []
    },
    {
      "cell_type": "code",
      "source": [
        "iter(arr)"
      ],
      "metadata": {
        "id": "uwU8EMkKUM8M",
        "outputId": "fb2dea71-a82d-4758-891d-f2a53c97b0ee",
        "colab": {
          "base_uri": "https://localhost:8080/"
        }
      },
      "execution_count": null,
      "outputs": [
        {
          "output_type": "execute_result",
          "data": {
            "text/plain": [
              "<list_iterator at 0x7eda8c14f880>"
            ]
          },
          "metadata": {},
          "execution_count": 11
        }
      ]
    },
    {
      "cell_type": "markdown",
      "source": [
        "## Next()"
      ],
      "metadata": {
        "id": "oMoc3WI6UvkI"
      }
    },
    {
      "cell_type": "code",
      "source": [
        "arr = [1, 2, 3]\n",
        "\n",
        "it = iter(arr)"
      ],
      "metadata": {
        "id": "qCDnWWh5UmES"
      },
      "execution_count": null,
      "outputs": []
    },
    {
      "cell_type": "code",
      "source": [
        "next(it)"
      ],
      "metadata": {
        "id": "jm-Uj_XBU6rl",
        "outputId": "86d00ed7-c71b-4b13-e866-67af2b34f1b6",
        "colab": {
          "base_uri": "https://localhost:8080/"
        }
      },
      "execution_count": null,
      "outputs": [
        {
          "output_type": "execute_result",
          "data": {
            "text/plain": [
              "1"
            ]
          },
          "metadata": {},
          "execution_count": 13
        }
      ]
    },
    {
      "cell_type": "code",
      "source": [
        "next(it)"
      ],
      "metadata": {
        "id": "kwlTR45TU85w",
        "outputId": "645521ad-36ed-4644-ef34-e5bc826b4f99",
        "colab": {
          "base_uri": "https://localhost:8080/"
        }
      },
      "execution_count": null,
      "outputs": [
        {
          "output_type": "execute_result",
          "data": {
            "text/plain": [
              "2"
            ]
          },
          "metadata": {},
          "execution_count": 14
        }
      ]
    },
    {
      "cell_type": "code",
      "source": [
        "next(it)"
      ],
      "metadata": {
        "id": "Jy5KGQnUU-jo",
        "outputId": "7339d401-79ea-4a30-d2ae-e7d2fe354462",
        "colab": {
          "base_uri": "https://localhost:8080/"
        }
      },
      "execution_count": null,
      "outputs": [
        {
          "output_type": "execute_result",
          "data": {
            "text/plain": [
              "3"
            ]
          },
          "metadata": {},
          "execution_count": 15
        }
      ]
    },
    {
      "cell_type": "markdown",
      "source": [
        "Q. fruits = [\"apple\", \"banana\", \"cherry\", \"kiwi\", \"mango\"]\n",
        "\n",
        "1.  newlist = [x  for x in fruits if x != \"apple\" ]\n",
        "\n",
        "2. newlist = [x if x != \"banana\" else \"orange\" for x in fruits]\n",
        "\n",
        "why in these examples 'if' statements are differently positioned?\n"
      ],
      "metadata": {
        "id": "QkA09r1GP_6G"
      }
    },
    {
      "cell_type": "code",
      "source": [
        "fruits = [\"apple\", \"banana\", \"cherry\", \"kiwi\", \"mango\"]"
      ],
      "metadata": {
        "id": "KlhzhicjQZiw"
      },
      "execution_count": 1,
      "outputs": []
    },
    {
      "cell_type": "code",
      "source": [
        "newlist = [x for x in fruits if x != \"apple\"]\n",
        "\n",
        "print(newlist)"
      ],
      "metadata": {
        "id": "Qs8pPSjOQfPC",
        "outputId": "9539ecc6-b25d-4e9f-d671-c25aa3cfed24",
        "colab": {
          "base_uri": "https://localhost:8080/"
        }
      },
      "execution_count": 4,
      "outputs": [
        {
          "output_type": "stream",
          "name": "stdout",
          "text": [
            "['banana', 'cherry', 'kiwi', 'mango']\n"
          ]
        }
      ]
    },
    {
      "cell_type": "code",
      "source": [
        "newlist = [x if x != \"banana\" else \"orange\" for x in fruits]\n",
        "print(newlist)"
      ],
      "metadata": {
        "id": "6KJdpi_JTTK4",
        "outputId": "c947fdb7-7f3d-4380-d4c3-1e0e3b920025",
        "colab": {
          "base_uri": "https://localhost:8080/"
        }
      },
      "execution_count": 6,
      "outputs": [
        {
          "output_type": "stream",
          "name": "stdout",
          "text": [
            "['apple', 'orange', 'cherry', 'kiwi', 'mango']\n"
          ]
        }
      ]
    },
    {
      "cell_type": "code",
      "source": [
        "newlist = [x for x in fruits if x != \"banana\" else \"orange\"]\n",
        "print(newlist)"
      ],
      "metadata": {
        "id": "WAtda2w9UiZE",
        "outputId": "d6cf6f80-1dab-492c-d453-ea0fd2f42c27",
        "colab": {
          "base_uri": "https://localhost:8080/",
          "height": 106
        }
      },
      "execution_count": 7,
      "outputs": [
        {
          "output_type": "error",
          "ename": "SyntaxError",
          "evalue": "invalid syntax (<ipython-input-7-7e81c728284a>, line 1)",
          "traceback": [
            "\u001b[0;36m  File \u001b[0;32m\"<ipython-input-7-7e81c728284a>\"\u001b[0;36m, line \u001b[0;32m1\u001b[0m\n\u001b[0;31m    newlist = [x for x in fruits if x != \"banana\" else \"orange\"]\u001b[0m\n\u001b[0m                                                  ^\u001b[0m\n\u001b[0;31mSyntaxError\u001b[0m\u001b[0;31m:\u001b[0m invalid syntax\n"
          ]
        }
      ]
    }
  ]
}