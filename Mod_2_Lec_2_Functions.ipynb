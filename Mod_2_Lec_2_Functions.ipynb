{
  "nbformat": 4,
  "nbformat_minor": 0,
  "metadata": {
    "colab": {
      "provenance": [],
      "authorship_tag": "ABX9TyNuIlmLzPP7YiCIGIHT7r6D",
      "include_colab_link": true
    },
    "kernelspec": {
      "name": "python3",
      "display_name": "Python 3"
    },
    "language_info": {
      "name": "python"
    }
  },
  "cells": [
    {
      "cell_type": "markdown",
      "metadata": {
        "id": "view-in-github",
        "colab_type": "text"
      },
      "source": [
        "<a href=\"https://colab.research.google.com/github/umeshh3991/Scaler/blob/Module-2/Mod_2_Lec_2_Functions.ipynb\" target=\"_parent\"><img src=\"https://colab.research.google.com/assets/colab-badge.svg\" alt=\"Open In Colab\"/></a>"
      ]
    },
    {
      "cell_type": "code",
      "source": [
        "def foo(a, b, c):\n",
        "  print(a)\n",
        "  print(b)\n",
        "  print(c)"
      ],
      "metadata": {
        "id": "OK44bewTjE6f"
      },
      "execution_count": 2,
      "outputs": []
    },
    {
      "cell_type": "code",
      "source": [
        "foo(1,2,3)"
      ],
      "metadata": {
        "id": "zMlNaTzHjPZz",
        "outputId": "e0dc51cc-d52f-4623-fcc2-679762b2d668",
        "colab": {
          "base_uri": "https://localhost:8080/"
        }
      },
      "execution_count": 3,
      "outputs": [
        {
          "output_type": "stream",
          "name": "stdout",
          "text": [
            "1\n",
            "2\n",
            "3\n"
          ]
        }
      ]
    },
    {
      "cell_type": "code",
      "source": [
        "foo(1,2)"
      ],
      "metadata": {
        "id": "3sqLqOQdjhv5",
        "outputId": "3b85cee6-926d-483d-e446-d22761a7f45e",
        "colab": {
          "base_uri": "https://localhost:8080/",
          "height": 141
        }
      },
      "execution_count": 4,
      "outputs": [
        {
          "output_type": "error",
          "ename": "TypeError",
          "evalue": "foo() missing 1 required positional argument: 'c'",
          "traceback": [
            "\u001b[0;31m---------------------------------------------------------------------------\u001b[0m",
            "\u001b[0;31mTypeError\u001b[0m                                 Traceback (most recent call last)",
            "\u001b[0;32m<ipython-input-4-49e36bfb7156>\u001b[0m in \u001b[0;36m<cell line: 1>\u001b[0;34m()\u001b[0m\n\u001b[0;32m----> 1\u001b[0;31m \u001b[0mfoo\u001b[0m\u001b[0;34m(\u001b[0m\u001b[0;36m1\u001b[0m\u001b[0;34m,\u001b[0m\u001b[0;36m2\u001b[0m\u001b[0;34m)\u001b[0m\u001b[0;34m\u001b[0m\u001b[0;34m\u001b[0m\u001b[0m\n\u001b[0m",
            "\u001b[0;31mTypeError\u001b[0m: foo() missing 1 required positional argument: 'c'"
          ]
        }
      ]
    },
    {
      "cell_type": "markdown",
      "source": [
        "## Default Formal Argument"
      ],
      "metadata": {
        "id": "_UC-vV6-kIW1"
      }
    },
    {
      "cell_type": "code",
      "source": [
        "def foo(a, b, c = 20):\n",
        "  print(a)\n",
        "  print(b)\n",
        "  print(c)"
      ],
      "metadata": {
        "id": "TCGicflIkHSH"
      },
      "execution_count": 5,
      "outputs": []
    },
    {
      "cell_type": "code",
      "source": [
        "foo(1,2,3)"
      ],
      "metadata": {
        "id": "bAFPZpfYkMVZ",
        "outputId": "e01d4bb7-7401-47a4-efa5-cb2aff743463",
        "colab": {
          "base_uri": "https://localhost:8080/"
        }
      },
      "execution_count": 6,
      "outputs": [
        {
          "output_type": "stream",
          "name": "stdout",
          "text": [
            "1\n",
            "2\n",
            "3\n"
          ]
        }
      ]
    },
    {
      "cell_type": "code",
      "source": [
        "foo(1,2)"
      ],
      "metadata": {
        "id": "ejui7QEjkOxp",
        "outputId": "6b565a68-6ee2-45ab-c73e-6cb485347609",
        "colab": {
          "base_uri": "https://localhost:8080/"
        }
      },
      "execution_count": 7,
      "outputs": [
        {
          "output_type": "stream",
          "name": "stdout",
          "text": [
            "1\n",
            "2\n",
            "20\n"
          ]
        }
      ]
    },
    {
      "cell_type": "markdown",
      "source": [
        "## Keyworded Actual Arguments"
      ],
      "metadata": {
        "id": "9hTrsKE1lRbD"
      }
    },
    {
      "cell_type": "code",
      "source": [
        "def foo(a, b, c):\n",
        "  print(a)\n",
        "  print(b)\n",
        "  print(c)"
      ],
      "metadata": {
        "id": "QMlmkBUFmxrq"
      },
      "execution_count": 10,
      "outputs": []
    },
    {
      "cell_type": "code",
      "source": [
        "foo(b = 2, a = 5, c = 40)"
      ],
      "metadata": {
        "id": "8rRq46Qam1BM",
        "outputId": "e9acebfd-a615-46fd-fe07-b01488e6ae99",
        "colab": {
          "base_uri": "https://localhost:8080/"
        }
      },
      "execution_count": 9,
      "outputs": [
        {
          "output_type": "stream",
          "name": "stdout",
          "text": [
            "5\n",
            "2\n",
            "40\n"
          ]
        }
      ]
    },
    {
      "cell_type": "markdown",
      "source": [
        "- Real World example for Keyworded actual args and Default Formal Args\n",
        "- Suppose we have a car manufacturing company where we check 3 parameters \"engine\", \"brand\" and \"transmission\" and then we have commonly same parameters like eng = bdis, brand = maruti and trans = manual\n",
        "- So how'z the code gonna be"
      ],
      "metadata": {
        "id": "y7Yfcp7boQff"
      }
    },
    {
      "cell_type": "code",
      "source": [
        "def car(engine = \"bdis\", brand = \"maruti\", transmission = \"manual\"):\n",
        "  print(engine)\n",
        "  print(brand)\n",
        "  print(transmission)"
      ],
      "metadata": {
        "id": "tScv4RyFo1Pi"
      },
      "execution_count": 13,
      "outputs": []
    },
    {
      "cell_type": "code",
      "source": [
        "car()"
      ],
      "metadata": {
        "id": "luxSOwi-ufdX",
        "outputId": "a6f9ec93-06e9-4841-f685-e54535459512",
        "colab": {
          "base_uri": "https://localhost:8080/"
        }
      },
      "execution_count": 14,
      "outputs": [
        {
          "output_type": "stream",
          "name": "stdout",
          "text": [
            "bdis\n",
            "maruti\n",
            "manual\n"
          ]
        }
      ]
    },
    {
      "cell_type": "code",
      "source": [
        "car(brand = \"Merc\", transmission=\"Auto\")"
      ],
      "metadata": {
        "id": "f1mNmKu1oZhD",
        "outputId": "9456cb35-315e-4d8c-9242-95dfc202defb",
        "colab": {
          "base_uri": "https://localhost:8080/"
        }
      },
      "execution_count": 16,
      "outputs": [
        {
          "output_type": "stream",
          "name": "stdout",
          "text": [
            "bdis\n",
            "Merc\n",
            "Auto\n"
          ]
        }
      ]
    },
    {
      "cell_type": "markdown",
      "source": [
        "## Packing Argumnets (*args)"
      ],
      "metadata": {
        "id": "ucxALJvpyx3A"
      }
    },
    {
      "cell_type": "code",
      "source": [
        "def foo(a, *b):\n",
        "  print(a)\n",
        "  print(b)\n",
        "  print(type(b))"
      ],
      "metadata": {
        "id": "ZRlnjHjcy3Db"
      },
      "execution_count": 17,
      "outputs": []
    },
    {
      "cell_type": "code",
      "source": [
        "foo(1,2,3,4,5)"
      ],
      "metadata": {
        "id": "E6a_PPSuzCEm",
        "outputId": "6059ece1-4d04-4f2e-c996-3002bb6f0a8f",
        "colab": {
          "base_uri": "https://localhost:8080/"
        }
      },
      "execution_count": 18,
      "outputs": [
        {
          "output_type": "stream",
          "name": "stdout",
          "text": [
            "1\n",
            "(2, 3, 4, 5)\n",
            "<class 'tuple'>\n"
          ]
        }
      ]
    },
    {
      "cell_type": "code",
      "source": [
        "def foo(a, *b, c):\n",
        "  print(a)\n",
        "  print(b)\n",
        "  print(c)"
      ],
      "metadata": {
        "id": "Tcpbeptfzrwp"
      },
      "execution_count": 19,
      "outputs": []
    },
    {
      "cell_type": "code",
      "source": [
        "foo(1, 2, 3, 4, 5)"
      ],
      "metadata": {
        "id": "Of2uFXfGz228",
        "outputId": "e55a4b54-6955-46df-b552-9208c6012e17",
        "colab": {
          "base_uri": "https://localhost:8080/",
          "height": 141
        }
      },
      "execution_count": 20,
      "outputs": [
        {
          "output_type": "error",
          "ename": "TypeError",
          "evalue": "foo() missing 1 required keyword-only argument: 'c'",
          "traceback": [
            "\u001b[0;31m---------------------------------------------------------------------------\u001b[0m",
            "\u001b[0;31mTypeError\u001b[0m                                 Traceback (most recent call last)",
            "\u001b[0;32m<ipython-input-20-71bb96608c82>\u001b[0m in \u001b[0;36m<cell line: 1>\u001b[0;34m()\u001b[0m\n\u001b[0;32m----> 1\u001b[0;31m \u001b[0mfoo\u001b[0m\u001b[0;34m(\u001b[0m\u001b[0;36m1\u001b[0m\u001b[0;34m,\u001b[0m \u001b[0;36m2\u001b[0m\u001b[0;34m,\u001b[0m \u001b[0;36m3\u001b[0m\u001b[0;34m,\u001b[0m \u001b[0;36m4\u001b[0m\u001b[0;34m,\u001b[0m \u001b[0;36m5\u001b[0m\u001b[0;34m)\u001b[0m\u001b[0;34m\u001b[0m\u001b[0;34m\u001b[0m\u001b[0m\n\u001b[0m",
            "\u001b[0;31mTypeError\u001b[0m: foo() missing 1 required keyword-only argument: 'c'"
          ]
        }
      ]
    },
    {
      "cell_type": "code",
      "source": [
        "foo(1, 2, 3, 4, c=5)"
      ],
      "metadata": {
        "id": "Qo6gvkMv0Fku",
        "outputId": "ab815a2a-4d06-4d51-e8f4-53efb4bbfa3e",
        "colab": {
          "base_uri": "https://localhost:8080/"
        }
      },
      "execution_count": 21,
      "outputs": [
        {
          "output_type": "stream",
          "name": "stdout",
          "text": [
            "1\n",
            "(2, 3, 4)\n",
            "5\n"
          ]
        }
      ]
    },
    {
      "cell_type": "markdown",
      "source": [
        "## Packing Keyworded Arguments (**kwargs)"
      ],
      "metadata": {
        "id": "cD88zR0z1T3D"
      }
    },
    {
      "cell_type": "code",
      "source": [
        "def foo(a, b, **kwargs):\n",
        "  print(a)\n",
        "  print(b)\n",
        "  print(kwargs)\n",
        "  print(kwargs[\"Company\"])"
      ],
      "metadata": {
        "id": "bWR9F-Q01Z8R"
      },
      "execution_count": 25,
      "outputs": []
    },
    {
      "cell_type": "code",
      "source": [
        "foo(b = 5, a = 6, name = \"Umesh\", Company = \"Aditya Birla\")"
      ],
      "metadata": {
        "id": "_TS4BJE312RA",
        "outputId": "1bc7b9bf-86ba-4e20-e83d-eb72b483c997",
        "colab": {
          "base_uri": "https://localhost:8080/"
        }
      },
      "execution_count": 26,
      "outputs": [
        {
          "output_type": "stream",
          "name": "stdout",
          "text": [
            "6\n",
            "5\n",
            "{'name': 'Umesh', 'Company': 'Aditya Birla'}\n",
            "Aditya Birla\n"
          ]
        }
      ]
    },
    {
      "cell_type": "markdown",
      "source": [
        "## Returning multiple values"
      ],
      "metadata": {
        "id": "xu9moaDbKBdG"
      }
    },
    {
      "cell_type": "code",
      "source": [
        "def foo(a,b):\n",
        "  return a**2, b**2"
      ],
      "metadata": {
        "id": "_fSaltabKEsQ"
      },
      "execution_count": 27,
      "outputs": []
    },
    {
      "cell_type": "code",
      "source": [
        "x = foo(2,4)"
      ],
      "metadata": {
        "id": "lXm6YGUuKMyR"
      },
      "execution_count": 29,
      "outputs": []
    },
    {
      "cell_type": "code",
      "source": [
        "print(x)\n",
        "type(x)"
      ],
      "metadata": {
        "id": "RFxm1cvnKW5d",
        "outputId": "5a958ac2-b167-432f-ed0a-c6ca9e98677e",
        "colab": {
          "base_uri": "https://localhost:8080/"
        }
      },
      "execution_count": 31,
      "outputs": [
        {
          "output_type": "stream",
          "name": "stdout",
          "text": [
            "(4, 16)\n"
          ]
        },
        {
          "output_type": "execute_result",
          "data": {
            "text/plain": [
              "tuple"
            ]
          },
          "metadata": {},
          "execution_count": 31
        }
      ]
    },
    {
      "cell_type": "code",
      "source": [
        "x, y = foo(5,6)\n",
        "print(y)"
      ],
      "metadata": {
        "id": "WWM1zh_PLN9Z",
        "outputId": "2a9ca25d-aedc-4f80-e6ec-0b1dc91ddd35",
        "colab": {
          "base_uri": "https://localhost:8080/"
        }
      },
      "execution_count": 33,
      "outputs": [
        {
          "output_type": "stream",
          "name": "stdout",
          "text": [
            "36\n"
          ]
        }
      ]
    },
    {
      "cell_type": "markdown",
      "source": [
        "## Unpacking"
      ],
      "metadata": {
        "id": "-EYqFUYfLhpB"
      }
    },
    {
      "cell_type": "code",
      "source": [
        "a = 1,2,3\n",
        "a"
      ],
      "metadata": {
        "id": "zoskWvKGLl5J",
        "outputId": "197aa869-7270-4102-d2f7-e454ddcfc523",
        "colab": {
          "base_uri": "https://localhost:8080/"
        }
      },
      "execution_count": 35,
      "outputs": [
        {
          "output_type": "execute_result",
          "data": {
            "text/plain": [
              "(1, 2, 3)"
            ]
          },
          "metadata": {},
          "execution_count": 35
        }
      ]
    },
    {
      "cell_type": "code",
      "source": [
        "x, y, z = a\n",
        "print(x)\n",
        "print(y)\n",
        "print(z)"
      ],
      "metadata": {
        "id": "l_rsKglBLnpZ",
        "outputId": "3a73a5d5-7430-4d7f-fef3-840e323b3d76",
        "colab": {
          "base_uri": "https://localhost:8080/"
        }
      },
      "execution_count": 38,
      "outputs": [
        {
          "output_type": "stream",
          "name": "stdout",
          "text": [
            "1\n",
            "2\n",
            "3\n"
          ]
        }
      ]
    },
    {
      "cell_type": "code",
      "source": [
        "x, y, z = (1,2)"
      ],
      "metadata": {
        "id": "IWeRghjoMh6i",
        "outputId": "bb6f7b4f-0682-4bba-a317-d348372345ad",
        "colab": {
          "base_uri": "https://localhost:8080/",
          "height": 141
        }
      },
      "execution_count": 40,
      "outputs": [
        {
          "output_type": "error",
          "ename": "ValueError",
          "evalue": "not enough values to unpack (expected 3, got 2)",
          "traceback": [
            "\u001b[0;31m---------------------------------------------------------------------------\u001b[0m",
            "\u001b[0;31mValueError\u001b[0m                                Traceback (most recent call last)",
            "\u001b[0;32m<ipython-input-40-f95460eb94ef>\u001b[0m in \u001b[0;36m<cell line: 1>\u001b[0;34m()\u001b[0m\n\u001b[0;32m----> 1\u001b[0;31m \u001b[0mx\u001b[0m\u001b[0;34m,\u001b[0m \u001b[0my\u001b[0m\u001b[0;34m,\u001b[0m \u001b[0mz\u001b[0m \u001b[0;34m=\u001b[0m \u001b[0;34m(\u001b[0m\u001b[0;36m1\u001b[0m\u001b[0;34m,\u001b[0m\u001b[0;36m2\u001b[0m\u001b[0;34m)\u001b[0m\u001b[0;34m\u001b[0m\u001b[0;34m\u001b[0m\u001b[0m\n\u001b[0m",
            "\u001b[0;31mValueError\u001b[0m: not enough values to unpack (expected 3, got 2)"
          ]
        }
      ]
    },
    {
      "cell_type": "code",
      "source": [
        "x, y, z = (1,2, 3, 4)"
      ],
      "metadata": {
        "id": "3bfghZjMM0mZ",
        "outputId": "0919a813-13f5-4f65-b225-24d16ae98625",
        "colab": {
          "base_uri": "https://localhost:8080/",
          "height": 141
        }
      },
      "execution_count": 41,
      "outputs": [
        {
          "output_type": "error",
          "ename": "ValueError",
          "evalue": "too many values to unpack (expected 3)",
          "traceback": [
            "\u001b[0;31m---------------------------------------------------------------------------\u001b[0m",
            "\u001b[0;31mValueError\u001b[0m                                Traceback (most recent call last)",
            "\u001b[0;32m<ipython-input-41-2204982d8ef3>\u001b[0m in \u001b[0;36m<cell line: 1>\u001b[0;34m()\u001b[0m\n\u001b[0;32m----> 1\u001b[0;31m \u001b[0mx\u001b[0m\u001b[0;34m,\u001b[0m \u001b[0my\u001b[0m\u001b[0;34m,\u001b[0m \u001b[0mz\u001b[0m \u001b[0;34m=\u001b[0m \u001b[0;34m(\u001b[0m\u001b[0;36m1\u001b[0m\u001b[0;34m,\u001b[0m\u001b[0;36m2\u001b[0m\u001b[0;34m,\u001b[0m \u001b[0;36m3\u001b[0m\u001b[0;34m,\u001b[0m \u001b[0;36m4\u001b[0m\u001b[0;34m)\u001b[0m\u001b[0;34m\u001b[0m\u001b[0;34m\u001b[0m\u001b[0m\n\u001b[0m",
            "\u001b[0;31mValueError\u001b[0m: too many values to unpack (expected 3)"
          ]
        }
      ]
    },
    {
      "cell_type": "code",
      "source": [
        "x, y, z = foo(5,6)\n",
        "print(z)"
      ],
      "metadata": {
        "id": "BOQ1yGMTLTAV",
        "outputId": "c157f1b9-e31e-4c07-a7da-ee3410bb3803",
        "colab": {
          "base_uri": "https://localhost:8080/",
          "height": 158
        }
      },
      "execution_count": 34,
      "outputs": [
        {
          "output_type": "error",
          "ename": "ValueError",
          "evalue": "not enough values to unpack (expected 3, got 2)",
          "traceback": [
            "\u001b[0;31m---------------------------------------------------------------------------\u001b[0m",
            "\u001b[0;31mValueError\u001b[0m                                Traceback (most recent call last)",
            "\u001b[0;32m<ipython-input-34-37a80c174a48>\u001b[0m in \u001b[0;36m<cell line: 1>\u001b[0;34m()\u001b[0m\n\u001b[0;32m----> 1\u001b[0;31m \u001b[0mx\u001b[0m\u001b[0;34m,\u001b[0m \u001b[0my\u001b[0m\u001b[0;34m,\u001b[0m \u001b[0mz\u001b[0m \u001b[0;34m=\u001b[0m \u001b[0mfoo\u001b[0m\u001b[0;34m(\u001b[0m\u001b[0;36m5\u001b[0m\u001b[0;34m,\u001b[0m\u001b[0;36m6\u001b[0m\u001b[0;34m)\u001b[0m\u001b[0;34m\u001b[0m\u001b[0;34m\u001b[0m\u001b[0m\n\u001b[0m\u001b[1;32m      2\u001b[0m \u001b[0mprint\u001b[0m\u001b[0;34m(\u001b[0m\u001b[0mz\u001b[0m\u001b[0;34m)\u001b[0m\u001b[0;34m\u001b[0m\u001b[0;34m\u001b[0m\u001b[0m\n",
            "\u001b[0;31mValueError\u001b[0m: not enough values to unpack (expected 3, got 2)"
          ]
        }
      ]
    },
    {
      "cell_type": "code",
      "source": [
        "x = 10\n",
        "def foo():\n",
        "  y = 20\n",
        "  def bar():\n",
        "    x = 30\n",
        "    print(y)\n",
        "  bar()\n",
        "  print(x)\n",
        "foo()\n",
        "print(x)"
      ],
      "metadata": {
        "id": "Elc8yX3RYwkJ",
        "outputId": "45abb1c6-6475-4255-89e7-e1e3a4986897",
        "colab": {
          "base_uri": "https://localhost:8080/"
        }
      },
      "execution_count": 43,
      "outputs": [
        {
          "output_type": "stream",
          "name": "stdout",
          "text": [
            "20\n",
            "10\n",
            "10\n"
          ]
        }
      ]
    },
    {
      "cell_type": "markdown",
      "source": [
        "H/W\n",
        "- Global Keywod\n",
        "- Non Local Keyword\n"
      ],
      "metadata": {
        "id": "dofHs-aKZrta"
      }
    },
    {
      "cell_type": "code",
      "source": [],
      "metadata": {
        "id": "zBaREmzrZyTB"
      },
      "execution_count": null,
      "outputs": []
    }
  ]
}