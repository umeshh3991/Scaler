{
  "nbformat": 4,
  "nbformat_minor": 0,
  "metadata": {
    "colab": {
      "provenance": [],
      "authorship_tag": "ABX9TyO3/yeaRpJtl/X5VDDs+yf4",
      "include_colab_link": true
    },
    "kernelspec": {
      "name": "python3",
      "display_name": "Python 3"
    },
    "language_info": {
      "name": "python"
    }
  },
  "cells": [
    {
      "cell_type": "markdown",
      "metadata": {
        "id": "view-in-github",
        "colab_type": "text"
      },
      "source": [
        "<a href=\"https://colab.research.google.com/github/umeshh3991/Scaler/blob/Module-2/Mod_2_Lec_8_Dictionaries.ipynb\" target=\"_parent\"><img src=\"https://colab.research.google.com/assets/colab-badge.svg\" alt=\"Open In Colab\"/></a>"
      ]
    },
    {
      "cell_type": "markdown",
      "source": [
        "## Dictionaries"
      ],
      "metadata": {
        "id": "KsMMm_5POUYF"
      }
    },
    {
      "cell_type": "code",
      "execution_count": 1,
      "metadata": {
        "id": "59FQJlDoOS94"
      },
      "outputs": [],
      "source": [
        "diction = {\n",
        "            'a' : 10,\n",
        "            'b' : 20\n",
        "          }"
      ]
    },
    {
      "cell_type": "code",
      "source": [
        "diction"
      ],
      "metadata": {
        "id": "DbO7pxJnQzPV",
        "outputId": "d28f2ab0-d896-46cf-9f75-431a50343c16",
        "colab": {
          "base_uri": "https://localhost:8080/"
        }
      },
      "execution_count": 2,
      "outputs": [
        {
          "output_type": "execute_result",
          "data": {
            "text/plain": [
              "{'a': 10, 'b': 20}"
            ]
          },
          "metadata": {},
          "execution_count": 2
        }
      ]
    },
    {
      "cell_type": "code",
      "source": [
        "a = {}\n",
        "type(a)"
      ],
      "metadata": {
        "id": "W0jlFk0ZQzY_",
        "outputId": "72e90051-a1c9-4a43-c338-f7a1815a6a1b",
        "colab": {
          "base_uri": "https://localhost:8080/"
        }
      },
      "execution_count": 3,
      "outputs": [
        {
          "output_type": "execute_result",
          "data": {
            "text/plain": [
              "dict"
            ]
          },
          "metadata": {},
          "execution_count": 3
        }
      ]
    },
    {
      "cell_type": "code",
      "source": [
        "s = set()\n",
        "type(s)"
      ],
      "metadata": {
        "id": "4sSJtK_1Qzg2",
        "outputId": "725adcc8-12da-4b34-c67d-9e9e52290868",
        "colab": {
          "base_uri": "https://localhost:8080/"
        }
      },
      "execution_count": 4,
      "outputs": [
        {
          "output_type": "execute_result",
          "data": {
            "text/plain": [
              "set"
            ]
          },
          "metadata": {},
          "execution_count": 4
        }
      ]
    },
    {
      "cell_type": "code",
      "source": [
        "dicti = {\n",
        "          'name' : 'Umesh',\n",
        "          'name' : 'Sushant',\n",
        "          'name' : 'Ankush',\n",
        "        }"
      ],
      "metadata": {
        "id": "Jmkqv0i6Q_jO"
      },
      "execution_count": 5,
      "outputs": []
    },
    {
      "cell_type": "code",
      "source": [
        "dicti"
      ],
      "metadata": {
        "id": "c0H3HSbbRRyd",
        "outputId": "31df61ec-2778-4b39-a98c-82fa8679872e",
        "colab": {
          "base_uri": "https://localhost:8080/"
        }
      },
      "execution_count": 7,
      "outputs": [
        {
          "output_type": "execute_result",
          "data": {
            "text/plain": [
              "{'name': 'Ankush'}"
            ]
          },
          "metadata": {},
          "execution_count": 7
        }
      ]
    },
    {
      "cell_type": "code",
      "source": [
        "state_wise_data = {\n",
        "                    \"Delhi\" : 400,\n",
        "                    \"Bangalore\" : 110,\n",
        "                    \"Mumbai\" : 89\n",
        "                  }"
      ],
      "metadata": {
        "id": "Tb5RR6tyR-sY"
      },
      "execution_count": 8,
      "outputs": []
    },
    {
      "cell_type": "code",
      "source": [
        "state_wise_data[\"Mumbai\"]"
      ],
      "metadata": {
        "id": "AtCI7qdzSekZ",
        "outputId": "6b980372-b46e-4d41-bfec-8156206a7478",
        "colab": {
          "base_uri": "https://localhost:8080/"
        }
      },
      "execution_count": 9,
      "outputs": [
        {
          "output_type": "execute_result",
          "data": {
            "text/plain": [
              "89"
            ]
          },
          "metadata": {},
          "execution_count": 9
        }
      ]
    },
    {
      "cell_type": "code",
      "source": [
        "state_wise_data.keys()"
      ],
      "metadata": {
        "id": "ZMKBdWE3WcnK",
        "outputId": "91de5e3f-473c-4283-f194-40c214c65b8a",
        "colab": {
          "base_uri": "https://localhost:8080/"
        }
      },
      "execution_count": 10,
      "outputs": [
        {
          "output_type": "execute_result",
          "data": {
            "text/plain": [
              "dict_keys(['Delhi', 'Bangalore', 'Mumbai'])"
            ]
          },
          "metadata": {},
          "execution_count": 10
        }
      ]
    },
    {
      "cell_type": "code",
      "source": [
        "state_wise_data.values()"
      ],
      "metadata": {
        "id": "4DoVjoYlWsd_",
        "outputId": "b4e510e6-5e3b-4d02-a9be-f5765d6d2bdb",
        "colab": {
          "base_uri": "https://localhost:8080/"
        }
      },
      "execution_count": 11,
      "outputs": [
        {
          "output_type": "execute_result",
          "data": {
            "text/plain": [
              "dict_values([400, 110, 89])"
            ]
          },
          "metadata": {},
          "execution_count": 11
        }
      ]
    },
    {
      "cell_type": "code",
      "source": [
        "for x in state_wise_data:\n",
        "  print(x)"
      ],
      "metadata": {
        "id": "7Xrv7uaMXB6K",
        "outputId": "815c4c73-5cca-4637-fdcc-edc68dc5243f",
        "colab": {
          "base_uri": "https://localhost:8080/"
        }
      },
      "execution_count": 12,
      "outputs": [
        {
          "output_type": "stream",
          "name": "stdout",
          "text": [
            "Delhi\n",
            "Bangalore\n",
            "Mumbai\n"
          ]
        }
      ]
    },
    {
      "cell_type": "code",
      "source": [
        "for x in state_wise_data:\n",
        "  print(x, \"==>\", state_wise_data[x])"
      ],
      "metadata": {
        "id": "QS__IZHeXCAh",
        "outputId": "7a252241-c3cd-4e93-e915-c86a57213264",
        "colab": {
          "base_uri": "https://localhost:8080/"
        }
      },
      "execution_count": 14,
      "outputs": [
        {
          "output_type": "stream",
          "name": "stdout",
          "text": [
            "Delhi ==> 400\n",
            "Bangalore ==> 110\n",
            "Mumbai ==> 89\n"
          ]
        }
      ]
    },
    {
      "cell_type": "code",
      "source": [
        "for x in state_wise_data.items():\n",
        "  print(x)"
      ],
      "metadata": {
        "id": "j-F22LZ_Xji6",
        "outputId": "c7305d0d-1e90-4123-d9e4-46142b91542e",
        "colab": {
          "base_uri": "https://localhost:8080/"
        }
      },
      "execution_count": 15,
      "outputs": [
        {
          "output_type": "stream",
          "name": "stdout",
          "text": [
            "('Delhi', 400)\n",
            "('Bangalore', 110)\n",
            "('Mumbai', 89)\n"
          ]
        }
      ]
    },
    {
      "cell_type": "code",
      "source": [
        "for key,value in state_wise_data.items():\n",
        "  print(key, \"==>\", value)"
      ],
      "metadata": {
        "id": "CItRfV2LXwId",
        "outputId": "262c38a1-1b9b-48b9-cd56-6f3de4898172",
        "colab": {
          "base_uri": "https://localhost:8080/"
        }
      },
      "execution_count": 17,
      "outputs": [
        {
          "output_type": "stream",
          "name": "stdout",
          "text": [
            "Delhi ==> 400\n",
            "Bangalore ==> 110\n",
            "Mumbai ==> 89\n"
          ]
        }
      ]
    },
    {
      "cell_type": "markdown",
      "source": [
        "## Mutable"
      ],
      "metadata": {
        "id": "ib5zzUwNYpZv"
      }
    },
    {
      "cell_type": "code",
      "source": [
        "id(state_wise_data)"
      ],
      "metadata": {
        "id": "Ty8sWdevYeKS",
        "outputId": "dae7a7af-e426-44a8-f4bc-bd02bb354f76",
        "colab": {
          "base_uri": "https://localhost:8080/"
        }
      },
      "execution_count": 18,
      "outputs": [
        {
          "output_type": "execute_result",
          "data": {
            "text/plain": [
              "136930146193920"
            ]
          },
          "metadata": {},
          "execution_count": 18
        }
      ]
    },
    {
      "cell_type": "code",
      "source": [
        "state_wise_data[\"Punjab\"] = 120\n",
        "print(state_wise_data)"
      ],
      "metadata": {
        "id": "h-kXGDwdYYau",
        "outputId": "3b141cf2-55ff-449a-daca-27a17ebbcda8",
        "colab": {
          "base_uri": "https://localhost:8080/"
        }
      },
      "execution_count": 19,
      "outputs": [
        {
          "output_type": "stream",
          "name": "stdout",
          "text": [
            "{'Delhi': 400, 'Bangalore': 110, 'Mumbai': 89, 'Punjab': 120}\n"
          ]
        }
      ]
    },
    {
      "cell_type": "code",
      "source": [
        "id(state_wise_data)"
      ],
      "metadata": {
        "id": "rs3FGJ5KYldm",
        "outputId": "f2aa3954-0e39-4e92-b1a3-d3dff9c0dbd4",
        "colab": {
          "base_uri": "https://localhost:8080/"
        }
      },
      "execution_count": 20,
      "outputs": [
        {
          "output_type": "execute_result",
          "data": {
            "text/plain": [
              "136930146193920"
            ]
          },
          "metadata": {},
          "execution_count": 20
        }
      ]
    },
    {
      "cell_type": "markdown",
      "source": [
        "- Pop Function"
      ],
      "metadata": {
        "id": "1p0jfVmbYsah"
      }
    },
    {
      "cell_type": "code",
      "source": [
        "state_wise_data.pop(\"Punjab\")"
      ],
      "metadata": {
        "id": "YdafqcFEY11z",
        "outputId": "78263204-496c-440e-b046-e9e85a7ab9e2",
        "colab": {
          "base_uri": "https://localhost:8080/"
        }
      },
      "execution_count": 21,
      "outputs": [
        {
          "output_type": "execute_result",
          "data": {
            "text/plain": [
              "120"
            ]
          },
          "metadata": {},
          "execution_count": 21
        }
      ]
    },
    {
      "cell_type": "code",
      "source": [
        "state_wise_data"
      ],
      "metadata": {
        "id": "QD50ocnZY7V8",
        "outputId": "a4196871-a0a6-46b0-a513-4fe014a2441b",
        "colab": {
          "base_uri": "https://localhost:8080/"
        }
      },
      "execution_count": 22,
      "outputs": [
        {
          "output_type": "execute_result",
          "data": {
            "text/plain": [
              "{'Delhi': 400, 'Bangalore': 110, 'Mumbai': 89}"
            ]
          },
          "metadata": {},
          "execution_count": 22
        }
      ]
    },
    {
      "cell_type": "markdown",
      "source": [
        "Q. Given a string S, you will have to count the occurance of all the alphabets"
      ],
      "metadata": {
        "id": "7Ahg49WbY_Cb"
      }
    },
    {
      "cell_type": "code",
      "source": [
        "s = \"this is a simple string\"\n",
        "freq_table = {char : 0 for char in \"abcdefghijklmnopqrstuvwxyz\"}\n",
        "freq_table"
      ],
      "metadata": {
        "collapsed": true,
        "id": "saTAgVbEaBaG",
        "outputId": "1e5d1e5a-81f9-4e87-c477-815fdb6ff26d",
        "colab": {
          "base_uri": "https://localhost:8080/"
        }
      },
      "execution_count": 24,
      "outputs": [
        {
          "output_type": "execute_result",
          "data": {
            "text/plain": [
              "{'a': 0,\n",
              " 'b': 0,\n",
              " 'c': 0,\n",
              " 'd': 0,\n",
              " 'e': 0,\n",
              " 'f': 0,\n",
              " 'g': 0,\n",
              " 'h': 0,\n",
              " 'i': 0,\n",
              " 'j': 0,\n",
              " 'k': 0,\n",
              " 'l': 0,\n",
              " 'm': 0,\n",
              " 'n': 0,\n",
              " 'o': 0,\n",
              " 'p': 0,\n",
              " 'q': 0,\n",
              " 'r': 0,\n",
              " 's': 0,\n",
              " 't': 0,\n",
              " 'u': 0,\n",
              " 'v': 0,\n",
              " 'w': 0,\n",
              " 'x': 0,\n",
              " 'y': 0,\n",
              " 'z': 0}"
            ]
          },
          "metadata": {},
          "execution_count": 24
        }
      ]
    },
    {
      "cell_type": "code",
      "source": [
        "for char in s:\n",
        "  if (char != \" \"):\n",
        "    freq_table[char] += 1"
      ],
      "metadata": {
        "id": "9S3JLeO_brbM"
      },
      "execution_count": 25,
      "outputs": []
    },
    {
      "cell_type": "code",
      "source": [
        "freq_table"
      ],
      "metadata": {
        "id": "gF4n06dTb6c5",
        "outputId": "c674e9d7-c2fb-4a77-d81e-3236167efba7",
        "colab": {
          "base_uri": "https://localhost:8080/"
        }
      },
      "execution_count": 26,
      "outputs": [
        {
          "output_type": "execute_result",
          "data": {
            "text/plain": [
              "{'a': 1,\n",
              " 'b': 0,\n",
              " 'c': 0,\n",
              " 'd': 0,\n",
              " 'e': 1,\n",
              " 'f': 0,\n",
              " 'g': 1,\n",
              " 'h': 1,\n",
              " 'i': 4,\n",
              " 'j': 0,\n",
              " 'k': 0,\n",
              " 'l': 1,\n",
              " 'm': 1,\n",
              " 'n': 1,\n",
              " 'o': 0,\n",
              " 'p': 1,\n",
              " 'q': 0,\n",
              " 'r': 1,\n",
              " 's': 4,\n",
              " 't': 2,\n",
              " 'u': 0,\n",
              " 'v': 0,\n",
              " 'w': 0,\n",
              " 'x': 0,\n",
              " 'y': 0,\n",
              " 'z': 0}"
            ]
          },
          "metadata": {},
          "execution_count": 26
        }
      ]
    },
    {
      "cell_type": "code",
      "source": [
        "s = \"this is a simple string\"\n",
        "freq_table = {}"
      ],
      "metadata": {
        "collapsed": true,
        "id": "CsZUBr3Pe-bV"
      },
      "execution_count": 32,
      "outputs": []
    },
    {
      "cell_type": "code",
      "source": [
        "for char in s:\n",
        "  if char in freq_table:\n",
        "    freq_table[char] += 1\n",
        "  else:\n",
        "    freq_table[char] = 1\n",
        "\n",
        "freq_table"
      ],
      "metadata": {
        "id": "NRmnz-XyfQET",
        "outputId": "335c6c83-4e63-484c-b220-c24c0246d577",
        "colab": {
          "base_uri": "https://localhost:8080/"
        }
      },
      "execution_count": 33,
      "outputs": [
        {
          "output_type": "execute_result",
          "data": {
            "text/plain": [
              "{'t': 2,\n",
              " 'h': 1,\n",
              " 'i': 4,\n",
              " 's': 4,\n",
              " ' ': 4,\n",
              " 'a': 1,\n",
              " 'm': 1,\n",
              " 'p': 1,\n",
              " 'l': 1,\n",
              " 'e': 1,\n",
              " 'r': 1,\n",
              " 'n': 1,\n",
              " 'g': 1}"
            ]
          },
          "metadata": {},
          "execution_count": 33
        }
      ]
    },
    {
      "cell_type": "markdown",
      "source": [
        "## Hashing"
      ],
      "metadata": {
        "id": "EmMTkeD6n86U"
      }
    },
    {
      "cell_type": "code",
      "source": [
        "import hashlib\n",
        "\n",
        "result = hashlib.md5(b'Umesh')\n",
        "\n",
        "print(result.hexdigest())"
      ],
      "metadata": {
        "id": "xj_9NIR9n-8Y",
        "outputId": "3b4a5a4e-ae61-4ddc-e2a0-2a21d7ae2f3c",
        "colab": {
          "base_uri": "https://localhost:8080/"
        }
      },
      "execution_count": 36,
      "outputs": [
        {
          "output_type": "stream",
          "name": "stdout",
          "text": [
            "d63b3302bc42393e012fe18fdcb8fcb1\n"
          ]
        }
      ]
    }
  ]
}